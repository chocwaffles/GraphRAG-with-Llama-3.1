{
  "cells": [
    {
      "cell_type": "markdown",
      "metadata": {
        "colab_type": "text",
        "id": "view-in-github"
      },
      "source": [
        "<a href=\"https://colab.research.google.com/github/tomasonjo/blogs/blob/master/llm/ms_graphrag.ipynb\" target=\"_parent\"><img src=\"https://colab.research.google.com/assets/colab-badge.svg\" alt=\"Open In Colab\"/></a>"
      ]
    },
    {
      "cell_type": "code",
      "execution_count": 1,
      "metadata": {
        "colab": {
          "base_uri": "https://localhost:8080/"
        },
        "id": "9K7S1j3FOoi0",
        "outputId": "0e6fd76d-1b4e-4eda-8a02-95468cd8158f"
      },
      "outputs": [
        {
          "name": "stdout",
          "output_type": "stream",
          "text": [
            "Note: you may need to restart the kernel to use updated packages.\n"
          ]
        }
      ],
      "source": [
        "%pip install --upgrade --quiet langchain-community pandas langchain-experimental langchain-openai neo4j graphdatascience pydantic tiktoken retry seaborn matplotlib\n",
        "# https://github.com/tomasonjo/blogs/blob/master/llm/ms_graphrag.ipynb\n"
      ]
    },
    {
      "cell_type": "markdown",
      "metadata": {
        "id": "dmnDlh4BeFJM"
      },
      "source": [
        "# GraphRAG with Neo4j and LangChain: Constructing the Graph\n",
        "## Combine text extraction, network analysis, and LLM prompting and summarization for improved RAG accuracy\n",
        "\n",
        "I am always intrigued by new approaches to implementing Retrieval-Augmented Generation (RAG) over graphs, often called GraphRAG. However, it seems that everyone has a different implementation in mind when they hear the term GraphRAG. In this blog post, we will dive deep into the “From Local to Global GraphRAG” article and implementation by Microsoft researchers. We will cover the knowledge graph construction and summarization part and leave the retrievers for the next blog post. The researchers were so kind as to provide us with the code repository, and they have a [project page](https://www.microsoft.com/en-us/research/project/graphrag/) as well.\n",
        "\n",
        "The approach taken in the article mentioned above is quite interesting. As far as I understand, it involves using a knowledge graph as a step in the pipeline for condensing and combining information from multiple sources. Extracting entities and relationships from text is nothing new. However, the authors introduce a novel (at least to me) idea of summarizing condensed graph structure and information back as natural language text. The pipeline begins with input text from documents, which are processed to generate a graph. The graph is then converted back into natural language text, where the generated text contains condensed information about specific entities or graph communities previously spread across multiple documents.\n",
        "\n",
        "![title](https://miro.medium.com/v2/resize:fit:1400/format:webp/1*NWkjGfKvWyKJsXfj-HxVjA.png)\n",
        "\n",
        "At a very high level, the input to the GraphRAG pipeline are source documents containing various information. The documents are processed using an LLM to extract structured information about entities appearing in the papers along with their relationships. This extracted structured information is then used to construct a knowledge graph.\n",
        "\n",
        "The advantage of using a knowledge graph data representation is that it can quickly and straightforwardly combine information from multiple documents or data sources about particular entities. As mentioned, the knowledge graph is not the only data representation, though. After the knowledge graph has been constructed, they use a combination of graph algorithms and LLM prompting to generate natural language summaries of communities of entities found in the knowledge graph.\n",
        "\n",
        "These summaries then contain condensed information spreading across multiple data sources and documents for particular entities and communities.\n",
        "\n",
        "For a more detailed understanding of the pipeline, we can refer to the step-by-step description provided in the original paper.\n",
        "\n",
        "![title](https://miro.medium.com/v2/resize:fit:942/format:webp/1*xn10XHns9xQ1WLQxEaSA7w.png)\n",
        "\n",
        "Following is a high-level summary of the pipeline that we will use to reproduce their approach using Neo4j and LangChain.\n",
        "\n",
        "* Indexing — Graph Generation\n",
        "Source Documents to Text Chunks: Source documents are split into smaller text chunks for processing.\n",
        "* Text Chunks to Element Instances: Each text chunk is analyzed to extract entities and relationships, producing a list of tuples representing these elements.\n",
        "* Element Instances to Element Summaries: Extracted entities and relationships are summarized by the LLM into descriptive text blocks for each element.\n",
        "* Element Summaries to Graph Communities: These entity summaries form a graph, which is then partitioned into communities using algorithms like Leiden for hierarchical structure.\n",
        "* Graph Communities to Community Summaries: Summaries of each community are generated with the LLM to understand the dataset’s global topical structure and semantics.\n",
        "\n",
        "#### Retrieval — Answering\n",
        "\n",
        "* Community Summaries to Global Answers: Community summaries are used to answer a user query by generating intermediate answers, which are then aggregated into a final global answer.\n",
        "Note that my implementation was done before their code was available, so there might be slight differences in the underlying approach or LLM prompts being used. I’ll try to explain those differences as we go along.\n",
        "\n",
        "### Setting Up the Neo4j Environment\n",
        "We will use Neo4j as the underlying graph store. The easiest way to get started is to use a free instance of Neo4j Sandbox, which offers cloud instances of the Neo4j database with the Graph Data Science plugin installed. Alternatively, you can set up a local instance of the Neo4j database by downloading the Neo4j Desktop application and creating a local database instance. If you are using a local version, make sure to install both APOC and GDS plugins. For production setups, you can use the paid, managed AuraDS (Data Science) instance, which provides the GDS plugin.\n",
        "\n",
        "We start by creating a Neo4jGraph instance, which is the convenience wrapper we added to LangChain:"
      ]
    },
    {
      "cell_type": "code",
      "execution_count": 9,
      "metadata": {
        "id": "wbCXrSxUPTIy"
      },
      "outputs": [],
      "source": [
        "#instantiate neo4j instance.\n",
        "from langchain_neo4j import Neo4jGraph\n",
        "graph = Neo4jGraph(refresh_schema=False)"
      ]
    },
    {
      "cell_type": "markdown",
      "metadata": {
        "id": "C2BE07dRfHf3"
      },
      "source": [
        "### Dataset\n",
        "We will use a news article dataset I created some time ago using Diffbot’s API. I have uploaded it to my GitHub for easier reuse:"
      ]
    },
    {
      "cell_type": "code",
      "execution_count": 53,
      "metadata": {
        "colab": {
          "base_uri": "https://localhost:8080/",
          "height": 206
        },
        "id": "VKwjKqPyP78d",
        "outputId": "0f470ee8-3298-4711-8bb1-57c495abd77e"
      },
      "outputs": [
        {
          "data": {
            "text/html": [
              "<div>\n",
              "<style scoped>\n",
              "    .dataframe tbody tr th:only-of-type {\n",
              "        vertical-align: middle;\n",
              "    }\n",
              "\n",
              "    .dataframe tbody tr th {\n",
              "        vertical-align: top;\n",
              "    }\n",
              "\n",
              "    .dataframe thead th {\n",
              "        text-align: right;\n",
              "    }\n",
              "</style>\n",
              "<table border=\"1\" class=\"dataframe\">\n",
              "  <thead>\n",
              "    <tr style=\"text-align: right;\">\n",
              "      <th></th>\n",
              "      <th>title</th>\n",
              "      <th>date</th>\n",
              "      <th>text</th>\n",
              "      <th>tokens</th>\n",
              "    </tr>\n",
              "  </thead>\n",
              "  <tbody>\n",
              "    <tr>\n",
              "      <th>0</th>\n",
              "      <td>Chevron: Best Of Breed</td>\n",
              "      <td>2031-04-06T01:36:32.000000000+00:00</td>\n",
              "      <td>JHVEPhoto Like many companies in the O&amp;G secto...</td>\n",
              "      <td>78</td>\n",
              "    </tr>\n",
              "    <tr>\n",
              "      <th>1</th>\n",
              "      <td>FirstEnergy (NYSE:FE) Posts Earnings Results</td>\n",
              "      <td>2030-04-29T06:55:28.000000000+00:00</td>\n",
              "      <td>FirstEnergy (NYSE:FE – Get Rating) posted its ...</td>\n",
              "      <td>130</td>\n",
              "    </tr>\n",
              "    <tr>\n",
              "      <th>2</th>\n",
              "      <td>Dáil almost suspended after Sinn Féin TD put p...</td>\n",
              "      <td>2023-06-15T14:32:11.000000000+00:00</td>\n",
              "      <td>The Dáil was almost suspended on Thursday afte...</td>\n",
              "      <td>631</td>\n",
              "    </tr>\n",
              "    <tr>\n",
              "      <th>3</th>\n",
              "      <td>Epic’s latest tool can animate hyperrealistic ...</td>\n",
              "      <td>2023-06-15T14:00:00.000000000+00:00</td>\n",
              "      <td>Today, Epic is releasing a new tool designed t...</td>\n",
              "      <td>528</td>\n",
              "    </tr>\n",
              "    <tr>\n",
              "      <th>4</th>\n",
              "      <td>EU to Ban Huawei, ZTE from Internal Commission...</td>\n",
              "      <td>2023-06-15T13:50:00.000000000+00:00</td>\n",
              "      <td>The European Commission is planning to ban equ...</td>\n",
              "      <td>281</td>\n",
              "    </tr>\n",
              "    <tr>\n",
              "      <th>5</th>\n",
              "      <td>Arsenal have Rice bid rejected, new Premier Le...</td>\n",
              "      <td>2023-06-15T13:31:42.000000000+00:00</td>\n",
              "      <td>Jude Bellingham has also insisted his move to ...</td>\n",
              "      <td>387</td>\n",
              "    </tr>\n",
              "    <tr>\n",
              "      <th>6</th>\n",
              "      <td>Ryanair sacks chief pilot over sexual miscondu...</td>\n",
              "      <td>2023-06-15T13:30:00.000000000+00:00</td>\n",
              "      <td>Reuters\\nRyanair has sacked its chief pilot af...</td>\n",
              "      <td>554</td>\n",
              "    </tr>\n",
              "    <tr>\n",
              "      <th>7</th>\n",
              "      <td>KeyBank’s American Fork Branch Celebrates One ...</td>\n",
              "      <td>2023-06-15T13:16:00.000000000+00:00</td>\n",
              "      <td>CLEVELAND, UT / ACCESSWIRE / June 15, 2023 / K...</td>\n",
              "      <td>749</td>\n",
              "    </tr>\n",
              "    <tr>\n",
              "      <th>8</th>\n",
              "      <td>Vivo X90s Officially Teased, Tipped to Run on ...</td>\n",
              "      <td>2023-06-15T13:07:00.000000000+00:00</td>\n",
              "      <td>Vivo X90s has been teased by Jia Jingdong, Viv...</td>\n",
              "      <td>705</td>\n",
              "    </tr>\n",
              "    <tr>\n",
              "      <th>9</th>\n",
              "      <td>XPeng Stock Rises. The Tesla Rival Rolled Out ...</td>\n",
              "      <td>2023-06-15T13:05:22.000000000+00:00</td>\n",
              "      <td>Chinese electric-vehicle maker\\nXPeng\\nsaid Th...</td>\n",
              "      <td>57</td>\n",
              "    </tr>\n",
              "    <tr>\n",
              "      <th>10</th>\n",
              "      <td>BofA Surpasses $500 Million in Equity Investme...</td>\n",
              "      <td>2023-06-15T13:05:00.000000000+00:00</td>\n",
              "      <td>Investments in Diverse-led Funds Result in Cap...</td>\n",
              "      <td>743</td>\n",
              "    </tr>\n",
              "    <tr>\n",
              "      <th>11</th>\n",
              "      <td>UnitedHealth's stock selloff chopped more than...</td>\n",
              "      <td>2023-06-15T13:02:00.000000000+00:00</td>\n",
              "      <td>Health insurer's stock suffers second-biggest ...</td>\n",
              "      <td>675</td>\n",
              "    </tr>\n",
              "    <tr>\n",
              "      <th>12</th>\n",
              "      <td>Houston Texans Come To Terms With Ex-Third-Rou...</td>\n",
              "      <td>2023-06-15T13:00:00.000000000+00:00</td>\n",
              "      <td>KEY POINTS\\nThe Texans have signed Maliek Coll...</td>\n",
              "      <td>623</td>\n",
              "    </tr>\n",
              "    <tr>\n",
              "      <th>13</th>\n",
              "      <td>NFL Rumors: What Patriots ‘Made Clear’ To DeAn...</td>\n",
              "      <td>2023-06-15T13:00:00.000000000+00:00</td>\n",
              "      <td>The Patriots apparently didn’t waste any time ...</td>\n",
              "      <td>353</td>\n",
              "    </tr>\n",
              "    <tr>\n",
              "      <th>14</th>\n",
              "      <td>The Deals: BMG Acquires The Hollies’ Recording...</td>\n",
              "      <td>2023-06-15T13:00:00.000000000+00:00</td>\n",
              "      <td>Also this week: ADA Worldwide signs a distribu...</td>\n",
              "      <td>736</td>\n",
              "    </tr>\n",
              "    <tr>\n",
              "      <th>15</th>\n",
              "      <td>Supplier.io and Hyatt Hotels Honored With 2023...</td>\n",
              "      <td>2023-06-15T13:00:00.000000000+00:00</td>\n",
              "      <td>CHICAGO, June 15, 2023 /PRNewswire/ -- Supplie...</td>\n",
              "      <td>737</td>\n",
              "    </tr>\n",
              "    <tr>\n",
              "      <th>16</th>\n",
              "      <td>Gordon McQueen, former Manchester United and L...</td>\n",
              "      <td>2023-06-15T13:00:00.000000000+00:00</td>\n",
              "      <td>MANCHESTER, England — Gordon McQueen, a defend...</td>\n",
              "      <td>445</td>\n",
              "    </tr>\n",
              "    <tr>\n",
              "      <th>17</th>\n",
              "      <td>GE Vernova selected by Amplus Solar for its fi...</td>\n",
              "      <td>2023-06-15T12:55:36.000000000+00:00</td>\n",
              "      <td>GE Vernova on Thursday said that it has been s...</td>\n",
              "      <td>417</td>\n",
              "    </tr>\n",
              "    <tr>\n",
              "      <th>18</th>\n",
              "      <td>Flipkart and Polygon Labs partner to introduce...</td>\n",
              "      <td>2023-06-15T12:53:54.000000000+00:00</td>\n",
              "      <td>E-commerce major Flipkart is partnering with W...</td>\n",
              "      <td>354</td>\n",
              "    </tr>\n",
              "    <tr>\n",
              "      <th>19</th>\n",
              "      <td>State Street (NYSE:STT) shareholders have endu...</td>\n",
              "      <td>2023-06-15T12:51:00.000000000+00:00</td>\n",
              "      <td>In order to justify the effort of selecting in...</td>\n",
              "      <td>556</td>\n",
              "    </tr>\n",
              "  </tbody>\n",
              "</table>\n",
              "</div>"
            ],
            "text/plain": [
              "                                                title  \\\n",
              "0                              Chevron: Best Of Breed   \n",
              "1        FirstEnergy (NYSE:FE) Posts Earnings Results   \n",
              "2   Dáil almost suspended after Sinn Féin TD put p...   \n",
              "3   Epic’s latest tool can animate hyperrealistic ...   \n",
              "4   EU to Ban Huawei, ZTE from Internal Commission...   \n",
              "5   Arsenal have Rice bid rejected, new Premier Le...   \n",
              "6   Ryanair sacks chief pilot over sexual miscondu...   \n",
              "7   KeyBank’s American Fork Branch Celebrates One ...   \n",
              "8   Vivo X90s Officially Teased, Tipped to Run on ...   \n",
              "9   XPeng Stock Rises. The Tesla Rival Rolled Out ...   \n",
              "10  BofA Surpasses $500 Million in Equity Investme...   \n",
              "11  UnitedHealth's stock selloff chopped more than...   \n",
              "12  Houston Texans Come To Terms With Ex-Third-Rou...   \n",
              "13  NFL Rumors: What Patriots ‘Made Clear’ To DeAn...   \n",
              "14  The Deals: BMG Acquires The Hollies’ Recording...   \n",
              "15  Supplier.io and Hyatt Hotels Honored With 2023...   \n",
              "16  Gordon McQueen, former Manchester United and L...   \n",
              "17  GE Vernova selected by Amplus Solar for its fi...   \n",
              "18  Flipkart and Polygon Labs partner to introduce...   \n",
              "19  State Street (NYSE:STT) shareholders have endu...   \n",
              "\n",
              "                                   date  \\\n",
              "0   2031-04-06T01:36:32.000000000+00:00   \n",
              "1   2030-04-29T06:55:28.000000000+00:00   \n",
              "2   2023-06-15T14:32:11.000000000+00:00   \n",
              "3   2023-06-15T14:00:00.000000000+00:00   \n",
              "4   2023-06-15T13:50:00.000000000+00:00   \n",
              "5   2023-06-15T13:31:42.000000000+00:00   \n",
              "6   2023-06-15T13:30:00.000000000+00:00   \n",
              "7   2023-06-15T13:16:00.000000000+00:00   \n",
              "8   2023-06-15T13:07:00.000000000+00:00   \n",
              "9   2023-06-15T13:05:22.000000000+00:00   \n",
              "10  2023-06-15T13:05:00.000000000+00:00   \n",
              "11  2023-06-15T13:02:00.000000000+00:00   \n",
              "12  2023-06-15T13:00:00.000000000+00:00   \n",
              "13  2023-06-15T13:00:00.000000000+00:00   \n",
              "14  2023-06-15T13:00:00.000000000+00:00   \n",
              "15  2023-06-15T13:00:00.000000000+00:00   \n",
              "16  2023-06-15T13:00:00.000000000+00:00   \n",
              "17  2023-06-15T12:55:36.000000000+00:00   \n",
              "18  2023-06-15T12:53:54.000000000+00:00   \n",
              "19  2023-06-15T12:51:00.000000000+00:00   \n",
              "\n",
              "                                                 text  tokens  \n",
              "0   JHVEPhoto Like many companies in the O&G secto...      78  \n",
              "1   FirstEnergy (NYSE:FE – Get Rating) posted its ...     130  \n",
              "2   The Dáil was almost suspended on Thursday afte...     631  \n",
              "3   Today, Epic is releasing a new tool designed t...     528  \n",
              "4   The European Commission is planning to ban equ...     281  \n",
              "5   Jude Bellingham has also insisted his move to ...     387  \n",
              "6   Reuters\\nRyanair has sacked its chief pilot af...     554  \n",
              "7   CLEVELAND, UT / ACCESSWIRE / June 15, 2023 / K...     749  \n",
              "8   Vivo X90s has been teased by Jia Jingdong, Viv...     705  \n",
              "9   Chinese electric-vehicle maker\\nXPeng\\nsaid Th...      57  \n",
              "10  Investments in Diverse-led Funds Result in Cap...     743  \n",
              "11  Health insurer's stock suffers second-biggest ...     675  \n",
              "12  KEY POINTS\\nThe Texans have signed Maliek Coll...     623  \n",
              "13  The Patriots apparently didn’t waste any time ...     353  \n",
              "14  Also this week: ADA Worldwide signs a distribu...     736  \n",
              "15  CHICAGO, June 15, 2023 /PRNewswire/ -- Supplie...     737  \n",
              "16  MANCHESTER, England — Gordon McQueen, a defend...     445  \n",
              "17  GE Vernova on Thursday said that it has been s...     417  \n",
              "18  E-commerce major Flipkart is partnering with W...     354  \n",
              "19  In order to justify the effort of selecting in...     556  "
            ]
          },
          "execution_count": 53,
          "metadata": {},
          "output_type": "execute_result"
        }
      ],
      "source": [
        "import pandas as pd\n",
        "import tiktoken\n",
        "\n",
        "\n",
        "def num_tokens_from_string(string: str, model: str = \"gpt-4o\") -> int:\n",
        "    \"\"\"Returns the number of tokens in a text string.\"\"\"\n",
        "    encoding = tiktoken.encoding_for_model(model)\n",
        "    num_tokens = len(encoding.encode(string))\n",
        "    return num_tokens\n",
        "\n",
        "\n",
        "news = pd.read_csv(\n",
        "    \"https://raw.githubusercontent.com/tomasonjo/blog-datasets/main/news_articles.csv\", nrows=20\n",
        ")\n",
        "news[\"tokens\"] = [\n",
        "    num_tokens_from_string(f\"{row['title']} {row['text']}\")\n",
        "    for i, row in news.iterrows()\n",
        "]\n",
        "# news.head(5)\n",
        "news = news[0:49]\n",
        "news"
      ]
    },
    {
      "cell_type": "markdown",
      "metadata": {
        "id": "Z_nPbFIFfMqi"
      },
      "source": [
        "We have the title and text of the articles available, along with their publishing date and token count using the tiktoken library.\n",
        "\n",
        "### Text Chunking\n",
        "The text chunking step is crucial and significantly impacts downstream results. The paper authors found that using smaller text chunks results in extracting more entities overall.\n",
        "\n",
        "![title](https://miro.medium.com/v2/resize:fit:1120/format:webp/1*9HdF1xQ6Tm6dazOQBFvSvg.png)\n",
        "\n",
        "As you can see, using text chunks of 2,400 tokens results in fewer extracted entities than when they used 600 tokens. Additionally, they identified that LLMs might not extract all entities on the first run. In that case, they introduce a heuristics to perform the extraction multiple times. We will talk about that more in the next section.\n",
        "\n",
        "However, there are always trade-offs. Using smaller text chunks can result in losing the context and coreferences of specific entities spread across the documents. For example, if a document mentions “John” and “he” in separate sentences, breaking the text into smaller chunks might make it unclear that “he” refers to John. Some of the coreference issues can be solved using an overlap text chunking strategy, but not all of them.\n",
        "\n",
        "Let’s examine the size of our article texts:"
      ]
    },
    {
      "cell_type": "code",
      "execution_count": 54,
      "metadata": {
        "colab": {
          "base_uri": "https://localhost:8080/",
          "height": 472
        },
        "id": "ebzDWs-io-Oj",
        "outputId": "3d4d390f-4450-4dfc-ce3f-5d512a6851b8"
      },
      "outputs": [
        {
          "data": {
            "image/png": "[encoded data removed]",
            "text/plain": [
              "<Figure size 640x480 with 1 Axes>"
            ]
          },
          "metadata": {},
          "output_type": "display_data"
        }
      ],
      "source": [
        "import seaborn as sns\n",
        "import matplotlib.pyplot as plt\n",
        "\n",
        "\n",
        "sns.histplot(news[\"tokens\"], kde=False)\n",
        "plt.title('Distribution of chunk sizes')\n",
        "plt.xlabel('Token count')\n",
        "plt.ylabel('Frequency')\n",
        "plt.show()"
      ]
    },
    {
      "cell_type": "markdown",
      "metadata": {
        "id": "-tBXEXvRjQVL"
      },
      "source": [
        "The distribution of article token counts is approximately normal, with a peak of around 400 tokens. The frequency of chunks gradually increases up to this peak, then decreases symmetrically, indicating most text chunks are near the 400-token mark.\n",
        "\n",
        "Due to this distribution, we will not perform any text chunking here to avoid coreference issues. By default, the GraphRAG project uses chunk sizes of 300 tokens with 100 tokens of overlap.\n",
        "\n",
        "### Extracting Nodes and Relationships\n",
        "The next step is constructing knowledge from text chunks. For this use case, we use an LLM to extract structured information in the form of nodes and relationships from the text. You can examine the LLM prompt the authors used in the paper. They have LLM prompts where we can predefine node labels if needed, but by default, that’s optional. Additionally, the extracted relationships in the original documentation don’t really have a type, only a description. I imagine the reason behind this choice is to allow the LLM to extract and retain richer and more nuanced information as relationships. But it’s difficult to have a clean knowledge graph with no relationship-type specifications (the descriptions could go into a property).\n",
        "\n",
        "In our implementation, we will use the LLMGraphTransformer, which is available in the LangChain library. Instead of using pure prompt engineering, as the implementation in the article paper does, the LLMGraphTransformer uses the built-in function calling support to extract structured information (structured output LLMs in LangChain). You can inspect the system prompt:"
      ]
    },
    {
      "cell_type": "code",
      "execution_count": 55,
      "metadata": {
        "id": "INfxdQRCPxyW"
      },
      "outputs": [],
      "source": [
        "#Load LLM\n",
        "from langchain_experimental.llms.ollama_functions import OllamaFunctions\n",
        "# from ollama_functions import OllamaFunctions\n",
        "from langchain_experimental.graph_transformers import LLMGraphTransformer\n",
        "from langchain_ollama import OllamaEmbeddings, ChatOllama\n",
        "\n",
        "llm_model=\"llama3.1:8b-instruct-q5_K_M\" #mistral:7b-instruct-v0.3-q8_0, llama3.1:8b-instruct-q8_0, llama3.2:3b-instruct-fp16 llama3.1:8b-instruct-q5_K_M\n",
        "\n",
        "# llm = OllamaFunctions(model=llm_model, temperature=0) #, format=\"json\"\n",
        "llm = ChatOllama(model=llm_model, temperature=0)\n",
        "\n",
        "llm_transformer = LLMGraphTransformer(\n",
        "    llm=llm,\n",
        "    node_properties=[\"description\"],\n",
        "    relationship_properties=[\"description\"],\n",
        "    # allowed_nodes=[\"Person\", \"Country\", \"Organization\"],\n",
        "    # allowed_relationships=[\"NATIONALITY\", \"LOCATED_IN\", \"WORKED_AT\", \"SPOUSE\"],\n",
        ")"
      ]
    },
    {
      "cell_type": "code",
      "execution_count": 56,
      "metadata": {
        "id": "doaut5qvTr36"
      },
      "outputs": [],
      "source": [
        "from typing import List\n",
        "from langchain_community.graphs.graph_document import GraphDocument\n",
        "from langchain_core.documents import Document\n",
        "from langchain.text_splitter import TokenTextSplitter, RecursiveCharacterTextSplitter\n",
        "\n",
        "def process_text(text: str) -> List[GraphDocument]:\n",
        "    doc = Document(page_content=text)\n",
        "    print(doc)\n",
        "    # text_splitter = RecursiveCharacterTextSplitter(chunk_size=50, chunk_overlap=10)\n",
        "    # doc = text_splitter.split_documents(documents=raw_doc)\n",
        "    return llm_transformer.convert_to_graph_documents([doc])"
      ]
    },
    {
      "cell_type": "markdown",
      "metadata": {
        "id": "WsdJJlNpfjuy"
      },
      "source": [
        "In this example, we use GPT-4o for graph extraction. The authors specifically instruct the LLM to extract entities and relationships and their descriptions. With the LangChain implementation, you can use the node_propertiesand relationship_propertiesattributes to specify which node or relationship properties you want the LLM to extract.\n",
        "\n",
        "The difference with the LLMGraphTransformer implementation is that all node or relationship properties are optional, so not all nodes will have the descriptionproperty. If we wanted, we could define a custom extraction to have a mandatory descriptionproperty, but we will skip that in this implementation.\n",
        "\n",
        "We will parallelize the requests to make the graph extraction faster and store results to Neo4j:"
      ]
    },
    {
      "cell_type": "code",
      "execution_count": 57,
      "metadata": {},
      "outputs": [],
      "source": [
        "from neo4j import GraphDatabase, Driver\n",
        "import os\n",
        "\n",
        "# clear before adding the same source\n",
        "driver = GraphDatabase.driver(\n",
        "        uri = os.environ[\"NEO4J_URI\"],\n",
        "        auth = (os.environ[\"NEO4J_USERNAME\"], os.environ[\"NEO4J_PASSWORD\"])\n",
        "    )\n",
        "\n",
        "def clear_database(tx):\n",
        "    tx.run(\"\"\"\n",
        "        MATCH (n)\n",
        "        DETACH DELETE n\n",
        "    \"\"\")    \n",
        "\n",
        "with driver.session() as session:\n",
        "    session.execute_write(clear_database)\n"
      ]
    },
    {
      "cell_type": "code",
      "execution_count": 58,
      "metadata": {
        "colab": {
          "base_uri": "https://localhost:8080/"
        },
        "id": "vy9GaXqXRrQu",
        "outputId": "4e558b9b-2f02-4687-fe74-ce21259a9b04"
      },
      "outputs": [
        {
          "name": "stdout",
          "output_type": "stream",
          "text": [
            "page_content='Chevron: Best Of Breed JHVEPhoto Like many companies in the O&G sector, the stock of Chevron (NYSE:CVX) has declined about 10% over the past 90-days despite the fact that Q2 consensus earnings estimates have risen sharply (~25%) during that same time frame. Over the years, Chevron has kept a very strong balance sheet. That allowed the...'\n"
          ]
        },
        {
          "name": "stderr",
          "output_type": "stream",
          "text": [
            "Processing documents:   5%|▌         | 1/20 [00:02<00:53,  2.84s/it]"
          ]
        },
        {
          "name": "stdout",
          "output_type": "stream",
          "text": [
            "page_content='FirstEnergy (NYSE:FE) Posts Earnings Results FirstEnergy (NYSE:FE – Get Rating) posted its earnings results on Tuesday. The utilities provider reported $0.53 earnings per share for the quarter, topping the consensus estimate of $0.52 by $0.01, RTT News reports. FirstEnergy had a net margin of 10.85% and a return on equity of 17.17%. During the same period...\n",
            "If the content contained herein violates any of your rights, including those of copyright, you are requested to immediately notify us using via the following email address operanews-external(at)opera.com\n",
            "Top News'\n"
          ]
        },
        {
          "name": "stderr",
          "output_type": "stream",
          "text": [
            "Processing documents:  10%|█         | 2/20 [00:05<00:47,  2.62s/it]"
          ]
        },
        {
          "name": "stdout",
          "output_type": "stream",
          "text": [
            "page_content='Dáil almost suspended after Sinn Féin TD put pager in front of Minister during firefighters debate The Dáil was almost suspended on Thursday afternoon after Sinn Féin TD John Brady walked across the chamber and placed an on-call pager in front of the Minister for Housing Darragh O’Brien during a debate on retained firefighters.\n",
            "Mr O’Brien said Mr Brady had taken part in “an act of theatre” that was “obviously choreographed”.\n",
            "Around 2,000 retained firefighters around the country staged a second day of industrial action on Tuesday and are due to start all out-strike action from next Tuesday. The mostly part-time workers, who keep the services going outside of Ireland’s larger urban centres, are taking industrial action in a dispute over pay and working conditions.\n",
            "Speaking in the Dáil, Sinn Féin deputy leader Pearse Doherty said firefighters had marched on Leinster House today and were “very angry” at “the fact the Government will not intervene”.\n",
            "READ MORE\n",
            "Dáil almost suspended after Sinn Féin TD put pager in front of Minister during firefighters debate\n",
            "Reintroduction of tax relief on mortgages needs to be considered, O’Brien says\n",
            "Martin withdraws comment after saying People Before Profit would ‘put the jackboot on people’\n",
            "Taoiseach ‘propagated fears’ farmers forced to rewet land due to nature restoration law – Cairns\n",
            "“An intervention is required now. I’m asking you to make an improved offer in relation to pay for retained firefighters,” Mr Doherty told the housing minister.\n",
            "“I’m also asking you, and challenging you, to go outside after this Order of Business and meet with the firefighters because they are just fed up to the hilt in relation to what you said.\n",
            "“Some of them have handed in their pagers to members of the Opposition and have challenged you to wear the pager for the next number of weeks, put up with an €8,600 retainer and not leave your community for the two and a half kilometres and see how you can stand over those type of pay and conditions.”\n",
            "At this point, Mr Brady got up from his seat, walked across the chamber and placed the pager on the desk in front of Mr O’Brien. Ceann Comhairle Seán Ó Fearghaíl said the Sinn Féin TD was “completely out of order” and told him not to “carry out a charade in this House”, adding it was “absolutely outrageous behaviour and not to be encouraged”.\n",
            "Mr O’Brien said Mr Brady had engaged in “an act of theatre here today which was obviously choreographed” and was then interrupted with shouts from the Opposition benches. Mr Ó Fearghaíl said he would suspend the House “if this racket continues”.\n",
            "Mr O’Brien later said he said he was confident the dispute could be resolved and he had “immense regard” for firefighters. The minister said he would encourage the unions to re-engage with the State’s industrial relations process while also accusing Sinn Féin of using the issue for their “own political gain”.\n",
            "“You see what happened here today, you’re shameless and people see through it,” he told Mr Doherty.'\n"
          ]
        },
        {
          "name": "stderr",
          "output_type": "stream",
          "text": [
            "Processing documents:  15%|█▌        | 3/20 [00:09<01:00,  3.56s/it]"
          ]
        },
        {
          "name": "stdout",
          "output_type": "stream",
          "text": [
            "page_content='Epic’s latest tool can animate hyperrealistic MetaHumans with an iPhone Today, Epic is releasing a new tool designed to capture an actor’s facial performance using a device as simple as an iPhone and apply it to a hyperrealistic “MetaHuman” in the Unreal Engine in “minutes.” The feature, dubbed MetaHuman Animator, was detailed at the Game Developers Conference in March but is now available for developers to try out for themselves. Epic has also released a new video today produced by one of its internal teams to show what the tool is capable of.\n",
            "While Epic’s short film shows off some impressively subtle facial animation, the big benefit the company is emphasizing is the speed with which MetaHuman Animator produces results. “The animation is produced locally using GPU hardware, with the final animation available in minutes,” the company’s press release reads. That has the potential to not just save a studio money by making performance capture more efficient but also, Epic argues, it could allow them to experiment and be more creative.\n",
            "“Need an actor to give you more, dig into a different emotion, or simply explore a new direction?” Epic’s press release asks. “Have them do another take. You’ll be able to review the results in about the time it takes to make a cup of coffee.” Facial animation can be applied to a MetaHuman character “in just a few clicks,” Epic says, and the system is even smart enough to animate a character’s tongue based on the performance’s audio.\n",
            "Performance capture using iPhones has been possible in the Unreal Engine since at least 2020 with the launch of Epic’s Live Link Face iOS app, but now, it’s combined with the high level of detail promised by Epic’s MetaHuman technology. As well as working on the iPhone 12 and up (which is capable of capturing both video and depth data), Epic says MetaHuman Animator can also be used with “existing vertical stereo head-mounted camera [systems] to achieve even greater fidelity.”\n",
            "Epic says the Blue Dot short film released today should give some idea of what its animation tool is capable of. It was produced by Epic Games’ 3Lateral team and stars actor Radivoje Bukvić delivering a monologue based on a poem by Mika Antić. Although Epic says it’s possible to tweak animation post-capture, it claims “minimal interventions” were made on top of the MetaHuman Animator’s performance capture to achieve these results.\n",
            "If you want to learn more, Epic has released an instructional video on how to use the tool. Documentation is also available via the MetaHuman hub on the Epic Developer Community.'\n"
          ]
        },
        {
          "name": "stderr",
          "output_type": "stream",
          "text": [
            "Processing documents:  20%|██        | 4/20 [00:15<01:06,  4.16s/it]"
          ]
        },
        {
          "name": "stdout",
          "output_type": "stream",
          "text": [
            "page_content='EU to Ban Huawei, ZTE from Internal Commission Networks The European Commission is planning to ban equipment from Chinese vendors Huawei Technologies Co. and ZTE Corp. from its own internal telecommunications networks, people familiar with the matter said.\n",
            "The ban comes ahead of an anticipated update to the European Union’s guidance on 5G mobile networks within the bloc that’s expected to more forcefully encourage members to phase out equipment from the companies, which it considers high risk, the people said, asking not to be identified because the plan isn’t yet public.\n",
            "As the relationship between the US and its allies and China has deteriorated, countries have blocked Chinese technology from their core telecommunications networks because of spying concerns. The move is similar to the commission’s decision to block its staff from using TikTok Inc. over security concerns related to the social-media app’s data-collection practices.\n",
            "Read More: TikTok Banned From EU Commission Phones Amid Security Fears\n",
            "In the EU’s review of the 5G “toolbox,” the commission will say that publicly excluding Huawei and ZTE from national networks is justified and will explicitly call out Huawei and ZTE as high-risk vendors by name for the first time. The majority of countries have yet to ban the two Chinese vendors from their networks.\n",
            "Representatives for Huawei and ZTE didn’t immediately respond to requests for comment.\n",
            "— With assistance by Thomas Seal and Alberto Nardelli'\n"
          ]
        },
        {
          "name": "stderr",
          "output_type": "stream",
          "text": [
            "Processing documents:  25%|██▌       | 5/20 [00:20<01:07,  4.48s/it]"
          ]
        },
        {
          "name": "stdout",
          "output_type": "stream",
          "text": [
            "page_content='Arsenal have Rice bid rejected, new Premier League fixtures released, Man United out of Harry Kane race, Chelsea reject Mason Mount bid Jude Bellingham has also insisted his move to Real Madrid had nothing to do with money, as he explained how his transfer was wrapped up so quickly.\n",
            "“Money is not a thing for me,” he said.\n",
            "“I dont think about money at all when I make these kinds of decisions. I never have and I never will. I play the game purely out of love.\n",
            "“I spoke with people from Real Madrid when I was given permission by Borussia Dortmund and I love the feeling I got from the club. I couldn’t hide it. I told them straight away what I felt and after that happened on Monday it all happened quickly.”\n",
            "He also opened up on how he was given the No.5 shirt, which was worn by defender Jesus Vallejo last season, and what it means to him to have Zidane’s old number on his back.\n",
            "“For a start I’d like to thank Jesus Vallejo for letting me wear the No.5,” he explained.\n",
            "“I contacted him just to see if it was OK with him and he was just a brilliant guy, he let me wear it and was just so nice about it, so I’m very grateful to him.\n",
            "“I’ve said in many interviews how much I admire Zidane, the legacy he has at the club and the legacy of his number.\n",
            "“I’m not trying to be the same as him, I’m just trying to be Jude, but it’s definitely a bit of a homage to how great he was.\n",
            "“As for the 22, it’s a number that has a lot of meaning to me and in my heart I’m still a 22, I’m just wearing the No.5 on my back.\n",
            "“We’ll see what happens in the future, but right now I’m really happy to be given this honour of wearing this number.”'\n"
          ]
        },
        {
          "name": "stderr",
          "output_type": "stream",
          "text": [
            "Processing documents:  30%|███       | 6/20 [00:27<01:18,  5.62s/it]"
          ]
        },
        {
          "name": "stdout",
          "output_type": "stream",
          "text": [
            "page_content='Ryanair sacks chief pilot over sexual misconduct claims Reuters\n",
            "Ryanair has sacked its chief pilot after an investigation into his alleged sexual harassment of female colleagues.\n",
            "The airline told staff that he had been fired for \"a pattern of repeated inappropriate and unacceptable behaviour towards a number of female pilots\".\n",
            "The chief pilot, named in reports as Aidan Murray was appointed in 2020 and had been with the airline for 28 years.\n",
            "Ryanair declined to comment \"on queries relating to individual employees\".\n",
            "According to The Independent, Mr Murray allegedly harassed nine junior colleagues, including sending text messages to some with comments on their bodies.\n",
            "Mr Murray, 58, is also accused of altering flight rosters to fly with certain female pilots.\n",
            "In a note to staff, Ryanair's chief people officer, Darrell Hughes, said Mr Murray's employment had been \"terminated with immediate effect\".\n",
            "An investigation found his behaviour \"was in breach of our anti-harassment policy\". Ryanair said staff should be able to come to work \"in a safe and secure environment\".\n",
            "\"We would ask all of you to respect the privacy and integrity of those brave individuals who came forward to assist us in this investigation,\" Mr Hughes added.\n",
            "The Financial Times reported that Mr Murray has seven days to launch an appeal against his dismissal.\n",
            "The BBC has attempted to contact Mr Murray for comment.\n",
            "The job of chief pilot is an important one. The holder is both a highly qualified airline captain and a manager, responsible for overseeing other pilots based at a hub airport.\n",
            "They are usually in charge of issues such as training, flight coordination and rostering as well as addressing personal issues. They can also represent the airline in disciplinary issues.\n",
            "As such, they have a lot of power over their fellow pilots, particularly more junior ones seeking promotions.\n",
            "The suggestion that someone in this position might be abusing their power - and behaving in an \"inappropriate and unacceptable\" way towards female staff - is therefore a very serious charge.\n",
            "It's important to note that we haven't heard the other side of the story. But it appears that whistleblowers have come forward - and have been listened to.\n",
            "Against that background, the dismissal should come as no surprise.\n",
            "A report last year by the Royal Aeronautical Society into discrimination and lack of diversity in airline pilot training found \"extremely concerning\" reports of sexism and sexual harassment by many female pilots.\n",
            "Although many had positive comments on their training, reports of sexism and harassment ranged from \"banter\" to \"uncomfortable advances from male trainers\".\n",
            "Related Topics\n",
            "Sexual harassment\n",
            "Ryanair\n",
            "More on this story\n",
            "Pilot, 15, wants to inspire more women into gliding\n",
            "2 hours ago\n",
            "Heathrow workers call off first summer strikes\n",
            "2 days ago'\n"
          ]
        },
        {
          "name": "stderr",
          "output_type": "stream",
          "text": [
            "Processing documents:  35%|███▌      | 7/20 [00:32<01:10,  5.41s/it]"
          ]
        },
        {
          "name": "stdout",
          "output_type": "stream",
          "text": [
            "page_content='KeyBank’s American Fork Branch Celebrates One Year Anniversary CLEVELAND, UT / ACCESSWIRE / June 15, 2023 / KeyBank recently commemorated the one-year anniversary of its American Fork branch - the company's first new branch in the Western half of the U.S. in more than a decade. The celebration included a networking event with the branch's business clients and the American Fork Chamber of Commerce, as well as a $10,000 donation to the Five.12 Foundation.\n",
            "\"We've had a great first year in American Fork,\" said Drew Yergensen, KeyBank Utah market president and commercial banking leader. \"We have really enjoyed meeting and working more closely with our new neighbors, clients and community partners, and we look forward to strengthening those relationships even further in the coming years.\"\n",
            "The American Fork branch highlights KeyBank's state-of-the-art financial wellness center model, which is staffed with financial wellness consultants rather than a traditional teller line. All transactions are completed at desks, where consultants also conduct comprehensive financial wellness reviews and discussions. Clients can also meet with specialists in mortgage, investments, business banking and more at the location.\n",
            "The branch features digital video screens and a client hospitality space that also serves as an area for financial seminars and group presentations with clients and the public, as well as a drive-up teller line, ATM and complimentary parking. In addition to helping individuals and families achieve their financial goals, the branch also serves clients seeking to develop and grow businesses in the area.\n",
            "\"We are here to help the community of American Fork with all of their banking and small business needs,\" said Jason Scorup, KeyBank American Fork branch manager. \"We also take pride in the positive impact we've had by giving back to community partners like the Five.12 Foundation, and we look forward to building even more community partnerships in and around American Fork.\"\n",
            "Based in Alpine, Utah, the Five.12 Foundation organizes and distributes weekend food bags to students in need at four American Fork elementary schools, including Greenwood, Forbes, Barratt and Shelley.\n",
            "The full-service branch is located at 717 West Main in American Fork, directly off of the 278 exit from I-15.\n",
            "CONTACT:\n",
            "Laura Suter | Regional Communications Manager | 206.343.6953 | laura_suter@keybank.com\n",
            "ABOUT KEYBANK\n",
            "KeyCorp's roots trace back nearly 200 years to Albany, New York. Headquartered in Cleveland, Ohio, Key is one of the nation's largest bank-based financial services companies, with assets of approximately $198 billion at March 31, 2023. Key provides deposit, lending, cash management, and investment services to individuals and businesses in 15 states under the name KeyBank National Association through a network of approximately 1,000 branches and approximately 1,300 ATMs. Key also provides a broad range of sophisticated corporate and investment banking products, such as merger and acquisition advice, public and private debt and equity, syndications and derivatives to middle market companies in selected industries throughout the United States under the KeyBanc Capital Markets trade name. For more information, visit https://www.key.com/. KeyBank is Member FDIC.\n",
            "###\n",
            "View additional multimedia and more ESG storytelling from KeyBank on 3blmedia.com.\n",
            "Contact Info:\n",
            "Spokesperson: KeyBank\n",
            "Website: https://www.3blmedia.com/profiles/keybank\n",
            "Email: info@3blmedia.com\n",
            "SOURCE: KeyBank\n",
            "View source version on accesswire.com:\n",
            "https://www.accesswire.com/761502/KeyBanks-American-Fork-Branch-Celebrates-One-Year-Anniversary\n",
            "Serious News for Serious Traders! Try StreetInsider.com Premium Free!\n",
            "You May Also Be Interested In'\n"
          ]
        },
        {
          "name": "stderr",
          "output_type": "stream",
          "text": [
            "Processing documents:  40%|████      | 8/20 [00:37<01:02,  5.25s/it]"
          ]
        },
        {
          "name": "stdout",
          "output_type": "stream",
          "text": [
            "page_content='Vivo X90s Officially Teased, Tipped to Run on New MediaTek Dimensity 9200+ SoC Vivo X90s has been teased by Jia Jingdong, Vivo's Vice President and General Manager of Product Strategy via Weibo on Thursday. The new smartphone has a design similar to its Vivo X90 series siblings — Vivo X90 and Vivo X90 Pro. The Vivo X90s is shown to have a Zeiss-tuned triple rear camera unit. The upcoming model is expected to retain the key specification of the Vivo X90. Meanwhile, Chinese tipsters have leaked the specifications of the upcoming handset. The Vivo X90s is said to run on MediaTek Dimensity 9200+ SoC and could be offered in four different colour options.\n",
            "Jia Jingdong posted an image of the Vivo X90s on the Chinese microblogging platform providing us a glimpse of the design from the rear. The render shows the handset in a white finish with rounded corners. The image suggests Zeiss branded triple rear cameras on the rear panel along with an LED flash. It seems to have a glass back with the Vivo branding at the bottom.\n",
            "Vivo, however, didn't confirm the exact launch date or key specifications of the Vivo X90s.\n",
            "Separately, several Chinese tipsters posted specifications of the upcoming Vivo X90s on Weibo. According to the tipsters, the handset will be powered by the latest MediaTek Dimensity 9200+ SoC. This would be an upgrade over the MediaTek Dimensity 9200 SoC found on the vanilla Vivo X90. The new model is said to offer Wi-Fi 7 connectivity and could be offered in black, blue, green, red, and white colour options. The Vivo X90, in contrast, has Wi-Fi 6 and is available in China Red, Ice Blue, and Original Black (translated from Chinese) in China.\n",
            "A TENAA listing from May revealed the specifications of the Vivo X90s. As per the listing, it will have a 6.78-inch 1.5K (1,280 x 2,800 pixels) curved AMOLED display. The screen has a centre-aligned hole-punch cutout at the top. It is listed to carry up to 16GB of RAM along with up to 1TB of inbuilt storage.\n",
            "Oppo, OnePlus, Realme to Operate as Separate Entities in India: Report\n",
            "The triple rear camera setup of the handset could include a 50-megapixel main camera sensor, accompanied by a 12-megapixel ultra-wide lens, and a 12-megapixel portrait sensor. It is said to pack a 32-megapixel selfie camera as well. Vivo is expected to provide a 4,690mAh battery on the Vivo X90s.\n",
            "The Vivo X90 Pro has finally made its debut in India, but is the company's flagship smartphone for 2023 equipped with enough upgrades over its predecessor? We discuss this and more on Orbital, the Gadgets 360 podcast. Orbital is available on Spotify, Gaana, JioSaavn, Google Podcasts, Apple Podcasts, Amazon Music and wherever you get your podcasts.\n",
            "Affiliate links may be automatically generated - see our ethics statement for details.\n",
            "For the latest tech news and reviews, follow Gadgets 360 on Twitter, Facebook, and Google News. For the latest videos on gadgets and tech, subscribe to our YouTube channel.'\n"
          ]
        },
        {
          "name": "stderr",
          "output_type": "stream",
          "text": [
            "Processing documents:  45%|████▌     | 9/20 [00:42<00:55,  5.01s/it]"
          ]
        },
        {
          "name": "stdout",
          "output_type": "stream",
          "text": [
            "page_content='XPeng Stock Rises. The Tesla Rival Rolled Out Self-Driving Tech. Chinese electric-vehicle maker\n",
            "XPeng\n",
            "said Thursday its assisted-driving technology has been launched in Beijing and three other cities. The\n",
            "Tesla\n",
            "rival’s stock was rising in premarket trading.'\n"
          ]
        },
        {
          "name": "stderr",
          "output_type": "stream",
          "text": [
            "Processing documents:  50%|█████     | 10/20 [00:43<00:39,  3.96s/it]"
          ]
        },
        {
          "name": "stdout",
          "output_type": "stream",
          "text": [
            "page_content='BofA Surpasses $500 Million in Equity Investments to Support Minority and Women Entrepreneurs Investments in Diverse-led Funds Result in Capital Deployed to Over 1,000 Companies Across the U.S.\n",
            "NEW YORK, June 15, 2023 /PRNewswire/ -- Bank of America today announced that it has committed more than $500 million in equity investments to minority- and women-led funds, more than doubling its initial $200 million commitment.\n",
            "The bank has committed equity to more than 150 funds, which to date have invested in over 1,000 companies that span 40 states. These companies are led by 1,500 diverse entrepreneurs and employ over 21,000 people.\n",
            "\"We work across our company to address critical needs in our communities, including the lack of access to capital that diverse business owners face as they start or grow their businesses,\" said Tram Nguyen, Global Head of Strategic and Sustainable Investments at Bank of America. \"We want to empower the talented fund managers who keenly understand how to identify and support those business owners. Each time we support a minority- or women-led fund, they in turn support diverse entrepreneurs, which ultimately helps us toward achieving our goal to advance racial equality and economic opportunity.\"\n",
            "Not only are fund managers breaking down barriers themselves, but they are also investing in companies looking to catalyze change. As a graduate of a Historically Black College and University (HBCU), Nasir Qadree founded Zeal to provide overlooked founders with the resources they need to scale towards their next stage of growth. This includes being an early investor in Esusu, now one of the few Black-owned unicorns, which provides tools to help immigrants and minorities to provide rent reporting and data solutions for credit building.\n",
            "Chingona Ventures, led by General Partner Samara Hernandez, was the only active fund in the Midwest started and led by a Latina at the time of Bank of America's investment. The fund targets founders with unique backgrounds creating businesses in markets that are often overlooked, like Papaya, a bilingual STEM tutoring organization to close the educational gap for underserved students.\n",
            "Bank of America continues to innovate and expand the capital and resources entrepreneurs and small business owners of all backgrounds need to help fuel economic growth in their communities. More on Bank of America's work in supporting diverse funds and entrepreneurs can be found here.\n",
            "Bank of America\n",
            "Bank of America is one of the world's leading financial institutions, serving individual consumers, small and middle-market businesses and large corporations with a full range of banking, investing, asset management and other financial and risk management products and services. The company provides unmatched convenience in the United States, serving approximately 68 million consumer and small business clients with approximately 3,900 retail financial centers, approximately 15,000 ATMs and award-winning digital banking with approximately 56 million verified digital users. Bank of America is a global leader in wealth management, corporate and investment banking and trading across a broad range of asset classes, serving corporations, governments, institutions and individuals around the world. Bank of America offers industry-leading support to approximately 3 million small business households through a suite of innovative, easy-to-use online products and services. The company serves clients through operations across the United States, its territories and more than 35 countries. Bank of America Corporation stock (NYSE: BAC) is listed on the New York Stock Exchange.\n",
            "For more Bank of America news, including dividend announcements and other important information, visit the Bank of America newsroom and register for news email alerts.\n",
            "Reporters may contact:\n",
            "Anu Ahluwalia, Bank of America\n",
            "Phone: 1.646.855.3375\n",
            "anu.ahluwalia@bofa.com\n",
            "SOURCE Bank of America Corporation'\n"
          ]
        },
        {
          "name": "stderr",
          "output_type": "stream",
          "text": [
            "Processing documents:  55%|█████▌    | 11/20 [00:50<00:42,  4.74s/it]"
          ]
        },
        {
          "name": "stdout",
          "output_type": "stream",
          "text": [
            "page_content='UnitedHealth's stock selloff chopped more than 200 points off the Dow's price Health insurer's stock suffers second-biggest price decline since it starting trading 39 years ago\n",
            "Shares of UnitedHealth Group Inc. took a dive Wednesday to suffer their worst percentage performance in three years, after the health insurer said it was facing higher costs from pent-up demand for surgeries.\n",
            "The stock (UNH) was by far the biggest decliner within the Dow Jones Industrial Average , and was among the worst performers in the S&P 500 , along with fellow health insurers with Medicare Advantage exposure.\n",
            "UnitedHealth's stock dropped 6.4% to a one-year closing low of $459.86. That was the biggest percentage decline since it sank 7.2% on June 11, 2020.\n",
            "The stock's price decline of $31.45 was the second-biggest since it started trading in October 1984, behind only the $47.00 (17.3%) plunge on March 16, 2020, at the height of the COVID-19 pandemic.\n",
            "The selloff was cut about 207 points off the Dow's price, as the Dow fell 232.79 points, or 0.7%, while the S&P 500 gained 0.1%.\n",
            "The selloff comes after Chief Financial Officer John Rex said late Tuesday at a Goldman Sachs investor conference that there were indications of \"pent-up demand\" from senior citizens to have hip and knee procedures and cardiology checkups, which could hurt results from UnitedHealth's Medicare business.\n",
            "Oppenheimer analyst Michael Wiederhorn said while other insurers that presented at recent conferences didn't mention similar trends, he believed UnitedHealth's comments will weigh on the entire sector.\n",
            "He said rival Humana Inc. (HUM) was potentially the most exposed, given its larger Medicare Advantage presence. And on cue, Humana's stock was the S&P 500's biggest decliner, tumbling 13.8%.\n",
            "Some of the S&P 500's other big losers were also in the Medicare Advantage business, as Centene Corp.'s (CNC) stock sank 6.9%, Elevance Health Inc. (ELV) shares shed 6.8% and CVS Health Corp.'s (CVS) stock slid 7.8%.\n",
            "UnitedHealth's stock has an outsized impact on the Dow's price\n",
            "UnitedHealth's stock is the highest-priced component of the Dow, which is a price-weighted index, unlike the S&P 500, which is a market-capitalization-weighted index. That means the stock's moves affect the Dow more than any other component.\n",
            "At Wednesday's closing prices, a 1% move in UnitedHealth's stock represents about a 30-point move in the Dow, while a 1% move in Walgreens Boots Alliance Inc.'s (WBA) stock, which is the lowest priced, has about a 2-point effect on the Dow.\n",
            "-Tomi Kilgore\n",
            "This content was created by MarketWatch, which is operated by Dow Jones & Co. MarketWatch is published independently from Dow Jones Newswires and The Wall Street Journal.\n",
            "\n",
            "(END) Dow Jones Newswires\n",
            "06-15-23 0902ET\n",
            "Copyright (c) 2023 Dow Jones & Company, Inc.'\n"
          ]
        },
        {
          "name": "stderr",
          "output_type": "stream",
          "text": [
            "Processing documents:  60%|██████    | 12/20 [00:59<00:47,  5.95s/it]"
          ]
        },
        {
          "name": "stdout",
          "output_type": "stream",
          "text": [
            "page_content='Houston Texans Come To Terms With Ex-Third-Round Pick Defensive Tackle KEY POINTS\n",
            "The Texans have signed Maliek Collins to a two-year deal\n",
            "Collins becomes latest defensive player to settle a contract with a mother team\n",
            "J.J. Watt has yet to properly file his retirement with the NFL\n",
            "The Houston Texans have ramped up their defensive needs with the reported signing of Maliek Collins on Wednesday, June 14.\n",
            "According to Adam Schefter of ESPN, both sides sealed the deal on a contract extension with Collins accepting a $23 million contract extension.\n",
            "\"The deal was negotiated by Texans' GM Nick Caserio and director of football administration Andrew Brown with Collins' agents Drew Rosenhaus and Ryan Matha,\" the scribe wrote on his Twitter post\n",
            "The new deal gives Collins a bit of a raise and reportedly includes a $20 million guarantee.\n",
            "In his previous contract, the 28-year-old was earning $17 million with $8.5 million of that guaranteed.\n",
            "This will be his third year in the NFL, having had previous stops with the Dallas Cowboys (2016-2019) and the Las Vegas Raiders (2020).\n",
            "The Kansas native had a career-high 37 tackles to go with 3.5 sacks over 15 games last NFL season.\n",
            "He is projected to be a key piece in the defensive line of the Texans for the next couple of years.\n",
            "Looking ahead, Collins is expected to fit in nicely with the 4-3 alignment that DeMeco Ryans is expected to implement.\n",
            "He is likely to become a full-time defensive tackle according to Sam Robison of Pro Football Talk.\n",
            "With the Texans in rebuilding mode, Collins was seen as one of the bright spots for the team. He started 15 games between 2021 and 2022, combining for six sacks and 18 tackles for a loss.\n",
            "Now, he will be paid better, which means he will have added responsibility–particularly on the defensive side of the Texans' fence.\n",
            "The Collins deal also comes not long after other defensive tackles landed new deals with their respective teams. That list includes Dexter Lawrence, Daron Payne, Jeffery Simmons and Ed Oliver.\n",
            "There are still other names expected to land new contracts this NFL offseason. Yet to come to terms with their teams include Chris Jones of the Kansas City Chiefs and Quinnen Williams of the New York Jets.\n",
            "In related news, there remain questions in the air on whether J.J. Watt is officially retired.\n",
            "According to a report by CBS Sports, Watt has yet to fill out his retirement papers with the NFL.\n",
            "This was despite his retiring last NFL season in an emotional game that saw him record two sacks in his allegedly final NFL game.\n",
            "Moreover, the five-time first-team All-Pro does not intend to sign a one-day deal with the Texans although this is tied to him being inducted into the club's Ring of Honor.\n",
            "\"I personally just don't really understand or see the reason for it,\" Watt stated. \"It's more just a ceremonial piece of paper. I think that the Ring of Honor and all that comes with it is more than enough.\"'\n"
          ]
        },
        {
          "name": "stderr",
          "output_type": "stream",
          "text": [
            "Processing documents:  65%|██████▌   | 13/20 [01:14<01:00,  8.70s/it]"
          ]
        },
        {
          "name": "stdout",
          "output_type": "stream",
          "text": [
            "page_content='NFL Rumors: What Patriots ‘Made Clear’ To DeAndre Hopkins’ Reps The Patriots apparently didn’t waste any time courting DeAndre Hopkins once he hit the open market.\n",
            "Hopkins officially became an NFL free agent when he was released by the Arizona Cardinals on May 26. Around that juncture, New England reportedly reached out to the star wide receiver’s team to express interest. Those conversations birthed a free-agent visit, which reportedly started Wednesday in Foxboro, Mass. and carried into Thursday morning.\n",
            "“I just got official word: DeAndre Hopkins is in New England,” NFL insider Jeremy Fowler said Thursday on ESPN’s “Get Up.” “He’s meeting with the Patriots. He will meet with the coaches, Bill Belichick. The Patriots’ interest remains high. They made that clear with Hopkins’ representatives from the very beginning when he became a free agent. So, we’ll see if they can close on this thing.”\n",
            "Hopkins has received co-signs from New England team leaders like Mac Jones and Matthew Judon, and the Patriots reportedly are optimistic they can add the five-time Pro Bowl selection. But even if Hopkins’ meeting with the Patriots goes well, don’t be surprised if the 31-year-old leaves New England without a deal.\n",
            "“I’m also told Hopkins (is) not in a major rush,” Fowler said. “He’s looking at more of training camp, even early August as more of a harder deadline for him to sign somewhere. So, it would have to be a very sweet offer for New England to make that happen today.”\n",
            "The Patriots appear to be the second team Hopkins met with as a free agent. Prior to his trip to New England, the veteran pass-catcher talked shop with the Titans in Nashville.'\n"
          ]
        },
        {
          "name": "stderr",
          "output_type": "stream",
          "text": [
            "Processing documents:  70%|███████   | 14/20 [01:19<00:45,  7.66s/it]"
          ]
        },
        {
          "name": "stdout",
          "output_type": "stream",
          "text": [
            "page_content='The Deals: BMG Acquires The Hollies’ Recording Catalog; Soundtrack Your Brand Raises $15M Also this week: ADA Worldwide signs a distribution pact with Rostrum Records, Warner Music partners with kids' audio platform Yoto and more.\n",
            "Listen to this article\n",
            "B BMG acquired the recording catalog of British band (and Rock & Roll Hall of Famers) The Hollies. The deal includes over 20 studio, compilation, live and tribute album titles and rarities that are wholly owned by the group, including Evolution and Butterfly (1967), Hollies Sing Dylan and Hollies Sing Hollies (1969), Confessions of the Mind (1970); Distant Light (1971), Romany (1972), Out on the Road (1973); Hollies (1974), Another Night (1975), Write On and Russian Roulette (1976), Hollies Live Hits (1977), A Crazy Steal (1978), Five Three One – Double Seven O Four (1979), Buddy Holly (1980), and Then, Now, Always (2009). The agreement encompasses eight of The Hollies’ most-streamed tracks, including “Carrie Anne,” “King Midas In Reverse,” “Jennifer Eccles,” “On A Carousel,” “He Ain’t Heavy, He’s My Brother,” “Long Cool Woman (in a Black Dress)” and “The Air That I Breathe,” as well as the group’s cover versions of “4th of July, Asbury Park (Sandy)” (Bruce Springsteen), “Boulder to Birmingham” (Emmylou Harris) and “Say It Ain’t So, Jo” (Head).\n",
            "Related\n",
            "Soundtrack Your Brand, a global music streaming service for businesses, announced a $15 million pre-growth round led by Matt Pincus‘ MUSIC in partnership with Liontree, JS Capital Management and Schusterman Family Investments. The round also included funding from music investors Dundee Partners and was supported by all major existing Soundtrack Your Brand investors including Balderton Capital, Fuel Venture Capital, Industrifonden, Telia and DIG. The investment will allow Soundtrack Your Brand to “double down” on its go-to-market strategy, according to a press release. Along with MUSIC’s investment, Pincus will join Soundtrack Your Brand’s board. In 2024, the company plans to raise an additional growth round.\n",
            "Related\n",
            "ADA Worldwide partnered with Rostrum Records to distribute the indie label’s entire catalog and new releases. Recent Rostrum releases include Fat Nick’s “Songs on the Radio” and DC The Don’s “Funeral” as well as new music from Alé Araya and Brevin Kim. Forthcoming releases include music from Fat Nick, Lou Phelps and My Favorite Color.\n",
            "Related\n",
            "Yoto, an audio platform for kids that’s behind screen-free portable audio players the Yoto Player and Yoto Mini, signed a deal with Warner Music Group that will make music from some of WMG’s artists available on the players. The partnership kicks off in June with music from Super Simple Songs, a popular YouTube channel boasting original children’s songs and traditional nursery rhymes that’s been distributed by WMG’s arts music division since 2020. Next year, Yoto will create “cards” featuring music from a curated group of WMG’s pop, rock and soul artists.\n",
            "Related\n",
            "Believe signed a marketing and distribution deal with Global Records Germany, the new Berlin branch of independent label Global Records. The first release under the agreement is “Party Songs” by Gamuel Sori & INNA, which dropped June 9.'\n"
          ]
        },
        {
          "name": "stderr",
          "output_type": "stream",
          "text": [
            "Processing documents:  75%|███████▌  | 15/20 [01:27<00:38,  7.77s/it]"
          ]
        },
        {
          "name": "stdout",
          "output_type": "stream",
          "text": [
            "page_content='Supplier.io and Hyatt Hotels Honored With 2023 Top Supply Chain Projects Award by Supply & Demand Chain Executive CHICAGO, June 15, 2023 /PRNewswire/ -- Supplier.io, the premier SaaS provider of supplier diversity data and management solutions, today announced that it and customer Hyatt Hotels received a Supply & Demand Chain Executive 2023 Top Supply Chain Projects award. Using Supplier.io's solution, Hyatt was able to meet its five-year diverse supplier spend goal of 25% within three years and increased the number of its African American owned suppliers by more than 1,350%.\n",
            "\"Hyatt Hotels has achieved remarkable success with its supplier diversity program, and we are honored to have helped its team quickly scale its program across global locations,\" said Aylin Basom, Supplier.io CEO. \"Engaging diverse suppliers is proven to uplift economies and empower local communities. Their success shows you how quickly an organization can grow and scale their supplier diversity program when all stakeholders are empowered with the tools and information to make more responsible sourcing decisions.\"\n",
            "Hyatt has prioritized supplier diversity since 1997, but manual processes and decentralized decision-making made it challenging to quantify the full results of their efforts. By implementing Supplier.io, Hyatt was able to identify its diverse suppliers and quantify their spend with these suppliers. Further, Hyatt enabled local properties to use Supplier.io's database of more than 2 million diverse suppliers holding over 4 million certifications to find credible certified diverse suppliers effortlessly—including filters for location, company size, product offering, experience, and more.\n",
            "\"Supplier.io has been instrumental in enabling Hyatt and our local properties to scale our supplier diversity program rapidly and exceed our goals years earlier than expected,\" said, Anne Hanch, SVP of Global Procurement, Hyatt Corporation. \"We are excited to continue partnering with more certified diverse suppliers across our properties, and we thank Supply & Demand Chain Executive for recognizing our commitment to partnering with diverse businesses.\"\n",
            "\"From demand planning and forecasting to implementing the ultimate in warehouse automation, the past 12 months has seen companies within the supply chain and logistics space upgrade, enhance, adopt and adapt in order to achieve greater efficiency along the chain,\" says Marina Mayer, Editor-in-Chief of Supply & Demand Chain Executive and Food Logistics. \"Companies partnered to implement each other's software and technology and work smarter, together. And, it's these partnerships that have enabled many supply chain organizations to better manage inventory, reduce costs, retain employees, track data and analytics and build resilience for whatever disruptions may lie ahead.\"\n",
            "Go to https://sdce.me/av7r0h to view the full list of Top Supply Chain Projects winners. Go to www.SDCExec.com/awards to learn more about upcoming Supply & Demand Chain Executive awards.\n",
            "About Supplier.io\n",
            "Supplier.io is the leading data, analytics, and SaaS provider of solutions that enable companies to manage, optimize, and scale their supplier diversity programs. Working as a trusted advisor to the Supplier Diversity community, Supplier.io's mission is to support every program by providing innovative and superior end-to-end Supplier Diversity solutions. Equipped with unparalleled data intelligence, superior technology, and expert guidance, Supplier.io's customers can establish and advance their supplier diversity initiatives effectively and strategically. For more information, visit www.supplier.io.\n",
            "About Supply & Demand Chain Executive\n",
            "Supply & Demand Chain Executive is the only supply chain publication covering the entire global supply chain, focusing on trucking, warehousing, packaging, procurement, risk management, professional development and more. Supply & Demand Chain Executive and sister publication Food Logistics also operate SCN Summit and Women in Supply Chain Forum. Go to www.SDCExec.com to learn more.\n",
            "SOURCE Supplier.io'\n"
          ]
        },
        {
          "name": "stderr",
          "output_type": "stream",
          "text": [
            "Processing documents:  80%|████████  | 16/20 [01:31<00:27,  6.76s/it]"
          ]
        },
        {
          "name": "stdout",
          "output_type": "stream",
          "text": [
            "page_content='Gordon McQueen, former Manchester United and Leeds player, dies at 70 MANCHESTER, England — Gordon McQueen, a defender who played for Manchester United, Leeds and Scotland’s national team, has died. He was 70.\n",
            "McQueen’s death was announced Thursday via a statement from his family released by Man United.\n",
            "McQueen was diagnosed with vascular dementia in 2021.\n",
            "“We hope that as-well as creating many great football memories he’ll be remembered most for his character,” his family said. “Our house was always full of friends, family & football just as it was in his last few months as he fought so bravely in what became a very cruel battle against dementia.\n",
            "“The disease may have taken him too soon but he definitely lived life to the full, the ultimate entertainer, the absolute heart and soul of every occasion, the most fun dad anyone could wish for.”\n",
            "McQueen began his career at Scottish club St. Mirren and went on to play in England. He was Britain’s most expensive player when he joined Man United for 495,000 pounds (now $626,000).\n",
            "Advertisement\n",
            "He won the English league title with Leeds and the FA Cup with Man United. He also made 30 international appearances for Scotland.\n",
            "After his playing career, McQueen briefly managed Scottish team Airdrieonians and coached St. Mirren and Middlesbrough.\n",
            "United said McQueen “oozed command and charisma” at the heart of its defense.\n",
            "“Everyone at Manchester United is heartbroken by the loss of our beloved former defender, Gordon McQueen,” the club wrote on Twitter. “Our love and condolences are with his family at this terribly sad time.”\n",
            "Leeds also said it was “saddened” to learn of his passing.\n",
            "“Gordon was one of the best center backs I had the privilege of playing with,” former Man United teammate Bryan Robson said. “He was a perfect fit for Manchester United with his flair, courage and big personality, and that’s why the fans loved him.\n",
            "“Most importantly, though, he was a brilliant person with a huge heart. He lit up any room he walked into, and that’s how he should be remembered.”'\n"
          ]
        },
        {
          "name": "stderr",
          "output_type": "stream",
          "text": [
            "Processing documents:  85%|████████▌ | 17/20 [01:35<00:17,  5.95s/it]"
          ]
        },
        {
          "name": "stdout",
          "output_type": "stream",
          "text": [
            "page_content='GE Vernova selected by Amplus Solar for its first onshore wind project GE Vernova on Thursday said that it has been selected by Amplus Solar for its 108 megawatt (MW) wind power project to be installed in Tamil Nadu, which is expected to be commissioned by August next year.\n",
            "“GE Vernova will supply and commission 40 units of its 2.7-132 onshore wind turbines for this 108 MW wind power project. With this order, GE recorded more than 3 GW of orders in India with its 2.7 MW turbine and anticipates crossing 5 GW of onshore wind installed base in the country by early 2024.” the company said.\n",
            "Amplus Solar’s wind farm will be commissioned by August 2024 and will provide accessible, affordable, and reliable green energy to local businesses and consumers, it added.\n",
            "Deepak Maloo, Regional Sales Leader for GE Vernova’s onshore wind business in Asia Pacific said, “GE has demonstrated expertise in India, having installed over 50 per cent of new wind capacity in the country last year. We are thankful to Amplus Solar for entrusting us with their first wind farm and look forward to furthering our partnership as the company continues to build its renewable energy portfolio under the leadership of Petronas.”\n",
            "Amplus Solar CEO, Sharad Pungalia, said, “We are happy to have found an experienced partner GE Vernova as we take another step in contributing to the country’s net-zero targets with our first wind-power project. We are confident that together, we can create the synergies needed for the successful completion of this project.”\n",
            "GE Vernova’s 2.7-132 wind turbine has proven to be the technology of choice for many customers in India due to its industry leading performance at India’s low wind speeds.\n",
            "The project will leverage GE’s significant local footprint in India with product design primarily at GE’s technology centre in Bengaluru, turbines assembled at GE’s manufacturing facility in Pune and blades manufactured at LM Wind Power’s plant in Vadodara.'\n"
          ]
        },
        {
          "name": "stderr",
          "output_type": "stream",
          "text": [
            "Processing documents:  90%|█████████ | 18/20 [01:39<00:10,  5.25s/it]"
          ]
        },
        {
          "name": "stdout",
          "output_type": "stream",
          "text": [
            "page_content='Flipkart and Polygon Labs partner to introduce Web3 loyalty program E-commerce major Flipkart is partnering with Web3 start-up Polygon Labs and loyalty platform Hang to launch a loyalty program FireDrops 2.0, which incentivises brand loyalty through gamification.\n",
            "FireDrops will involve the community and use underlying NFT technology for rewards for a better user experience. NFTs enable easy ownership and redemption of rewards, thereby creating new revenue streams for brands and empowering customers to actively participate in the loyalty ecosystem.\n",
            "It aims to provide an immersive experience to users. Surprises, games and rewards await users as they engage with their favourite brands in meaningful ways, earning exciting benefits and rewards. Quests and games related to their preferred brands allow users to earn membership passes, lifetime discounts and more.\n",
            "Naren Ravula, VP, Head of Product Strategy and Deployment at Flipkart, said, “By integrating Web3 and NFTs into brand loyalty programs, we are revolutionising brand marketing, storytelling and customer engagement. We recognise the value of customer loyalty and more importantly, the emerging space of Web3 loyalty. We are excited to partner with one of the best in the space for this innovative brand-first rewards and loyalty program.”\n",
            "Brand engagement\n",
            "The program also plans to explore the launch of a dynamic marketplace that allows users to buy and sell rewards, adding flexibility and value to loyalty programs and fostering deeper brand engagement.\n",
            "“The world’s most innovative brands, like Flipkart, have a monumental opportunity to redefine how they connect with their customers and build loyalty. The best programs of the future will be gamified, personalised and Web3-enabled. The next generation of loyalty is here, and we are excited to partner with Flipkart to bring it to the masses,” said Matt Smolin, CEO and founder of Hang.'\n"
          ]
        },
        {
          "name": "stderr",
          "output_type": "stream",
          "text": [
            "Processing documents:  95%|█████████▌| 19/20 [01:43<00:04,  4.92s/it]"
          ]
        },
        {
          "name": "stdout",
          "output_type": "stream",
          "text": [
            "page_content='State Street (NYSE:STT) shareholders have endured a 13% loss from investing in the stock five years ago In order to justify the effort of selecting individual stocks, it's worth striving to beat the returns from a market index fund. But even the best stock picker will only win with some selections. So we wouldn't blame long term State Street Corporation (NYSE:STT) shareholders for doubting their decision to hold, with the stock down 25% over a half decade. In contrast, the stock price has popped 9.8% in the last thirty days. However, this may be a matter of broader market optimism, since stocks are up 6.8% in the same time.\n",
            "With that in mind, it's worth seeing if the company's underlying fundamentals have been the driver of long term performance, or if there are some discrepancies.\n",
            "View our latest analysis for State Street\n",
            "To paraphrase Benjamin Graham: Over the short term the market is a voting machine, but over the long term it's a weighing machine. One way to examine how market sentiment has changed over time is to look at the interaction between a company's share price and its earnings per share (EPS).\n",
            "During the unfortunate half decade during which the share price slipped, State Street actually saw its earnings per share (EPS) improve by 6.1% per year. So it doesn't seem like EPS is a great guide to understanding how the market is valuing the stock. Alternatively, growth expectations may have been unreasonable in the past.\n",
            "Because of the sharp contrast between the EPS growth rate and the share price growth, we're inclined to look to other metrics to understand the changing market sentiment around the stock.\n",
            "Revenue is actually up 0.5% over the time period. A more detailed examination of the revenue and earnings may or may not explain why the share price languishes; there could be an opportunity.\n",
            "The image below shows how earnings and revenue have tracked over time (if you click on the image you can see greater detail).\n",
            "State Street is a well known stock, with plenty of analyst coverage, suggesting some visibility into future growth. You can see what analysts are predicting for State Street in this interactive graph of future profit estimates.\n",
            "We're pleased to report that State Street shareholders have received a total shareholder return of 22% over one year. That's including the dividend. That certainly beats the loss of about 3% per year over the last half decade. The long term loss makes us cautious, but the short term TSR gain certainly hints at a brighter future. Most investors take the time to check the data on insider transactions. You can\n",
            "For those who like to find this\n",
            "You’ll receive a for 1 hour of your time while helping us build better investing tools for the individual investors like yourself.'\n"
          ]
        },
        {
          "name": "stderr",
          "output_type": "stream",
          "text": [
            "Processing documents: 100%|██████████| 20/20 [01:46<00:00,  5.32s/it]\n"
          ]
        }
      ],
      "source": [
        "from concurrent.futures import ThreadPoolExecutor, as_completed\n",
        "from tqdm import tqdm\n",
        "\n",
        "MAX_WORKERS = 1\n",
        "NUM_ARTICLES = 50 #2000\n",
        "graph_documents = []\n",
        "\n",
        "with ThreadPoolExecutor(max_workers=MAX_WORKERS) as executor:\n",
        "    # Submitting all tasks and creating a list of future objects\n",
        "    futures = [\n",
        "        executor.submit(process_text, f\"{row['title']} {row['text']}\")\n",
        "        for i, row in news.head(NUM_ARTICLES).iterrows()\n",
        "    ]\n",
        "\n",
        "    for future in tqdm(\n",
        "        as_completed(futures), total=len(futures), desc=\"Processing documents\"\n",
        "    ):\n",
        "        graph_document = future.result()\n",
        "        # print(graph_document)\n",
        "        graph_documents.extend(graph_document)\n",
        "\n",
        "graph.add_graph_documents(\n",
        "    graph_documents,\n",
        "    baseEntityLabel=True,\n",
        "    include_source=True\n",
        ")"
      ]
    },
    {
      "cell_type": "code",
      "execution_count": 59,
      "metadata": {},
      "outputs": [],
      "source": [
        "# #load text instead\n",
        "# from langchain_community.document_loaders import TextLoader\n",
        "# from langchain.text_splitter import TokenTextSplitter, RecursiveCharacterTextSplitter\n",
        "\n",
        "# loader = TextLoader(file_path=\"dummytext.txt\")\n",
        "# docs = loader.load()\n",
        "# text_splitter = RecursiveCharacterTextSplitter(chunk_size=1000, chunk_overlap=100) #or TokenTextSplitter\n",
        "# documents = text_splitter.split_documents(documents=docs)\n",
        "\n",
        "# graph_documents = llm_transformer.convert_to_graph_documents(documents); \n",
        "# graph.add_graph_documents(\n",
        "#     graph_documents,\n",
        "#     baseEntityLabel=True,\n",
        "#     include_source=True\n",
        "# )\n",
        "# #see https://python.langchain.com/docs/how_to/extraction_long_text/ for more efficient parallel runs"
      ]
    },
    {
      "cell_type": "markdown",
      "metadata": {
        "id": "iPqW-TpOftgc"
      },
      "source": [
        "In this example, we extract graph information from 2,000 articles and store results to Neo4j. We have extracted around 13,000 entities and 16,000 relationships. Here is an example of an extracted document in the graph.\n",
        "\n",
        "\n",
        "![title](https://miro.medium.com/v2/resize:fit:952/format:webp/1*pj-V-XHmVaJE5SsOtvqOqw.png)\n",
        "\n",
        "It takes about 35 (+/- 5) minutes to complete extraction and costs about $30 with GPT-4o.\n",
        "\n",
        "In this step, the authors introduce heuristics to decide whether to extract graph information in more than one pass. For simplicity’s sake, we will only do one pass. However, if we wanted to do multiple passes, we could put the first extraction results as conversational history and simply [instruct the LLM that many entities are missing](https://github.com/microsoft/graphrag/blob/main/graphrag/index/graph/extractors/claims/prompts.py#L60), and it should extract more, like the GraphRAG authors do.\n",
        "\n",
        "Previously, I mentioned how vital text chunk size is and how it affects the number of entities extracted. Since we didn’t perform any additional text chunking, we can evaluate the distribution of extracted entities based on text chunk size:"
      ]
    },
    {
      "cell_type": "code",
      "execution_count": 60,
      "metadata": {
        "colab": {
          "base_uri": "https://localhost:8080/",
          "height": 529
        },
        "id": "u2Qz8jYbpd8Z",
        "outputId": "679aa177-4852-4e77-b072-5e540ba17d48"
      },
      "outputs": [
        {
          "data": {
            "image/png": "[encoded data removed]",
            "text/plain": [
              "<Figure size 500x500 with 1 Axes>"
            ]
          },
          "metadata": {},
          "output_type": "display_data"
        }
      ],
      "source": [
        "entity_dist = graph.query(\n",
        "    \"\"\"\n",
        "MATCH (d:Document)\n",
        "RETURN d.text AS text,\n",
        "       count {(d)-[:MENTIONS]->()} AS entity_count\n",
        "\"\"\"\n",
        ")\n",
        "entity_dist_df = pd.DataFrame.from_records(entity_dist)\n",
        "entity_dist_df[\"token_count\"] = [\n",
        "    num_tokens_from_string(str(el)) for el in entity_dist_df[\"text\"]\n",
        "]\n",
        "# Scatter plot with regression line\n",
        "sns.lmplot(\n",
        "    x=\"token_count\", y=\"entity_count\", data=entity_dist_df, line_kws={\"color\": \"red\"}\n",
        ")\n",
        "plt.title(\"Entity Count vs Token Count Distribution\")\n",
        "plt.xlabel(\"Token Count\")\n",
        "plt.ylabel(\"Entity Count\")\n",
        "plt.show()\n"
      ]
    },
    {
      "cell_type": "markdown",
      "metadata": {
        "id": "VyEy_AgFgDj6"
      },
      "source": [
        "The scatter plot shows that while there is a positive trend, indicated by the red line, the relationship is sublinear. Most data points cluster at lower entity counts, even as token counts increase. This indicates that the number of entities extracted does not scale proportionally with the size of the text chunks. Although some outliers exist, the general pattern shows that higher token counts do not consistently lead to higher entity counts. This validates the authors’ finding that lower text chunk sizes will extract more information.\n",
        "\n",
        "I also thought it would be interesting to inspect the node degree distributions of the constructed graph. The following code retrieves and visualizes node degree distributions:"
      ]
    },
    {
      "cell_type": "code",
      "execution_count": 61,
      "metadata": {
        "colab": {
          "base_uri": "https://localhost:8080/",
          "height": 564
        },
        "id": "eYhQaUkQOGyu",
        "outputId": "3fd9e277-2c1b-4d81-a35e-b5188c31977a"
      },
      "outputs": [
        {
          "data": {
            "image/png": "[encoded data removed]",
            "text/plain": [
              "<Figure size 1200x600 with 1 Axes>"
            ]
          },
          "metadata": {},
          "output_type": "display_data"
        }
      ],
      "source": [
        "import numpy as np\n",
        "\n",
        "degree_dist = graph.query(\n",
        "    \"\"\"\n",
        "MATCH (e:__Entity__)\n",
        "RETURN count {(e)-[:!MENTIONS]-()} AS node_degree\n",
        "\"\"\"\n",
        ")\n",
        "degree_dist_df = pd.DataFrame.from_records(degree_dist)\n",
        "\n",
        "# Calculate mean and median\n",
        "mean_degree = np.mean(degree_dist_df['node_degree'])\n",
        "percentiles = np.percentile(degree_dist_df['node_degree'], [25, 50, 75, 90])\n",
        "# Create a histogram with a logarithmic scale\n",
        "plt.figure(figsize=(12, 6))\n",
        "sns.histplot(degree_dist_df['node_degree'], bins=50, kde=False, color='blue')\n",
        "# Use a logarithmic scale for the x-axis\n",
        "plt.yscale('log')\n",
        "# Adding labels and title\n",
        "plt.xlabel('Node Degree')\n",
        "plt.ylabel('Count (log scale)')\n",
        "plt.title('Node Degree Distribution')\n",
        "# Add mean, median, and percentile lines\n",
        "plt.axvline(mean_degree, color='red', linestyle='dashed', linewidth=1, label=f'Mean: {mean_degree:.2f}')\n",
        "plt.axvline(percentiles[0], color='purple', linestyle='dashed', linewidth=1, label=f'25th Percentile: {percentiles[0]:.2f}')\n",
        "plt.axvline(percentiles[1], color='orange', linestyle='dashed', linewidth=1, label=f'50th Percentile: {percentiles[1]:.2f}')\n",
        "plt.axvline(percentiles[2], color='yellow', linestyle='dashed', linewidth=1, label=f'75th Percentile: {percentiles[2]:.2f}')\n",
        "plt.axvline(percentiles[3], color='brown', linestyle='dashed', linewidth=1, label=f'90th Percentile: {percentiles[3]:.2f}')\n",
        "# Add legend\n",
        "plt.legend()\n",
        "# Show the plot\n",
        "plt.show()"
      ]
    },
    {
      "cell_type": "markdown",
      "metadata": {
        "id": "eE3oNAl6gIHH"
      },
      "source": [
        "The node degree distribution follows a power-law pattern, indicating most nodes have very few connections while a few nodes are highly connected. The mean degree is 2.45, and the median is 1.00, showing that more than half the nodes have only one connection. Most nodes (75 percent) have two or fewer connections, and 90 percent have five or fewer. This distribution is typical of many real-world networks, where a small number of hubs have many connections, and most nodes have few.\n",
        "\n",
        "Since both node and relationship descriptions are not mandatory properties, we will also examine how many were extracted:"
      ]
    },
    {
      "cell_type": "code",
      "execution_count": 62,
      "metadata": {
        "colab": {
          "base_uri": "https://localhost:8080/"
        },
        "id": "yhOk0M-6a-a0",
        "outputId": "2930d9fa-fc7e-4276-c821-f2e3e2a9d70d"
      },
      "outputs": [
        {
          "data": {
            "text/plain": [
              "[{'type': 'node', 'total_count': 126, 'non_null_descriptions': 0}]"
            ]
          },
          "execution_count": 62,
          "metadata": {},
          "output_type": "execute_result"
        }
      ],
      "source": [
        "graph.query(\"\"\"\n",
        "MATCH (n:`__Entity__`)\n",
        "RETURN \"node\" AS type,\n",
        "       count(*) AS total_count,\n",
        "       count(n.description) AS non_null_descriptions\n",
        "UNION ALL\n",
        "MATCH (n)-[r:!MENTIONS]->()\n",
        "RETURN \"relationship\" AS type,\n",
        "       count(*) AS total_count,\n",
        "       count(r.description) AS non_null_descriptions\n",
        "\"\"\")"
      ]
    },
    {
      "cell_type": "markdown",
      "metadata": {
        "id": "FVphl4p5jIZN"
      },
      "source": [
        "The results show that 5,926 nodes out of 12,994 (45.6 percent) have the description property. On the other hand, only 5,569 relationships out of 15,921 (35 percent) have such a property.\n",
        "\n",
        "Note that due to the probabilistic nature of LLMs, the numbers can vary on different runs and different source data, LLMs, and prompts.\n",
        "\n",
        "### Entity Resolution\n",
        "Entity resolution (de-duplication) is crucial when constructing knowledge graphs because it ensures that each entity is uniquely and accurately represented, preventing duplicates and merging records that refer to the same real-world entity. This process is essential for maintaining data integrity and consistency within the graph. Without entity resolution, knowledge graphs would suffer from fragmented and inconsistent data, leading to errors and unreliable insights.\n",
        "\n",
        "![title](https://miro.medium.com/v2/resize:fit:1400/format:webp/0*rlWiW1sWlixDTaY0.png)\n",
        "\n",
        "This image demonstrates how a single real-world entity might appear under slightly different names in different documents and, consequently, in our graph.\n",
        "\n",
        "Moreover, sparse data becomes a significant issue without entity resolution. Incomplete or partial data from various sources can result in scattered and disconnected pieces of information, making it difficult to form a coherent and comprehensive understanding of entities. Accurate entity resolution addresses this by consolidating data, filling in gaps, and creating a unified view of each entity.\n",
        "\n",
        "Overall, entity resolution enhances the efficiency of data retrieval and integration, providing a cohesive view of information across different sources. It ultimately enables more effective question-answering based on a reliable and complete knowledge graph.\n",
        "\n",
        "Unfortunately, the authors of the GraphRAG paper did not include any entity resolution code in their repo, although they mention it in their paper. One reason for leaving this code out could be that it is tough to implement a robust and well-performing entity resolution for any given domain. You can implement custom heuristics for different nodes when dealing with pre-defined types of nodes (when they aren’t predefined, they aren’t consistent enough, like company, organization, business, etc.). However, if the node labels or types aren’t known in advance, as in our case, this becomes an even harder problem. Nonetheless, we will implement a version of entity resolution in our project here, combining text embeddings and graph algorithms with word distance and LLMs.\n",
        "\n",
        "![title](https://miro.medium.com/v2/resize:fit:1400/format:webp/1*KlLF01Imn7RlyuSWYkwnqw.png)\n",
        "\n",
        "Our process for entity resolution involves the following steps:\n",
        "\n",
        "1. Entities in the graph — Start with all entities within the graph.\n",
        "2. K-nearest graph — Construct a k-nearest neighbor graph, connecting similar entities based on text embeddings.\n",
        "3. Weakly Connected Components — Identify weakly connected components in the k-nearest graph, grouping entities that are likely to be similar. Add a word distance filtering step after these components have been identified.\n",
        "4. LLM evaluation — Use an LLM to evaluate these components and decide whether the entities within each component should be merged, resulting in a final decision on entity resolution (for example, merging ‘Silicon Valley Bank’ and ‘Silicon_Valley_Bank’ while rejecting the merge for different dates like ‘September 16, 2023’ and ‘September 2, 2023’).\n",
        "\n",
        "We begin by calculating text embeddings for the name and description properties of entities. We can use the from_existing_graph method in the Neo4jVector integration in LangChain to achieve this:"
      ]
    },
    {
      "cell_type": "code",
      "execution_count": 63,
      "metadata": {
        "colab": {
          "base_uri": "https://localhost:8080/"
        },
        "id": "LYkKe0XOWPTw",
        "outputId": "1cfbde44-077e-48f6-8cd8-616d5b5f17a9"
      },
      "outputs": [],
      "source": [
        "# from langchain_community.vectorstores import Neo4jVector\n",
        "# from langchain_openai import OpenAIEmbeddings\n",
        "\n",
        "# vector = Neo4jVector.from_existing_graph(\n",
        "#     OpenAIEmbeddings(),\n",
        "#     node_label='__Entity__',\n",
        "#     text_node_properties=['id', 'description'],\n",
        "#     embedding_node_property='embedding'\n",
        "# )\n",
        "from langchain_community.vectorstores import Neo4jVector\n",
        "from langchain_community.vectorstores.neo4j_vector import remove_lucene_chars\n",
        "\n",
        "embeddings = OllamaEmbeddings(\n",
        "    model=\"mxbai-embed-large\",\n",
        ")\n",
        "\n",
        "vector = Neo4jVector.from_existing_graph(\n",
        "    embeddings,\n",
        "    # search_type=\"hybrid\",\n",
        "    node_label='__Entity__',\n",
        "    text_node_properties=['id', 'description'],\n",
        "    embedding_node_property=\"embedding\"\n",
        ")\n",
        "\n",
        "# vector_retriever = vector_index.as_retriever()"
      ]
    },
    {
      "cell_type": "markdown",
      "metadata": {
        "id": "9wvxowyhgk5J"
      },
      "source": [
        "We can use these embeddings to find potential candidates that are similar based on the cosine distance of these embeddings. We will use graph algorithms available in the Graph Data Science (GDS) library; therefore, we can use the GDS Python client for ease of use in a Pythonic way:"
      ]
    },
    {
      "cell_type": "code",
      "execution_count": 64,
      "metadata": {
        "colab": {
          "base_uri": "https://localhost:8080/"
        },
        "id": "3L4VqsAmYspT",
        "outputId": "aa36fab4-3047-4c4e-9de8-e2588852d200"
      },
      "outputs": [],
      "source": [
        "import os\n",
        "from graphdatascience import GraphDataScience\n",
        "# https://neo4j.com/docs/graph-data-science/current/installation/installation-docker/\n",
        "# project graph\n",
        "\n",
        "gds = GraphDataScience(\n",
        "    os.environ[\"NEO4J_URI\"],\n",
        "    auth=(os.environ[\"NEO4J_USERNAME\"], os.environ[\"NEO4J_PASSWORD\"])\n",
        ")"
      ]
    },
    {
      "cell_type": "markdown",
      "metadata": {
        "id": "UGy3e-g6gl-r"
      },
      "source": [
        "If you are not familiar with the GDS library, we first have to project an in-memory graph before we can execute any graph algorithms.\n",
        "\n",
        "![title](https://miro.medium.com/v2/resize:fit:1268/format:webp/1*YdEljYtG2ddd7DrrlzS6yg.png)\n",
        "\n",
        "First, the Neo4j stored graph is projected into an in-memory graph for faster processing and analysis. Next, a graph algorithm is executed on the in-memory graph. Optionally, the algorithm’s results can be stored back into the Neo4j database. Learn more about it in the documentation.\n",
        "\n",
        "To create the k-nearest neighbor graph, we will project all entities along with their text embeddings:"
      ]
    },
    {
      "cell_type": "code",
      "execution_count": 65,
      "metadata": {
        "colab": {
          "base_uri": "https://localhost:8080/",
          "height": 49,
          "referenced_widgets": [
            "3882f5d9054d48cda5b5e2009ad7a9b6",
            "eb7841f10d1948389920a24690ef421b",
            "71885f8fda5246fc8e6c5e3797679158",
            "c285ed227c16418ba6a0c48b353d72ee",
            "8316bd062e1f45118452ee31be1dc195",
            "3d221ca56d12435abfc8f0468f143e7d",
            "388614f2882a449fb87e9453b2a7f527",
            "06b5fd0836ec4f48ba62e44b2717279b",
            "fc56e53314f34d18a38afd8cb29fafb4",
            "8502377116284921bc42589b482d38d9",
            "49dde26b14ac4aa2aa54651453009aeb"
          ]
        },
        "id": "nJpLldiUdpsO",
        "outputId": "676529b4-a41c-4581-c0de-4a8275a177c9"
      },
      "outputs": [],
      "source": [
        "# Drop the graph if it already exists\n",
        "try:\n",
        "    gds.graph.drop(\"entities\")\n",
        "except Exception as e:\n",
        "    print(f\"Failed to drop graph: {e}\")\n",
        "\n",
        "G, result = gds.graph.project(\n",
        "    \"entities\",                   #  Graph name\n",
        "    \"__Entity__\",                 #  Node projection\n",
        "    \"*\",                          #  Relationship projection\n",
        "    nodeProperties=[\"embedding\"]  #  Configuration parameters\n",
        ")"
      ]
    },
    {
      "cell_type": "markdown",
      "metadata": {
        "id": "Fthtqjo-gw2F"
      },
      "source": [
        "Now that the graph is projected under the entities name, we can execute graph algorithms. We will begin by constructing a k-nearest graph. The two most important parameters influencing how sparse or dense the k-nearest graph will be are similarityCutoff and topK. The topKis the number of neighbors to find for each node, with a minimum value of 1. The similarity cutoff filters out relationships with similarity below this threshold. Here, we will use a default topKof 10 and a relatively high similarity cutoff of 0.95. Using a high similarity cutoff, such as 0.95, ensures that only highly similar pairs are considered matches, minimizing false positives and improving accuracy.\n",
        "\n",
        "![title](https://miro.medium.com/v2/resize:fit:942/format:webp/1*Wt_9Tj9P_FsU7w1IvpO39g.png)\n",
        "\n",
        "Since we want to store the results back to the projected in-memory graph instead of the knowledge graph, we will use the mutate mode of the algorithm:"
      ]
    },
    {
      "cell_type": "code",
      "execution_count": 66,
      "metadata": {
        "colab": {
          "base_uri": "https://localhost:8080/",
          "height": 263,
          "referenced_widgets": [
            "df4cec7aa8f144e4bfcbb0dcbf1b1746",
            "70e2c72d9d404f4aa8c2b764e7af7b93",
            "55ecc81af9c44546b8a8140a821003ac",
            "c3da34580c2342d597c65787cb15013e",
            "290b8c08c2b648889c5ac98e59efbb70",
            "d289f0a2b44a4760ad3deb3e52bd529b",
            "37adfa0460674f18b40c32e7d412ad98",
            "aca4392d8f0640d19026ad011e047e42",
            "76562367afe7484ab28e83d450e45785",
            "60ed05fde48d44ac831cd72e5e249b28",
            "47751790b8d94346bf786df2fcaf16b5"
          ]
        },
        "id": "DWdGhMmgeuFL",
        "outputId": "72e71712-08ed-4f42-bcbd-e25be6021392"
      },
      "outputs": [
        {
          "data": {
            "text/plain": [
              "ranIterations                                                             5\n",
              "nodePairsConsidered                                                   39606\n",
              "didConverge                                                            True\n",
              "preProcessingMillis                                                       0\n",
              "computeMillis                                                            60\n",
              "mutateMillis                                                             22\n",
              "postProcessingMillis                                                      0\n",
              "nodesCompared                                                           126\n",
              "relationshipsWritten                                                      2\n",
              "similarityDistribution    {'min': 0.9775161743164062, 'p5': 0.9775161743...\n",
              "configuration             {'mutateProperty': 'score', 'jobId': '0352b668...\n",
              "Name: 0, dtype: object"
            ]
          },
          "execution_count": 66,
          "metadata": {},
          "output_type": "execute_result"
        }
      ],
      "source": [
        "similarity_threshold = 0.95\n",
        "\n",
        "gds.knn.mutate(\n",
        "  G,\n",
        "  nodeProperties=['embedding'],\n",
        "  mutateRelationshipType= 'SIMILAR',\n",
        "  mutateProperty= 'score',\n",
        "  similarityCutoff=similarity_threshold\n",
        ")"
      ]
    },
    {
      "cell_type": "markdown",
      "metadata": {
        "id": "-Dg7vZrGg7ZW"
      },
      "source": [
        "The next step is to identify groups of entities that are connected with the newly inferred similarity relationships. Identifying groups of connected nodes is a frequent process in network analysis, often called community detection or clustering, which involves finding subgroups of densely connected nodes. In this example, we will use the Weakly Connected Components algorithm, which helps us find parts of a graph where all nodes are connected, even if we ignore the direction of the connections.\n",
        "\n",
        "![title](https://miro.medium.com/v2/resize:fit:1400/format:webp/1*ZhawRXqvoZ6EuuUzacCf7A.png)\n",
        "\n",
        "We use the algorithm’s write mode to store the results back to the database (stored graph):"
      ]
    },
    {
      "cell_type": "code",
      "execution_count": 67,
      "metadata": {
        "colab": {
          "base_uri": "https://localhost:8080/"
        },
        "id": "Juc1fFiFf73-",
        "outputId": "c9c76c9c-6a11-47cd-f800-f9e6c1890eff"
      },
      "outputs": [
        {
          "data": {
            "text/plain": [
              "writeMillis                                                             65\n",
              "nodePropertiesWritten                                                  126\n",
              "componentCount                                                         125\n",
              "componentDistribution    {'min': 1, 'p5': 1, 'max': 2, 'p999': 2, 'p99'...\n",
              "postProcessingMillis                                                     3\n",
              "preProcessingMillis                                                      0\n",
              "computeMillis                                                            1\n",
              "configuration            {'writeProperty': 'wcc', 'jobId': 'd8aa7fc2-f5...\n",
              "Name: 0, dtype: object"
            ]
          },
          "execution_count": 67,
          "metadata": {},
          "output_type": "execute_result"
        }
      ],
      "source": [
        "gds.wcc.write(\n",
        "    G,\n",
        "    writeProperty=\"wcc\",\n",
        "    relationshipTypes=[\"SIMILAR\"]\n",
        ")"
      ]
    },
    {
      "cell_type": "markdown",
      "metadata": {
        "id": "V8euMSB4hElG"
      },
      "source": [
        "Text embedding comparison helps find potential duplicates, but it is only part of the entity resolution process. For example, Google and Apple are very close in the embedding space (0.96 cosine similarity using the ada-002 embedding model). The same goes for BMW and Mercedes Benz (0.97 cosine similarity). High text embedding similarity is a good start, but we can improve it. Therefore, we will add an additional filter allowing only pairs of words with a text distance of three or fewer (meaning that only the characters can be changed):"
      ]
    },
    {
      "cell_type": "code",
      "execution_count": 68,
      "metadata": {
        "colab": {
          "base_uri": "https://localhost:8080/"
        },
        "id": "S2mjWpcagO-h",
        "outputId": "9016a6b2-1497-4ae8-c461-f933c0533e41"
      },
      "outputs": [
        {
          "data": {
            "text/plain": [
              "[]"
            ]
          },
          "execution_count": 68,
          "metadata": {},
          "output_type": "execute_result"
        }
      ],
      "source": [
        "word_edit_distance = 3\n",
        "potential_duplicate_candidates = graph.query(\n",
        "    \"\"\"MATCH (e:`__Entity__`)\n",
        "    WHERE size(e.id) > 4 // longer than 4 characters\n",
        "    WITH e.wcc AS community, collect(e) AS nodes, count(*) AS count\n",
        "    WHERE count > 1\n",
        "    UNWIND nodes AS node\n",
        "    // Add text distance\n",
        "    WITH distinct\n",
        "      [n IN nodes WHERE apoc.text.distance(toLower(node.id), toLower(n.id)) < $distance | n.id] AS intermediate_results\n",
        "    WHERE size(intermediate_results) > 1\n",
        "    WITH collect(intermediate_results) AS results\n",
        "    // combine groups together if they share elements\n",
        "    UNWIND range(0, size(results)-1, 1) as index\n",
        "    WITH results, index, results[index] as result\n",
        "    WITH apoc.coll.sort(reduce(acc = result, index2 IN range(0, size(results)-1, 1) |\n",
        "            CASE WHEN index <> index2 AND\n",
        "                size(apoc.coll.intersection(acc, results[index2])) > 0\n",
        "                THEN apoc.coll.union(acc, results[index2])\n",
        "                ELSE acc\n",
        "            END\n",
        "    )) as combinedResult\n",
        "    WITH distinct(combinedResult) as combinedResult\n",
        "    // extra filtering\n",
        "    WITH collect(combinedResult) as allCombinedResults\n",
        "    UNWIND range(0, size(allCombinedResults)-1, 1) as combinedResultIndex\n",
        "    WITH allCombinedResults[combinedResultIndex] as combinedResult, combinedResultIndex, allCombinedResults\n",
        "    WHERE NOT any(x IN range(0,size(allCombinedResults)-1,1)\n",
        "        WHERE x <> combinedResultIndex\n",
        "        AND apoc.coll.containsAll(allCombinedResults[x], combinedResult)\n",
        "    )\n",
        "    RETURN combinedResult\n",
        "    \"\"\", params={'distance': word_edit_distance})\n",
        "potential_duplicate_candidates[:5]"
      ]
    },
    {
      "cell_type": "markdown",
      "metadata": {
        "id": "0X-UwzLqhJT9"
      },
      "source": [
        "This Cypher statement is slightly more involved, and its interpretation is beyond the scope of this blog post. You can always ask an LLM to interpret it.\n",
        "\n",
        "Additionally, the word distance cutoff could be a function of the length of the word instead of a single number and the implementation could be more scalable.\n",
        "\n",
        "What is important is that it outputs groups of potential entities we might want to merge.\n",
        "\n",
        "As you can see, our resolution approach works better for some node types than others. Based on a quick examination, it seems to work better for people and organizations, while it’s pretty bad for dates. If we used predefined node types, we could prepare different heuristics for various node types. In this example, we do not have predefined node labels, so we will turn to an LLM to make the final decision about whether entities should be merged or not.\n",
        "\n",
        "First, we need to formulate the LLM prompt to effectively guide and inform the final decision regarding the merging of the nodes:"
      ]
    },
    {
      "cell_type": "code",
      "execution_count": 69,
      "metadata": {
        "id": "ABQOLHRshVU_"
      },
      "outputs": [],
      "source": [
        "system_prompt = \"\"\"You are a data processing assistant. Your task is to identify duplicate entities in a list and decide which of them should be merged.\n",
        "The entities might be slightly different in format or content, but essentially refer to the same thing. Use your analytical skills to determine duplicates.\n",
        "\n",
        "Here are the rules for identifying duplicates:\n",
        "1. Entities with minor typographical differences should be considered duplicates.\n",
        "2. Entities with different formats but the same content should be considered duplicates.\n",
        "3. Entities that refer to the same real-world object or concept, even if described differently, should be considered duplicates.\n",
        "4. If it refers to different numbers, dates, or products, do not merge results\n",
        "\"\"\"\n",
        "user_template = \"\"\"\n",
        "Here is the list of entities to process:\n",
        "{entities}\n",
        "\n",
        "Please identify duplicates, merge them, and provide the merged list.\n",
        "\"\"\""
      ]
    },
    {
      "cell_type": "markdown",
      "metadata": {
        "id": "1CbHzuTohXzw"
      },
      "source": [
        "I always like to use with_structured_output method in LangChain when expecting structured data output to avoid having to parse the outputs manually.\n",
        "\n",
        "Here, we will define the output as a list of lists, where each inner list contains the entities that should be merged. This structure is used to handle scenarios where, for example, the input might be [Sony, Sony Inc, Google, Google Inc]. In such cases, you would want to merge “Sony” and “Sony Inc” separately from “Google” and “Google Inc.”"
      ]
    },
    {
      "cell_type": "code",
      "execution_count": 74,
      "metadata": {
        "id": "f3uaBpUEF3EF"
      },
      "outputs": [],
      "source": [
        "from langchain_core.pydantic_v1 import BaseModel, Field\n",
        "from typing import List, Optional\n",
        "from langchain_core.prompts import ChatPromptTemplate\n",
        "from retry import retry\n",
        "\n",
        "class DuplicateEntities(BaseModel):\n",
        "    entities: List[str] = Field(\n",
        "        description=\"Entities that represent the same object or real-world entity and should be merged\"\n",
        "    )\n",
        "\n",
        "\n",
        "class Disambiguate(BaseModel):\n",
        "    merge_entities: Optional[List[DuplicateEntities]] = Field(\n",
        "        description=\"Lists of entities that represent the same object or real-world entity and should be merged\"\n",
        "    )\n",
        "\n",
        "\n",
        "extraction_llm = ChatOllama(model=llm_model).with_structured_output(\n",
        "    Disambiguate\n",
        ")\n",
        "\n",
        "extraction_prompt = ChatPromptTemplate.from_messages(\n",
        "    [\n",
        "        (\n",
        "            \"system\",\n",
        "            system_prompt,\n",
        "        ),\n",
        "        (\n",
        "            \"human\",\n",
        "            user_template,\n",
        "        ),\n",
        "    ]\n",
        ")"
      ]
    },
    {
      "cell_type": "markdown",
      "metadata": {
        "id": "QWFkbPsthcTY"
      },
      "source": [
        "Next, we integrate the LLM prompt with the structured output to create a chain using LangChain Expression Language (LCEL) syntax and encapsulate it within a disambiguate function."
      ]
    },
    {
      "cell_type": "code",
      "execution_count": 75,
      "metadata": {
        "id": "rRyqLAHShguX"
      },
      "outputs": [],
      "source": [
        "extraction_chain = extraction_prompt | extraction_llm\n",
        "\n",
        "@retry(tries=3, delay=2)\n",
        "def entity_resolution(entities: List[str]) -> Optional[List[str]]:\n",
        "    return [\n",
        "        el.entities\n",
        "        for el in extraction_chain.invoke({\"entities\": entities}).merge_entities\n",
        "    ]\n",
        "\n"
      ]
    },
    {
      "cell_type": "code",
      "execution_count": 76,
      "metadata": {
        "colab": {
          "base_uri": "https://localhost:8080/"
        },
        "id": "cPMwVQjIJQAg",
        "outputId": "3699ec52-9add-496e-c099-dde5f922e596"
      },
      "outputs": [
        {
          "ename": "ValidationError",
          "evalue": "2 validation errors for Disambiguate\nmerge_entities -> 0\n  value is not a valid dict (type=type_error.dict)\nmerge_entities -> 1\n  value is not a valid dict (type=type_error.dict)",
          "output_type": "error",
          "traceback": [
            "\u001b[1;31m---------------------------------------------------------------------------\u001b[0m",
            "\u001b[1;31mValidationError\u001b[0m                           Traceback (most recent call last)",
            "Cell \u001b[1;32mIn[76], line 1\u001b[0m\n\u001b[1;32m----> 1\u001b[0m \u001b[43mentity_resolution\u001b[49m\u001b[43m(\u001b[49m\u001b[43m[\u001b[49m\u001b[38;5;124;43m'\u001b[39;49m\u001b[38;5;124;43mStar Ocean The Second Story R\u001b[39;49m\u001b[38;5;124;43m'\u001b[39;49m\u001b[43m,\u001b[49m\u001b[43m \u001b[49m\u001b[38;5;124;43m'\u001b[39;49m\u001b[38;5;124;43mStar Ocean: The Second Story R\u001b[39;49m\u001b[38;5;124;43m'\u001b[39;49m\u001b[43m]\u001b[49m\u001b[43m)\u001b[49m\n",
            "File \u001b[1;32md:\\James\\Py_repos\\GraphRAG-with-Llama-3.1\\.venv\\Lib\\site-packages\\decorator.py:232\u001b[0m, in \u001b[0;36mdecorate.<locals>.fun\u001b[1;34m(*args, **kw)\u001b[0m\n\u001b[0;32m    230\u001b[0m \u001b[38;5;28;01mif\u001b[39;00m \u001b[38;5;129;01mnot\u001b[39;00m kwsyntax:\n\u001b[0;32m    231\u001b[0m     args, kw \u001b[38;5;241m=\u001b[39m fix(args, kw, sig)\n\u001b[1;32m--> 232\u001b[0m \u001b[38;5;28;01mreturn\u001b[39;00m \u001b[43mcaller\u001b[49m\u001b[43m(\u001b[49m\u001b[43mfunc\u001b[49m\u001b[43m,\u001b[49m\u001b[43m \u001b[49m\u001b[38;5;241;43m*\u001b[39;49m\u001b[43m(\u001b[49m\u001b[43mextras\u001b[49m\u001b[43m \u001b[49m\u001b[38;5;241;43m+\u001b[39;49m\u001b[43m \u001b[49m\u001b[43margs\u001b[49m\u001b[43m)\u001b[49m\u001b[43m,\u001b[49m\u001b[43m \u001b[49m\u001b[38;5;241;43m*\u001b[39;49m\u001b[38;5;241;43m*\u001b[39;49m\u001b[43mkw\u001b[49m\u001b[43m)\u001b[49m\n",
            "File \u001b[1;32md:\\James\\Py_repos\\GraphRAG-with-Llama-3.1\\.venv\\Lib\\site-packages\\retry\\api.py:73\u001b[0m, in \u001b[0;36mretry.<locals>.retry_decorator\u001b[1;34m(f, *fargs, **fkwargs)\u001b[0m\n\u001b[0;32m     71\u001b[0m args \u001b[38;5;241m=\u001b[39m fargs \u001b[38;5;28;01mif\u001b[39;00m fargs \u001b[38;5;28;01melse\u001b[39;00m \u001b[38;5;28mlist\u001b[39m()\n\u001b[0;32m     72\u001b[0m kwargs \u001b[38;5;241m=\u001b[39m fkwargs \u001b[38;5;28;01mif\u001b[39;00m fkwargs \u001b[38;5;28;01melse\u001b[39;00m \u001b[38;5;28mdict\u001b[39m()\n\u001b[1;32m---> 73\u001b[0m \u001b[38;5;28;01mreturn\u001b[39;00m \u001b[43m__retry_internal\u001b[49m\u001b[43m(\u001b[49m\u001b[43mpartial\u001b[49m\u001b[43m(\u001b[49m\u001b[43mf\u001b[49m\u001b[43m,\u001b[49m\u001b[43m \u001b[49m\u001b[38;5;241;43m*\u001b[39;49m\u001b[43margs\u001b[49m\u001b[43m,\u001b[49m\u001b[43m \u001b[49m\u001b[38;5;241;43m*\u001b[39;49m\u001b[38;5;241;43m*\u001b[39;49m\u001b[43mkwargs\u001b[49m\u001b[43m)\u001b[49m\u001b[43m,\u001b[49m\u001b[43m \u001b[49m\u001b[43mexceptions\u001b[49m\u001b[43m,\u001b[49m\u001b[43m \u001b[49m\u001b[43mtries\u001b[49m\u001b[43m,\u001b[49m\u001b[43m \u001b[49m\u001b[43mdelay\u001b[49m\u001b[43m,\u001b[49m\u001b[43m \u001b[49m\u001b[43mmax_delay\u001b[49m\u001b[43m,\u001b[49m\u001b[43m \u001b[49m\u001b[43mbackoff\u001b[49m\u001b[43m,\u001b[49m\u001b[43m \u001b[49m\u001b[43mjitter\u001b[49m\u001b[43m,\u001b[49m\n\u001b[0;32m     74\u001b[0m \u001b[43m                        \u001b[49m\u001b[43mlogger\u001b[49m\u001b[43m)\u001b[49m\n",
            "File \u001b[1;32md:\\James\\Py_repos\\GraphRAG-with-Llama-3.1\\.venv\\Lib\\site-packages\\retry\\api.py:33\u001b[0m, in \u001b[0;36m__retry_internal\u001b[1;34m(f, exceptions, tries, delay, max_delay, backoff, jitter, logger)\u001b[0m\n\u001b[0;32m     31\u001b[0m \u001b[38;5;28;01mwhile\u001b[39;00m _tries:\n\u001b[0;32m     32\u001b[0m     \u001b[38;5;28;01mtry\u001b[39;00m:\n\u001b[1;32m---> 33\u001b[0m         \u001b[38;5;28;01mreturn\u001b[39;00m \u001b[43mf\u001b[49m\u001b[43m(\u001b[49m\u001b[43m)\u001b[49m\n\u001b[0;32m     34\u001b[0m     \u001b[38;5;28;01mexcept\u001b[39;00m exceptions \u001b[38;5;28;01mas\u001b[39;00m e:\n\u001b[0;32m     35\u001b[0m         _tries \u001b[38;5;241m-\u001b[39m\u001b[38;5;241m=\u001b[39m \u001b[38;5;241m1\u001b[39m\n",
            "Cell \u001b[1;32mIn[75], line 7\u001b[0m, in \u001b[0;36mentity_resolution\u001b[1;34m(entities)\u001b[0m\n\u001b[0;32m      3\u001b[0m \u001b[38;5;129m@retry\u001b[39m(tries\u001b[38;5;241m=\u001b[39m\u001b[38;5;241m3\u001b[39m, delay\u001b[38;5;241m=\u001b[39m\u001b[38;5;241m2\u001b[39m)\n\u001b[0;32m      4\u001b[0m \u001b[38;5;28;01mdef\u001b[39;00m \u001b[38;5;21mentity_resolution\u001b[39m(entities: List[\u001b[38;5;28mstr\u001b[39m]) \u001b[38;5;241m-\u001b[39m\u001b[38;5;241m>\u001b[39m Optional[List[\u001b[38;5;28mstr\u001b[39m]]:\n\u001b[0;32m      5\u001b[0m     \u001b[38;5;28;01mreturn\u001b[39;00m [\n\u001b[0;32m      6\u001b[0m         el\u001b[38;5;241m.\u001b[39mentities\n\u001b[1;32m----> 7\u001b[0m         \u001b[38;5;28;01mfor\u001b[39;00m el \u001b[38;5;129;01min\u001b[39;00m \u001b[43mextraction_chain\u001b[49m\u001b[38;5;241;43m.\u001b[39;49m\u001b[43minvoke\u001b[49m\u001b[43m(\u001b[49m\u001b[43m{\u001b[49m\u001b[38;5;124;43m\"\u001b[39;49m\u001b[38;5;124;43mentities\u001b[39;49m\u001b[38;5;124;43m\"\u001b[39;49m\u001b[43m:\u001b[49m\u001b[43m \u001b[49m\u001b[43mentities\u001b[49m\u001b[43m}\u001b[49m\u001b[43m)\u001b[49m\u001b[38;5;241m.\u001b[39mmerge_entities\n\u001b[0;32m      8\u001b[0m     ]\n",
            "File \u001b[1;32md:\\James\\Py_repos\\GraphRAG-with-Llama-3.1\\.venv\\Lib\\site-packages\\langchain_core\\runnables\\base.py:3022\u001b[0m, in \u001b[0;36mRunnableSequence.invoke\u001b[1;34m(self, input, config, **kwargs)\u001b[0m\n\u001b[0;32m   3020\u001b[0m             \u001b[38;5;28minput\u001b[39m \u001b[38;5;241m=\u001b[39m context\u001b[38;5;241m.\u001b[39mrun(step\u001b[38;5;241m.\u001b[39minvoke, \u001b[38;5;28minput\u001b[39m, config, \u001b[38;5;241m*\u001b[39m\u001b[38;5;241m*\u001b[39mkwargs)\n\u001b[0;32m   3021\u001b[0m         \u001b[38;5;28;01melse\u001b[39;00m:\n\u001b[1;32m-> 3022\u001b[0m             \u001b[38;5;28minput\u001b[39m \u001b[38;5;241m=\u001b[39m context\u001b[38;5;241m.\u001b[39mrun(step\u001b[38;5;241m.\u001b[39minvoke, \u001b[38;5;28minput\u001b[39m, config)\n\u001b[0;32m   3023\u001b[0m \u001b[38;5;66;03m# finish the root run\u001b[39;00m\n\u001b[0;32m   3024\u001b[0m \u001b[38;5;28;01mexcept\u001b[39;00m \u001b[38;5;167;01mBaseException\u001b[39;00m \u001b[38;5;28;01mas\u001b[39;00m e:\n",
            "File \u001b[1;32md:\\James\\Py_repos\\GraphRAG-with-Llama-3.1\\.venv\\Lib\\site-packages\\langchain_core\\output_parsers\\base.py:193\u001b[0m, in \u001b[0;36mBaseOutputParser.invoke\u001b[1;34m(self, input, config, **kwargs)\u001b[0m\n\u001b[0;32m    186\u001b[0m \u001b[38;5;28;01mdef\u001b[39;00m \u001b[38;5;21minvoke\u001b[39m(\n\u001b[0;32m    187\u001b[0m     \u001b[38;5;28mself\u001b[39m,\n\u001b[0;32m    188\u001b[0m     \u001b[38;5;28minput\u001b[39m: Union[\u001b[38;5;28mstr\u001b[39m, BaseMessage],\n\u001b[0;32m    189\u001b[0m     config: Optional[RunnableConfig] \u001b[38;5;241m=\u001b[39m \u001b[38;5;28;01mNone\u001b[39;00m,\n\u001b[0;32m    190\u001b[0m     \u001b[38;5;241m*\u001b[39m\u001b[38;5;241m*\u001b[39mkwargs: Any,\n\u001b[0;32m    191\u001b[0m ) \u001b[38;5;241m-\u001b[39m\u001b[38;5;241m>\u001b[39m T:\n\u001b[0;32m    192\u001b[0m     \u001b[38;5;28;01mif\u001b[39;00m \u001b[38;5;28misinstance\u001b[39m(\u001b[38;5;28minput\u001b[39m, BaseMessage):\n\u001b[1;32m--> 193\u001b[0m         \u001b[38;5;28;01mreturn\u001b[39;00m \u001b[38;5;28;43mself\u001b[39;49m\u001b[38;5;241;43m.\u001b[39;49m\u001b[43m_call_with_config\u001b[49m\u001b[43m(\u001b[49m\n\u001b[0;32m    194\u001b[0m \u001b[43m            \u001b[49m\u001b[38;5;28;43;01mlambda\u001b[39;49;00m\u001b[43m \u001b[49m\u001b[43minner_input\u001b[49m\u001b[43m:\u001b[49m\u001b[43m \u001b[49m\u001b[38;5;28;43mself\u001b[39;49m\u001b[38;5;241;43m.\u001b[39;49m\u001b[43mparse_result\u001b[49m\u001b[43m(\u001b[49m\n\u001b[0;32m    195\u001b[0m \u001b[43m                \u001b[49m\u001b[43m[\u001b[49m\u001b[43mChatGeneration\u001b[49m\u001b[43m(\u001b[49m\u001b[43mmessage\u001b[49m\u001b[38;5;241;43m=\u001b[39;49m\u001b[43minner_input\u001b[49m\u001b[43m)\u001b[49m\u001b[43m]\u001b[49m\n\u001b[0;32m    196\u001b[0m \u001b[43m            \u001b[49m\u001b[43m)\u001b[49m\u001b[43m,\u001b[49m\n\u001b[0;32m    197\u001b[0m \u001b[43m            \u001b[49m\u001b[38;5;28;43minput\u001b[39;49m\u001b[43m,\u001b[49m\n\u001b[0;32m    198\u001b[0m \u001b[43m            \u001b[49m\u001b[43mconfig\u001b[49m\u001b[43m,\u001b[49m\n\u001b[0;32m    199\u001b[0m \u001b[43m            \u001b[49m\u001b[43mrun_type\u001b[49m\u001b[38;5;241;43m=\u001b[39;49m\u001b[38;5;124;43m\"\u001b[39;49m\u001b[38;5;124;43mparser\u001b[39;49m\u001b[38;5;124;43m\"\u001b[39;49m\u001b[43m,\u001b[49m\n\u001b[0;32m    200\u001b[0m \u001b[43m        \u001b[49m\u001b[43m)\u001b[49m\n\u001b[0;32m    201\u001b[0m     \u001b[38;5;28;01melse\u001b[39;00m:\n\u001b[0;32m    202\u001b[0m         \u001b[38;5;28;01mreturn\u001b[39;00m \u001b[38;5;28mself\u001b[39m\u001b[38;5;241m.\u001b[39m_call_with_config(\n\u001b[0;32m    203\u001b[0m             \u001b[38;5;28;01mlambda\u001b[39;00m inner_input: \u001b[38;5;28mself\u001b[39m\u001b[38;5;241m.\u001b[39mparse_result([Generation(text\u001b[38;5;241m=\u001b[39minner_input)]),\n\u001b[0;32m    204\u001b[0m             \u001b[38;5;28minput\u001b[39m,\n\u001b[0;32m    205\u001b[0m             config,\n\u001b[0;32m    206\u001b[0m             run_type\u001b[38;5;241m=\u001b[39m\u001b[38;5;124m\"\u001b[39m\u001b[38;5;124mparser\u001b[39m\u001b[38;5;124m\"\u001b[39m,\n\u001b[0;32m    207\u001b[0m         )\n",
            "File \u001b[1;32md:\\James\\Py_repos\\GraphRAG-with-Llama-3.1\\.venv\\Lib\\site-packages\\langchain_core\\runnables\\base.py:1925\u001b[0m, in \u001b[0;36mRunnable._call_with_config\u001b[1;34m(self, func, input, config, run_type, serialized, **kwargs)\u001b[0m\n\u001b[0;32m   1921\u001b[0m     context \u001b[38;5;241m=\u001b[39m copy_context()\n\u001b[0;32m   1922\u001b[0m     context\u001b[38;5;241m.\u001b[39mrun(_set_config_context, child_config)\n\u001b[0;32m   1923\u001b[0m     output \u001b[38;5;241m=\u001b[39m cast(\n\u001b[0;32m   1924\u001b[0m         Output,\n\u001b[1;32m-> 1925\u001b[0m         \u001b[43mcontext\u001b[49m\u001b[38;5;241;43m.\u001b[39;49m\u001b[43mrun\u001b[49m\u001b[43m(\u001b[49m\n\u001b[0;32m   1926\u001b[0m \u001b[43m            \u001b[49m\u001b[43mcall_func_with_variable_args\u001b[49m\u001b[43m,\u001b[49m\u001b[43m  \u001b[49m\u001b[38;5;66;43;03m# type: ignore[arg-type]\u001b[39;49;00m\n\u001b[0;32m   1927\u001b[0m \u001b[43m            \u001b[49m\u001b[43mfunc\u001b[49m\u001b[43m,\u001b[49m\u001b[43m  \u001b[49m\u001b[38;5;66;43;03m# type: ignore[arg-type]\u001b[39;49;00m\n\u001b[0;32m   1928\u001b[0m \u001b[43m            \u001b[49m\u001b[38;5;28;43minput\u001b[39;49m\u001b[43m,\u001b[49m\u001b[43m  \u001b[49m\u001b[38;5;66;43;03m# type: ignore[arg-type]\u001b[39;49;00m\n\u001b[0;32m   1929\u001b[0m \u001b[43m            \u001b[49m\u001b[43mconfig\u001b[49m\u001b[43m,\u001b[49m\n\u001b[0;32m   1930\u001b[0m \u001b[43m            \u001b[49m\u001b[43mrun_manager\u001b[49m\u001b[43m,\u001b[49m\n\u001b[0;32m   1931\u001b[0m \u001b[43m            \u001b[49m\u001b[38;5;241;43m*\u001b[39;49m\u001b[38;5;241;43m*\u001b[39;49m\u001b[43mkwargs\u001b[49m\u001b[43m,\u001b[49m\n\u001b[0;32m   1932\u001b[0m \u001b[43m        \u001b[49m\u001b[43m)\u001b[49m,\n\u001b[0;32m   1933\u001b[0m     )\n\u001b[0;32m   1934\u001b[0m \u001b[38;5;28;01mexcept\u001b[39;00m \u001b[38;5;167;01mBaseException\u001b[39;00m \u001b[38;5;28;01mas\u001b[39;00m e:\n\u001b[0;32m   1935\u001b[0m     run_manager\u001b[38;5;241m.\u001b[39mon_chain_error(e)\n",
            "File \u001b[1;32md:\\James\\Py_repos\\GraphRAG-with-Llama-3.1\\.venv\\Lib\\site-packages\\langchain_core\\runnables\\config.py:396\u001b[0m, in \u001b[0;36mcall_func_with_variable_args\u001b[1;34m(func, input, config, run_manager, **kwargs)\u001b[0m\n\u001b[0;32m    394\u001b[0m \u001b[38;5;28;01mif\u001b[39;00m run_manager \u001b[38;5;129;01mis\u001b[39;00m \u001b[38;5;129;01mnot\u001b[39;00m \u001b[38;5;28;01mNone\u001b[39;00m \u001b[38;5;129;01mand\u001b[39;00m accepts_run_manager(func):\n\u001b[0;32m    395\u001b[0m     kwargs[\u001b[38;5;124m\"\u001b[39m\u001b[38;5;124mrun_manager\u001b[39m\u001b[38;5;124m\"\u001b[39m] \u001b[38;5;241m=\u001b[39m run_manager\n\u001b[1;32m--> 396\u001b[0m \u001b[38;5;28;01mreturn\u001b[39;00m \u001b[43mfunc\u001b[49m\u001b[43m(\u001b[49m\u001b[38;5;28;43minput\u001b[39;49m\u001b[43m,\u001b[49m\u001b[43m \u001b[49m\u001b[38;5;241;43m*\u001b[39;49m\u001b[38;5;241;43m*\u001b[39;49m\u001b[43mkwargs\u001b[49m\u001b[43m)\u001b[49m\n",
            "File \u001b[1;32md:\\James\\Py_repos\\GraphRAG-with-Llama-3.1\\.venv\\Lib\\site-packages\\langchain_core\\output_parsers\\base.py:194\u001b[0m, in \u001b[0;36mBaseOutputParser.invoke.<locals>.<lambda>\u001b[1;34m(inner_input)\u001b[0m\n\u001b[0;32m    186\u001b[0m \u001b[38;5;28;01mdef\u001b[39;00m \u001b[38;5;21minvoke\u001b[39m(\n\u001b[0;32m    187\u001b[0m     \u001b[38;5;28mself\u001b[39m,\n\u001b[0;32m    188\u001b[0m     \u001b[38;5;28minput\u001b[39m: Union[\u001b[38;5;28mstr\u001b[39m, BaseMessage],\n\u001b[0;32m    189\u001b[0m     config: Optional[RunnableConfig] \u001b[38;5;241m=\u001b[39m \u001b[38;5;28;01mNone\u001b[39;00m,\n\u001b[0;32m    190\u001b[0m     \u001b[38;5;241m*\u001b[39m\u001b[38;5;241m*\u001b[39mkwargs: Any,\n\u001b[0;32m    191\u001b[0m ) \u001b[38;5;241m-\u001b[39m\u001b[38;5;241m>\u001b[39m T:\n\u001b[0;32m    192\u001b[0m     \u001b[38;5;28;01mif\u001b[39;00m \u001b[38;5;28misinstance\u001b[39m(\u001b[38;5;28minput\u001b[39m, BaseMessage):\n\u001b[0;32m    193\u001b[0m         \u001b[38;5;28;01mreturn\u001b[39;00m \u001b[38;5;28mself\u001b[39m\u001b[38;5;241m.\u001b[39m_call_with_config(\n\u001b[1;32m--> 194\u001b[0m             \u001b[38;5;28;01mlambda\u001b[39;00m inner_input: \u001b[38;5;28;43mself\u001b[39;49m\u001b[38;5;241;43m.\u001b[39;49m\u001b[43mparse_result\u001b[49m\u001b[43m(\u001b[49m\n\u001b[0;32m    195\u001b[0m \u001b[43m                \u001b[49m\u001b[43m[\u001b[49m\u001b[43mChatGeneration\u001b[49m\u001b[43m(\u001b[49m\u001b[43mmessage\u001b[49m\u001b[38;5;241;43m=\u001b[39;49m\u001b[43minner_input\u001b[49m\u001b[43m)\u001b[49m\u001b[43m]\u001b[49m\n\u001b[0;32m    196\u001b[0m \u001b[43m            \u001b[49m\u001b[43m)\u001b[49m,\n\u001b[0;32m    197\u001b[0m             \u001b[38;5;28minput\u001b[39m,\n\u001b[0;32m    198\u001b[0m             config,\n\u001b[0;32m    199\u001b[0m             run_type\u001b[38;5;241m=\u001b[39m\u001b[38;5;124m\"\u001b[39m\u001b[38;5;124mparser\u001b[39m\u001b[38;5;124m\"\u001b[39m,\n\u001b[0;32m    200\u001b[0m         )\n\u001b[0;32m    201\u001b[0m     \u001b[38;5;28;01melse\u001b[39;00m:\n\u001b[0;32m    202\u001b[0m         \u001b[38;5;28;01mreturn\u001b[39;00m \u001b[38;5;28mself\u001b[39m\u001b[38;5;241m.\u001b[39m_call_with_config(\n\u001b[0;32m    203\u001b[0m             \u001b[38;5;28;01mlambda\u001b[39;00m inner_input: \u001b[38;5;28mself\u001b[39m\u001b[38;5;241m.\u001b[39mparse_result([Generation(text\u001b[38;5;241m=\u001b[39minner_input)]),\n\u001b[0;32m    204\u001b[0m             \u001b[38;5;28minput\u001b[39m,\n\u001b[0;32m    205\u001b[0m             config,\n\u001b[0;32m    206\u001b[0m             run_type\u001b[38;5;241m=\u001b[39m\u001b[38;5;124m\"\u001b[39m\u001b[38;5;124mparser\u001b[39m\u001b[38;5;124m\"\u001b[39m,\n\u001b[0;32m    207\u001b[0m         )\n",
            "File \u001b[1;32md:\\James\\Py_repos\\GraphRAG-with-Llama-3.1\\.venv\\Lib\\site-packages\\langchain_core\\output_parsers\\openai_tools.py:298\u001b[0m, in \u001b[0;36mPydanticToolsParser.parse_result\u001b[1;34m(self, result, partial)\u001b[0m\n\u001b[0;32m    296\u001b[0m             \u001b[38;5;28;01mcontinue\u001b[39;00m\n\u001b[0;32m    297\u001b[0m         \u001b[38;5;28;01melse\u001b[39;00m:\n\u001b[1;32m--> 298\u001b[0m             \u001b[38;5;28;01mraise\u001b[39;00m e\n\u001b[0;32m    299\u001b[0m \u001b[38;5;28;01mif\u001b[39;00m \u001b[38;5;28mself\u001b[39m\u001b[38;5;241m.\u001b[39mfirst_tool_only:\n\u001b[0;32m    300\u001b[0m     \u001b[38;5;28;01mreturn\u001b[39;00m pydantic_objects[\u001b[38;5;241m0\u001b[39m] \u001b[38;5;28;01mif\u001b[39;00m pydantic_objects \u001b[38;5;28;01melse\u001b[39;00m \u001b[38;5;28;01mNone\u001b[39;00m\n",
            "File \u001b[1;32md:\\James\\Py_repos\\GraphRAG-with-Llama-3.1\\.venv\\Lib\\site-packages\\langchain_core\\output_parsers\\openai_tools.py:293\u001b[0m, in \u001b[0;36mPydanticToolsParser.parse_result\u001b[1;34m(self, result, partial)\u001b[0m\n\u001b[0;32m    288\u001b[0m         msg \u001b[38;5;241m=\u001b[39m (\n\u001b[0;32m    289\u001b[0m             \u001b[38;5;124mf\u001b[39m\u001b[38;5;124m\"\u001b[39m\u001b[38;5;124mTool arguments must be specified as a dict, received: \u001b[39m\u001b[38;5;124m\"\u001b[39m\n\u001b[0;32m    290\u001b[0m             \u001b[38;5;124mf\u001b[39m\u001b[38;5;124m\"\u001b[39m\u001b[38;5;132;01m{\u001b[39;00mres[\u001b[38;5;124m'\u001b[39m\u001b[38;5;124margs\u001b[39m\u001b[38;5;124m'\u001b[39m]\u001b[38;5;132;01m}\u001b[39;00m\u001b[38;5;124m\"\u001b[39m\n\u001b[0;32m    291\u001b[0m         )\n\u001b[0;32m    292\u001b[0m         \u001b[38;5;28;01mraise\u001b[39;00m \u001b[38;5;167;01mValueError\u001b[39;00m(msg)\n\u001b[1;32m--> 293\u001b[0m     pydantic_objects\u001b[38;5;241m.\u001b[39mappend(\u001b[43mname_dict\u001b[49m\u001b[43m[\u001b[49m\u001b[43mres\u001b[49m\u001b[43m[\u001b[49m\u001b[38;5;124;43m\"\u001b[39;49m\u001b[38;5;124;43mtype\u001b[39;49m\u001b[38;5;124;43m\"\u001b[39;49m\u001b[43m]\u001b[49m\u001b[43m]\u001b[49m\u001b[43m(\u001b[49m\u001b[38;5;241;43m*\u001b[39;49m\u001b[38;5;241;43m*\u001b[39;49m\u001b[43mres\u001b[49m\u001b[43m[\u001b[49m\u001b[38;5;124;43m\"\u001b[39;49m\u001b[38;5;124;43margs\u001b[39;49m\u001b[38;5;124;43m\"\u001b[39;49m\u001b[43m]\u001b[49m\u001b[43m)\u001b[49m)\n\u001b[0;32m    294\u001b[0m \u001b[38;5;28;01mexcept\u001b[39;00m (ValidationError, \u001b[38;5;167;01mValueError\u001b[39;00m) \u001b[38;5;28;01mas\u001b[39;00m e:\n\u001b[0;32m    295\u001b[0m     \u001b[38;5;28;01mif\u001b[39;00m partial:\n",
            "File \u001b[1;32md:\\James\\Py_repos\\GraphRAG-with-Llama-3.1\\.venv\\Lib\\site-packages\\pydantic\\v1\\main.py:341\u001b[0m, in \u001b[0;36mBaseModel.__init__\u001b[1;34m(__pydantic_self__, **data)\u001b[0m\n\u001b[0;32m    339\u001b[0m values, fields_set, validation_error \u001b[38;5;241m=\u001b[39m validate_model(__pydantic_self__\u001b[38;5;241m.\u001b[39m\u001b[38;5;18m__class__\u001b[39m, data)\n\u001b[0;32m    340\u001b[0m \u001b[38;5;28;01mif\u001b[39;00m validation_error:\n\u001b[1;32m--> 341\u001b[0m     \u001b[38;5;28;01mraise\u001b[39;00m validation_error\n\u001b[0;32m    342\u001b[0m \u001b[38;5;28;01mtry\u001b[39;00m:\n\u001b[0;32m    343\u001b[0m     object_setattr(__pydantic_self__, \u001b[38;5;124m'\u001b[39m\u001b[38;5;124m__dict__\u001b[39m\u001b[38;5;124m'\u001b[39m, values)\n",
            "\u001b[1;31mValidationError\u001b[0m: 2 validation errors for Disambiguate\nmerge_entities -> 0\n  value is not a valid dict (type=type_error.dict)\nmerge_entities -> 1\n  value is not a valid dict (type=type_error.dict)"
          ]
        }
      ],
      "source": [
        "entity_resolution(['Star Ocean The Second Story R', 'Star Ocean: The Second Story R'])"
      ]
    },
    {
      "cell_type": "code",
      "execution_count": 77,
      "metadata": {
        "colab": {
          "base_uri": "https://localhost:8080/"
        },
        "id": "u3gNrAoUJdKA",
        "outputId": "c8063c6b-975f-460e-c2e0-83e90b9b5eed"
      },
      "outputs": [
        {
          "ename": "ValidationError",
          "evalue": "1 validation error for Disambiguate\nmerge_entities\n  value is not a valid list (type=type_error.list)",
          "output_type": "error",
          "traceback": [
            "\u001b[1;31m---------------------------------------------------------------------------\u001b[0m",
            "\u001b[1;31mValidationError\u001b[0m                           Traceback (most recent call last)",
            "Cell \u001b[1;32mIn[77], line 1\u001b[0m\n\u001b[1;32m----> 1\u001b[0m \u001b[43mentity_resolution\u001b[49m\u001b[43m(\u001b[49m\u001b[43m{\u001b[49m\u001b[38;5;124;43m\"\u001b[39;49m\u001b[38;5;124;43mentities\u001b[39;49m\u001b[38;5;124;43m\"\u001b[39;49m\u001b[43m:\u001b[49m\u001b[43m \u001b[49m\u001b[43m[\u001b[49m\u001b[38;5;124;43m'\u001b[39;49m\u001b[38;5;124;43mDecember 16, 2023\u001b[39;49m\u001b[38;5;124;43m'\u001b[39;49m\u001b[43m,\u001b[49m\n\u001b[0;32m      2\u001b[0m \u001b[43m   \u001b[49m\u001b[38;5;124;43m'\u001b[39;49m\u001b[38;5;124;43mDecember 2, 2023\u001b[39;49m\u001b[38;5;124;43m'\u001b[39;49m\u001b[43m,\u001b[49m\n\u001b[0;32m      3\u001b[0m \u001b[43m   \u001b[49m\u001b[38;5;124;43m'\u001b[39;49m\u001b[38;5;124;43mDecember 23, 2023\u001b[39;49m\u001b[38;5;124;43m'\u001b[39;49m\u001b[43m,\u001b[49m\n\u001b[0;32m      4\u001b[0m \u001b[43m   \u001b[49m\u001b[38;5;124;43m'\u001b[39;49m\u001b[38;5;124;43mDecember 26, 2023\u001b[39;49m\u001b[38;5;124;43m'\u001b[39;49m\u001b[43m,\u001b[49m\n\u001b[0;32m      5\u001b[0m \u001b[43m   \u001b[49m\u001b[38;5;124;43m'\u001b[39;49m\u001b[38;5;124;43mDecember 30, 2023\u001b[39;49m\u001b[38;5;124;43m'\u001b[39;49m\u001b[43m,\u001b[49m\n\u001b[0;32m      6\u001b[0m \u001b[43m   \u001b[49m\u001b[38;5;124;43m'\u001b[39;49m\u001b[38;5;124;43mDecember 5, 2023\u001b[39;49m\u001b[38;5;124;43m'\u001b[39;49m\u001b[43m,\u001b[49m\n\u001b[0;32m      7\u001b[0m \u001b[43m   \u001b[49m\u001b[38;5;124;43m'\u001b[39;49m\u001b[38;5;124;43mDecember 9, 2023\u001b[39;49m\u001b[38;5;124;43m'\u001b[39;49m\u001b[43m]\u001b[49m\u001b[43m}\u001b[49m\u001b[43m)\u001b[49m\n",
            "File \u001b[1;32md:\\James\\Py_repos\\GraphRAG-with-Llama-3.1\\.venv\\Lib\\site-packages\\decorator.py:232\u001b[0m, in \u001b[0;36mdecorate.<locals>.fun\u001b[1;34m(*args, **kw)\u001b[0m\n\u001b[0;32m    230\u001b[0m \u001b[38;5;28;01mif\u001b[39;00m \u001b[38;5;129;01mnot\u001b[39;00m kwsyntax:\n\u001b[0;32m    231\u001b[0m     args, kw \u001b[38;5;241m=\u001b[39m fix(args, kw, sig)\n\u001b[1;32m--> 232\u001b[0m \u001b[38;5;28;01mreturn\u001b[39;00m \u001b[43mcaller\u001b[49m\u001b[43m(\u001b[49m\u001b[43mfunc\u001b[49m\u001b[43m,\u001b[49m\u001b[43m \u001b[49m\u001b[38;5;241;43m*\u001b[39;49m\u001b[43m(\u001b[49m\u001b[43mextras\u001b[49m\u001b[43m \u001b[49m\u001b[38;5;241;43m+\u001b[39;49m\u001b[43m \u001b[49m\u001b[43margs\u001b[49m\u001b[43m)\u001b[49m\u001b[43m,\u001b[49m\u001b[43m \u001b[49m\u001b[38;5;241;43m*\u001b[39;49m\u001b[38;5;241;43m*\u001b[39;49m\u001b[43mkw\u001b[49m\u001b[43m)\u001b[49m\n",
            "File \u001b[1;32md:\\James\\Py_repos\\GraphRAG-with-Llama-3.1\\.venv\\Lib\\site-packages\\retry\\api.py:73\u001b[0m, in \u001b[0;36mretry.<locals>.retry_decorator\u001b[1;34m(f, *fargs, **fkwargs)\u001b[0m\n\u001b[0;32m     71\u001b[0m args \u001b[38;5;241m=\u001b[39m fargs \u001b[38;5;28;01mif\u001b[39;00m fargs \u001b[38;5;28;01melse\u001b[39;00m \u001b[38;5;28mlist\u001b[39m()\n\u001b[0;32m     72\u001b[0m kwargs \u001b[38;5;241m=\u001b[39m fkwargs \u001b[38;5;28;01mif\u001b[39;00m fkwargs \u001b[38;5;28;01melse\u001b[39;00m \u001b[38;5;28mdict\u001b[39m()\n\u001b[1;32m---> 73\u001b[0m \u001b[38;5;28;01mreturn\u001b[39;00m \u001b[43m__retry_internal\u001b[49m\u001b[43m(\u001b[49m\u001b[43mpartial\u001b[49m\u001b[43m(\u001b[49m\u001b[43mf\u001b[49m\u001b[43m,\u001b[49m\u001b[43m \u001b[49m\u001b[38;5;241;43m*\u001b[39;49m\u001b[43margs\u001b[49m\u001b[43m,\u001b[49m\u001b[43m \u001b[49m\u001b[38;5;241;43m*\u001b[39;49m\u001b[38;5;241;43m*\u001b[39;49m\u001b[43mkwargs\u001b[49m\u001b[43m)\u001b[49m\u001b[43m,\u001b[49m\u001b[43m \u001b[49m\u001b[43mexceptions\u001b[49m\u001b[43m,\u001b[49m\u001b[43m \u001b[49m\u001b[43mtries\u001b[49m\u001b[43m,\u001b[49m\u001b[43m \u001b[49m\u001b[43mdelay\u001b[49m\u001b[43m,\u001b[49m\u001b[43m \u001b[49m\u001b[43mmax_delay\u001b[49m\u001b[43m,\u001b[49m\u001b[43m \u001b[49m\u001b[43mbackoff\u001b[49m\u001b[43m,\u001b[49m\u001b[43m \u001b[49m\u001b[43mjitter\u001b[49m\u001b[43m,\u001b[49m\n\u001b[0;32m     74\u001b[0m \u001b[43m                        \u001b[49m\u001b[43mlogger\u001b[49m\u001b[43m)\u001b[49m\n",
            "File \u001b[1;32md:\\James\\Py_repos\\GraphRAG-with-Llama-3.1\\.venv\\Lib\\site-packages\\retry\\api.py:33\u001b[0m, in \u001b[0;36m__retry_internal\u001b[1;34m(f, exceptions, tries, delay, max_delay, backoff, jitter, logger)\u001b[0m\n\u001b[0;32m     31\u001b[0m \u001b[38;5;28;01mwhile\u001b[39;00m _tries:\n\u001b[0;32m     32\u001b[0m     \u001b[38;5;28;01mtry\u001b[39;00m:\n\u001b[1;32m---> 33\u001b[0m         \u001b[38;5;28;01mreturn\u001b[39;00m \u001b[43mf\u001b[49m\u001b[43m(\u001b[49m\u001b[43m)\u001b[49m\n\u001b[0;32m     34\u001b[0m     \u001b[38;5;28;01mexcept\u001b[39;00m exceptions \u001b[38;5;28;01mas\u001b[39;00m e:\n\u001b[0;32m     35\u001b[0m         _tries \u001b[38;5;241m-\u001b[39m\u001b[38;5;241m=\u001b[39m \u001b[38;5;241m1\u001b[39m\n",
            "Cell \u001b[1;32mIn[75], line 7\u001b[0m, in \u001b[0;36mentity_resolution\u001b[1;34m(entities)\u001b[0m\n\u001b[0;32m      3\u001b[0m \u001b[38;5;129m@retry\u001b[39m(tries\u001b[38;5;241m=\u001b[39m\u001b[38;5;241m3\u001b[39m, delay\u001b[38;5;241m=\u001b[39m\u001b[38;5;241m2\u001b[39m)\n\u001b[0;32m      4\u001b[0m \u001b[38;5;28;01mdef\u001b[39;00m \u001b[38;5;21mentity_resolution\u001b[39m(entities: List[\u001b[38;5;28mstr\u001b[39m]) \u001b[38;5;241m-\u001b[39m\u001b[38;5;241m>\u001b[39m Optional[List[\u001b[38;5;28mstr\u001b[39m]]:\n\u001b[0;32m      5\u001b[0m     \u001b[38;5;28;01mreturn\u001b[39;00m [\n\u001b[0;32m      6\u001b[0m         el\u001b[38;5;241m.\u001b[39mentities\n\u001b[1;32m----> 7\u001b[0m         \u001b[38;5;28;01mfor\u001b[39;00m el \u001b[38;5;129;01min\u001b[39;00m \u001b[43mextraction_chain\u001b[49m\u001b[38;5;241;43m.\u001b[39;49m\u001b[43minvoke\u001b[49m\u001b[43m(\u001b[49m\u001b[43m{\u001b[49m\u001b[38;5;124;43m\"\u001b[39;49m\u001b[38;5;124;43mentities\u001b[39;49m\u001b[38;5;124;43m\"\u001b[39;49m\u001b[43m:\u001b[49m\u001b[43m \u001b[49m\u001b[43mentities\u001b[49m\u001b[43m}\u001b[49m\u001b[43m)\u001b[49m\u001b[38;5;241m.\u001b[39mmerge_entities\n\u001b[0;32m      8\u001b[0m     ]\n",
            "File \u001b[1;32md:\\James\\Py_repos\\GraphRAG-with-Llama-3.1\\.venv\\Lib\\site-packages\\langchain_core\\runnables\\base.py:3022\u001b[0m, in \u001b[0;36mRunnableSequence.invoke\u001b[1;34m(self, input, config, **kwargs)\u001b[0m\n\u001b[0;32m   3020\u001b[0m             \u001b[38;5;28minput\u001b[39m \u001b[38;5;241m=\u001b[39m context\u001b[38;5;241m.\u001b[39mrun(step\u001b[38;5;241m.\u001b[39minvoke, \u001b[38;5;28minput\u001b[39m, config, \u001b[38;5;241m*\u001b[39m\u001b[38;5;241m*\u001b[39mkwargs)\n\u001b[0;32m   3021\u001b[0m         \u001b[38;5;28;01melse\u001b[39;00m:\n\u001b[1;32m-> 3022\u001b[0m             \u001b[38;5;28minput\u001b[39m \u001b[38;5;241m=\u001b[39m context\u001b[38;5;241m.\u001b[39mrun(step\u001b[38;5;241m.\u001b[39minvoke, \u001b[38;5;28minput\u001b[39m, config)\n\u001b[0;32m   3023\u001b[0m \u001b[38;5;66;03m# finish the root run\u001b[39;00m\n\u001b[0;32m   3024\u001b[0m \u001b[38;5;28;01mexcept\u001b[39;00m \u001b[38;5;167;01mBaseException\u001b[39;00m \u001b[38;5;28;01mas\u001b[39;00m e:\n",
            "File \u001b[1;32md:\\James\\Py_repos\\GraphRAG-with-Llama-3.1\\.venv\\Lib\\site-packages\\langchain_core\\output_parsers\\base.py:193\u001b[0m, in \u001b[0;36mBaseOutputParser.invoke\u001b[1;34m(self, input, config, **kwargs)\u001b[0m\n\u001b[0;32m    186\u001b[0m \u001b[38;5;28;01mdef\u001b[39;00m \u001b[38;5;21minvoke\u001b[39m(\n\u001b[0;32m    187\u001b[0m     \u001b[38;5;28mself\u001b[39m,\n\u001b[0;32m    188\u001b[0m     \u001b[38;5;28minput\u001b[39m: Union[\u001b[38;5;28mstr\u001b[39m, BaseMessage],\n\u001b[0;32m    189\u001b[0m     config: Optional[RunnableConfig] \u001b[38;5;241m=\u001b[39m \u001b[38;5;28;01mNone\u001b[39;00m,\n\u001b[0;32m    190\u001b[0m     \u001b[38;5;241m*\u001b[39m\u001b[38;5;241m*\u001b[39mkwargs: Any,\n\u001b[0;32m    191\u001b[0m ) \u001b[38;5;241m-\u001b[39m\u001b[38;5;241m>\u001b[39m T:\n\u001b[0;32m    192\u001b[0m     \u001b[38;5;28;01mif\u001b[39;00m \u001b[38;5;28misinstance\u001b[39m(\u001b[38;5;28minput\u001b[39m, BaseMessage):\n\u001b[1;32m--> 193\u001b[0m         \u001b[38;5;28;01mreturn\u001b[39;00m \u001b[38;5;28;43mself\u001b[39;49m\u001b[38;5;241;43m.\u001b[39;49m\u001b[43m_call_with_config\u001b[49m\u001b[43m(\u001b[49m\n\u001b[0;32m    194\u001b[0m \u001b[43m            \u001b[49m\u001b[38;5;28;43;01mlambda\u001b[39;49;00m\u001b[43m \u001b[49m\u001b[43minner_input\u001b[49m\u001b[43m:\u001b[49m\u001b[43m \u001b[49m\u001b[38;5;28;43mself\u001b[39;49m\u001b[38;5;241;43m.\u001b[39;49m\u001b[43mparse_result\u001b[49m\u001b[43m(\u001b[49m\n\u001b[0;32m    195\u001b[0m \u001b[43m                \u001b[49m\u001b[43m[\u001b[49m\u001b[43mChatGeneration\u001b[49m\u001b[43m(\u001b[49m\u001b[43mmessage\u001b[49m\u001b[38;5;241;43m=\u001b[39;49m\u001b[43minner_input\u001b[49m\u001b[43m)\u001b[49m\u001b[43m]\u001b[49m\n\u001b[0;32m    196\u001b[0m \u001b[43m            \u001b[49m\u001b[43m)\u001b[49m\u001b[43m,\u001b[49m\n\u001b[0;32m    197\u001b[0m \u001b[43m            \u001b[49m\u001b[38;5;28;43minput\u001b[39;49m\u001b[43m,\u001b[49m\n\u001b[0;32m    198\u001b[0m \u001b[43m            \u001b[49m\u001b[43mconfig\u001b[49m\u001b[43m,\u001b[49m\n\u001b[0;32m    199\u001b[0m \u001b[43m            \u001b[49m\u001b[43mrun_type\u001b[49m\u001b[38;5;241;43m=\u001b[39;49m\u001b[38;5;124;43m\"\u001b[39;49m\u001b[38;5;124;43mparser\u001b[39;49m\u001b[38;5;124;43m\"\u001b[39;49m\u001b[43m,\u001b[49m\n\u001b[0;32m    200\u001b[0m \u001b[43m        \u001b[49m\u001b[43m)\u001b[49m\n\u001b[0;32m    201\u001b[0m     \u001b[38;5;28;01melse\u001b[39;00m:\n\u001b[0;32m    202\u001b[0m         \u001b[38;5;28;01mreturn\u001b[39;00m \u001b[38;5;28mself\u001b[39m\u001b[38;5;241m.\u001b[39m_call_with_config(\n\u001b[0;32m    203\u001b[0m             \u001b[38;5;28;01mlambda\u001b[39;00m inner_input: \u001b[38;5;28mself\u001b[39m\u001b[38;5;241m.\u001b[39mparse_result([Generation(text\u001b[38;5;241m=\u001b[39minner_input)]),\n\u001b[0;32m    204\u001b[0m             \u001b[38;5;28minput\u001b[39m,\n\u001b[0;32m    205\u001b[0m             config,\n\u001b[0;32m    206\u001b[0m             run_type\u001b[38;5;241m=\u001b[39m\u001b[38;5;124m\"\u001b[39m\u001b[38;5;124mparser\u001b[39m\u001b[38;5;124m\"\u001b[39m,\n\u001b[0;32m    207\u001b[0m         )\n",
            "File \u001b[1;32md:\\James\\Py_repos\\GraphRAG-with-Llama-3.1\\.venv\\Lib\\site-packages\\langchain_core\\runnables\\base.py:1925\u001b[0m, in \u001b[0;36mRunnable._call_with_config\u001b[1;34m(self, func, input, config, run_type, serialized, **kwargs)\u001b[0m\n\u001b[0;32m   1921\u001b[0m     context \u001b[38;5;241m=\u001b[39m copy_context()\n\u001b[0;32m   1922\u001b[0m     context\u001b[38;5;241m.\u001b[39mrun(_set_config_context, child_config)\n\u001b[0;32m   1923\u001b[0m     output \u001b[38;5;241m=\u001b[39m cast(\n\u001b[0;32m   1924\u001b[0m         Output,\n\u001b[1;32m-> 1925\u001b[0m         \u001b[43mcontext\u001b[49m\u001b[38;5;241;43m.\u001b[39;49m\u001b[43mrun\u001b[49m\u001b[43m(\u001b[49m\n\u001b[0;32m   1926\u001b[0m \u001b[43m            \u001b[49m\u001b[43mcall_func_with_variable_args\u001b[49m\u001b[43m,\u001b[49m\u001b[43m  \u001b[49m\u001b[38;5;66;43;03m# type: ignore[arg-type]\u001b[39;49;00m\n\u001b[0;32m   1927\u001b[0m \u001b[43m            \u001b[49m\u001b[43mfunc\u001b[49m\u001b[43m,\u001b[49m\u001b[43m  \u001b[49m\u001b[38;5;66;43;03m# type: ignore[arg-type]\u001b[39;49;00m\n\u001b[0;32m   1928\u001b[0m \u001b[43m            \u001b[49m\u001b[38;5;28;43minput\u001b[39;49m\u001b[43m,\u001b[49m\u001b[43m  \u001b[49m\u001b[38;5;66;43;03m# type: ignore[arg-type]\u001b[39;49;00m\n\u001b[0;32m   1929\u001b[0m \u001b[43m            \u001b[49m\u001b[43mconfig\u001b[49m\u001b[43m,\u001b[49m\n\u001b[0;32m   1930\u001b[0m \u001b[43m            \u001b[49m\u001b[43mrun_manager\u001b[49m\u001b[43m,\u001b[49m\n\u001b[0;32m   1931\u001b[0m \u001b[43m            \u001b[49m\u001b[38;5;241;43m*\u001b[39;49m\u001b[38;5;241;43m*\u001b[39;49m\u001b[43mkwargs\u001b[49m\u001b[43m,\u001b[49m\n\u001b[0;32m   1932\u001b[0m \u001b[43m        \u001b[49m\u001b[43m)\u001b[49m,\n\u001b[0;32m   1933\u001b[0m     )\n\u001b[0;32m   1934\u001b[0m \u001b[38;5;28;01mexcept\u001b[39;00m \u001b[38;5;167;01mBaseException\u001b[39;00m \u001b[38;5;28;01mas\u001b[39;00m e:\n\u001b[0;32m   1935\u001b[0m     run_manager\u001b[38;5;241m.\u001b[39mon_chain_error(e)\n",
            "File \u001b[1;32md:\\James\\Py_repos\\GraphRAG-with-Llama-3.1\\.venv\\Lib\\site-packages\\langchain_core\\runnables\\config.py:396\u001b[0m, in \u001b[0;36mcall_func_with_variable_args\u001b[1;34m(func, input, config, run_manager, **kwargs)\u001b[0m\n\u001b[0;32m    394\u001b[0m \u001b[38;5;28;01mif\u001b[39;00m run_manager \u001b[38;5;129;01mis\u001b[39;00m \u001b[38;5;129;01mnot\u001b[39;00m \u001b[38;5;28;01mNone\u001b[39;00m \u001b[38;5;129;01mand\u001b[39;00m accepts_run_manager(func):\n\u001b[0;32m    395\u001b[0m     kwargs[\u001b[38;5;124m\"\u001b[39m\u001b[38;5;124mrun_manager\u001b[39m\u001b[38;5;124m\"\u001b[39m] \u001b[38;5;241m=\u001b[39m run_manager\n\u001b[1;32m--> 396\u001b[0m \u001b[38;5;28;01mreturn\u001b[39;00m \u001b[43mfunc\u001b[49m\u001b[43m(\u001b[49m\u001b[38;5;28;43minput\u001b[39;49m\u001b[43m,\u001b[49m\u001b[43m \u001b[49m\u001b[38;5;241;43m*\u001b[39;49m\u001b[38;5;241;43m*\u001b[39;49m\u001b[43mkwargs\u001b[49m\u001b[43m)\u001b[49m\n",
            "File \u001b[1;32md:\\James\\Py_repos\\GraphRAG-with-Llama-3.1\\.venv\\Lib\\site-packages\\langchain_core\\output_parsers\\base.py:194\u001b[0m, in \u001b[0;36mBaseOutputParser.invoke.<locals>.<lambda>\u001b[1;34m(inner_input)\u001b[0m\n\u001b[0;32m    186\u001b[0m \u001b[38;5;28;01mdef\u001b[39;00m \u001b[38;5;21minvoke\u001b[39m(\n\u001b[0;32m    187\u001b[0m     \u001b[38;5;28mself\u001b[39m,\n\u001b[0;32m    188\u001b[0m     \u001b[38;5;28minput\u001b[39m: Union[\u001b[38;5;28mstr\u001b[39m, BaseMessage],\n\u001b[0;32m    189\u001b[0m     config: Optional[RunnableConfig] \u001b[38;5;241m=\u001b[39m \u001b[38;5;28;01mNone\u001b[39;00m,\n\u001b[0;32m    190\u001b[0m     \u001b[38;5;241m*\u001b[39m\u001b[38;5;241m*\u001b[39mkwargs: Any,\n\u001b[0;32m    191\u001b[0m ) \u001b[38;5;241m-\u001b[39m\u001b[38;5;241m>\u001b[39m T:\n\u001b[0;32m    192\u001b[0m     \u001b[38;5;28;01mif\u001b[39;00m \u001b[38;5;28misinstance\u001b[39m(\u001b[38;5;28minput\u001b[39m, BaseMessage):\n\u001b[0;32m    193\u001b[0m         \u001b[38;5;28;01mreturn\u001b[39;00m \u001b[38;5;28mself\u001b[39m\u001b[38;5;241m.\u001b[39m_call_with_config(\n\u001b[1;32m--> 194\u001b[0m             \u001b[38;5;28;01mlambda\u001b[39;00m inner_input: \u001b[38;5;28;43mself\u001b[39;49m\u001b[38;5;241;43m.\u001b[39;49m\u001b[43mparse_result\u001b[49m\u001b[43m(\u001b[49m\n\u001b[0;32m    195\u001b[0m \u001b[43m                \u001b[49m\u001b[43m[\u001b[49m\u001b[43mChatGeneration\u001b[49m\u001b[43m(\u001b[49m\u001b[43mmessage\u001b[49m\u001b[38;5;241;43m=\u001b[39;49m\u001b[43minner_input\u001b[49m\u001b[43m)\u001b[49m\u001b[43m]\u001b[49m\n\u001b[0;32m    196\u001b[0m \u001b[43m            \u001b[49m\u001b[43m)\u001b[49m,\n\u001b[0;32m    197\u001b[0m             \u001b[38;5;28minput\u001b[39m,\n\u001b[0;32m    198\u001b[0m             config,\n\u001b[0;32m    199\u001b[0m             run_type\u001b[38;5;241m=\u001b[39m\u001b[38;5;124m\"\u001b[39m\u001b[38;5;124mparser\u001b[39m\u001b[38;5;124m\"\u001b[39m,\n\u001b[0;32m    200\u001b[0m         )\n\u001b[0;32m    201\u001b[0m     \u001b[38;5;28;01melse\u001b[39;00m:\n\u001b[0;32m    202\u001b[0m         \u001b[38;5;28;01mreturn\u001b[39;00m \u001b[38;5;28mself\u001b[39m\u001b[38;5;241m.\u001b[39m_call_with_config(\n\u001b[0;32m    203\u001b[0m             \u001b[38;5;28;01mlambda\u001b[39;00m inner_input: \u001b[38;5;28mself\u001b[39m\u001b[38;5;241m.\u001b[39mparse_result([Generation(text\u001b[38;5;241m=\u001b[39minner_input)]),\n\u001b[0;32m    204\u001b[0m             \u001b[38;5;28minput\u001b[39m,\n\u001b[0;32m    205\u001b[0m             config,\n\u001b[0;32m    206\u001b[0m             run_type\u001b[38;5;241m=\u001b[39m\u001b[38;5;124m\"\u001b[39m\u001b[38;5;124mparser\u001b[39m\u001b[38;5;124m\"\u001b[39m,\n\u001b[0;32m    207\u001b[0m         )\n",
            "File \u001b[1;32md:\\James\\Py_repos\\GraphRAG-with-Llama-3.1\\.venv\\Lib\\site-packages\\langchain_core\\output_parsers\\openai_tools.py:298\u001b[0m, in \u001b[0;36mPydanticToolsParser.parse_result\u001b[1;34m(self, result, partial)\u001b[0m\n\u001b[0;32m    296\u001b[0m             \u001b[38;5;28;01mcontinue\u001b[39;00m\n\u001b[0;32m    297\u001b[0m         \u001b[38;5;28;01melse\u001b[39;00m:\n\u001b[1;32m--> 298\u001b[0m             \u001b[38;5;28;01mraise\u001b[39;00m e\n\u001b[0;32m    299\u001b[0m \u001b[38;5;28;01mif\u001b[39;00m \u001b[38;5;28mself\u001b[39m\u001b[38;5;241m.\u001b[39mfirst_tool_only:\n\u001b[0;32m    300\u001b[0m     \u001b[38;5;28;01mreturn\u001b[39;00m pydantic_objects[\u001b[38;5;241m0\u001b[39m] \u001b[38;5;28;01mif\u001b[39;00m pydantic_objects \u001b[38;5;28;01melse\u001b[39;00m \u001b[38;5;28;01mNone\u001b[39;00m\n",
            "File \u001b[1;32md:\\James\\Py_repos\\GraphRAG-with-Llama-3.1\\.venv\\Lib\\site-packages\\langchain_core\\output_parsers\\openai_tools.py:293\u001b[0m, in \u001b[0;36mPydanticToolsParser.parse_result\u001b[1;34m(self, result, partial)\u001b[0m\n\u001b[0;32m    288\u001b[0m         msg \u001b[38;5;241m=\u001b[39m (\n\u001b[0;32m    289\u001b[0m             \u001b[38;5;124mf\u001b[39m\u001b[38;5;124m\"\u001b[39m\u001b[38;5;124mTool arguments must be specified as a dict, received: \u001b[39m\u001b[38;5;124m\"\u001b[39m\n\u001b[0;32m    290\u001b[0m             \u001b[38;5;124mf\u001b[39m\u001b[38;5;124m\"\u001b[39m\u001b[38;5;132;01m{\u001b[39;00mres[\u001b[38;5;124m'\u001b[39m\u001b[38;5;124margs\u001b[39m\u001b[38;5;124m'\u001b[39m]\u001b[38;5;132;01m}\u001b[39;00m\u001b[38;5;124m\"\u001b[39m\n\u001b[0;32m    291\u001b[0m         )\n\u001b[0;32m    292\u001b[0m         \u001b[38;5;28;01mraise\u001b[39;00m \u001b[38;5;167;01mValueError\u001b[39;00m(msg)\n\u001b[1;32m--> 293\u001b[0m     pydantic_objects\u001b[38;5;241m.\u001b[39mappend(\u001b[43mname_dict\u001b[49m\u001b[43m[\u001b[49m\u001b[43mres\u001b[49m\u001b[43m[\u001b[49m\u001b[38;5;124;43m\"\u001b[39;49m\u001b[38;5;124;43mtype\u001b[39;49m\u001b[38;5;124;43m\"\u001b[39;49m\u001b[43m]\u001b[49m\u001b[43m]\u001b[49m\u001b[43m(\u001b[49m\u001b[38;5;241;43m*\u001b[39;49m\u001b[38;5;241;43m*\u001b[39;49m\u001b[43mres\u001b[49m\u001b[43m[\u001b[49m\u001b[38;5;124;43m\"\u001b[39;49m\u001b[38;5;124;43margs\u001b[39;49m\u001b[38;5;124;43m\"\u001b[39;49m\u001b[43m]\u001b[49m\u001b[43m)\u001b[49m)\n\u001b[0;32m    294\u001b[0m \u001b[38;5;28;01mexcept\u001b[39;00m (ValidationError, \u001b[38;5;167;01mValueError\u001b[39;00m) \u001b[38;5;28;01mas\u001b[39;00m e:\n\u001b[0;32m    295\u001b[0m     \u001b[38;5;28;01mif\u001b[39;00m partial:\n",
            "File \u001b[1;32md:\\James\\Py_repos\\GraphRAG-with-Llama-3.1\\.venv\\Lib\\site-packages\\pydantic\\v1\\main.py:341\u001b[0m, in \u001b[0;36mBaseModel.__init__\u001b[1;34m(__pydantic_self__, **data)\u001b[0m\n\u001b[0;32m    339\u001b[0m values, fields_set, validation_error \u001b[38;5;241m=\u001b[39m validate_model(__pydantic_self__\u001b[38;5;241m.\u001b[39m\u001b[38;5;18m__class__\u001b[39m, data)\n\u001b[0;32m    340\u001b[0m \u001b[38;5;28;01mif\u001b[39;00m validation_error:\n\u001b[1;32m--> 341\u001b[0m     \u001b[38;5;28;01mraise\u001b[39;00m validation_error\n\u001b[0;32m    342\u001b[0m \u001b[38;5;28;01mtry\u001b[39;00m:\n\u001b[0;32m    343\u001b[0m     object_setattr(__pydantic_self__, \u001b[38;5;124m'\u001b[39m\u001b[38;5;124m__dict__\u001b[39m\u001b[38;5;124m'\u001b[39m, values)\n",
            "\u001b[1;31mValidationError\u001b[0m: 1 validation error for Disambiguate\nmerge_entities\n  value is not a valid list (type=type_error.list)"
          ]
        }
      ],
      "source": [
        "entity_resolution({\"entities\": ['December 16, 2023',\n",
        "   'December 2, 2023',\n",
        "   'December 23, 2023',\n",
        "   'December 26, 2023',\n",
        "   'December 30, 2023',\n",
        "   'December 5, 2023',\n",
        "   'December 9, 2023']})"
      ]
    },
    {
      "cell_type": "markdown",
      "metadata": {
        "id": "jL0WhRpChpDP"
      },
      "source": [
        "We need to run all potential candidate nodes through the entity_resolution function to decide whether they should be merged. To speed up the process, we will again parallelize the LLM calls:"
      ]
    },
    {
      "cell_type": "code",
      "execution_count": 78,
      "metadata": {
        "colab": {
          "base_uri": "https://localhost:8080/"
        },
        "id": "ofXSUcm8KSrI",
        "outputId": "74c0987c-0332-46c6-f8c4-6ca425349c41"
      },
      "outputs": [
        {
          "name": "stderr",
          "output_type": "stream",
          "text": [
            "Processing documents: 0it [00:00, ?it/s]\n"
          ]
        }
      ],
      "source": [
        "merged_entities = []\n",
        "with ThreadPoolExecutor(max_workers=MAX_WORKERS) as executor:\n",
        "    # Submitting all tasks and creating a list of future objects\n",
        "    futures = [\n",
        "        executor.submit(entity_resolution, el['combinedResult'])\n",
        "        for el in potential_duplicate_candidates\n",
        "    ]\n",
        "\n",
        "    for future in tqdm(\n",
        "        as_completed(futures), total=len(futures), desc=\"Processing documents\"\n",
        "    ):\n",
        "        to_merge = future.result()\n",
        "        if to_merge:\n",
        "            merged_entities.extend(to_merge)"
      ]
    },
    {
      "cell_type": "code",
      "execution_count": 79,
      "metadata": {
        "colab": {
          "base_uri": "https://localhost:8080/"
        },
        "id": "OmuqZmrGLmSp",
        "outputId": "382783c2-7fe0-4f69-e09c-1f4fd14a1c5a"
      },
      "outputs": [
        {
          "data": {
            "text/plain": [
              "[]"
            ]
          },
          "execution_count": 79,
          "metadata": {},
          "output_type": "execute_result"
        }
      ],
      "source": [
        "merged_entities[:10]"
      ]
    },
    {
      "cell_type": "markdown",
      "metadata": {
        "id": "peZElkVJhuaP"
      },
      "source": [
        "The final step of entity resolution involves taking the results from the entity_resolution LLM and writing them back to the database by merging the specified nodes:\n",
        "\n"
      ]
    },
    {
      "cell_type": "code",
      "execution_count": 80,
      "metadata": {
        "colab": {
          "base_uri": "https://localhost:8080/"
        },
        "id": "e8Mg310yMLhZ",
        "outputId": "f1ca21a8-874d-4f5c-b1bd-d5db5b8bf26a"
      },
      "outputs": [
        {
          "data": {
            "text/plain": [
              "[{'count(*)': 0}]"
            ]
          },
          "execution_count": 80,
          "metadata": {},
          "output_type": "execute_result"
        }
      ],
      "source": [
        "graph.query(\"\"\"\n",
        "UNWIND $data AS candidates\n",
        "CALL {\n",
        "  WITH candidates\n",
        "  MATCH (e:__Entity__) WHERE e.id IN candidates\n",
        "  RETURN collect(e) AS nodes\n",
        "}\n",
        "CALL apoc.refactor.mergeNodes(nodes, {properties: {\n",
        "    `.*`: 'discard'\n",
        "}})\n",
        "YIELD node\n",
        "RETURN count(*)\n",
        "\"\"\", params={\"data\": merged_entities})"
      ]
    },
    {
      "cell_type": "code",
      "execution_count": 81,
      "metadata": {
        "colab": {
          "base_uri": "https://localhost:8080/"
        },
        "id": "XgGHDn-Wi1BH",
        "outputId": "3ae9a773-4f3d-491f-9743-28b2b7916457"
      },
      "outputs": [
        {
          "data": {
            "text/plain": [
              "graphName                                                         entities\n",
              "database                                                             neo4j\n",
              "databaseLocation                                                     local\n",
              "memoryUsage                                                               \n",
              "sizeInBytes                                                             -1\n",
              "nodeCount                                                              126\n",
              "relationshipCount                                                        2\n",
              "configuration            {'relationshipProjection': {'__ALL__': {'aggre...\n",
              "density                                                           0.000127\n",
              "creationTime                           2025-01-26T12:22:02.119752980+00:00\n",
              "modificationTime                       2025-01-26T12:22:06.488441336+00:00\n",
              "schema                   {'graphProperties': {}, 'nodes': {'__Entity__'...\n",
              "schemaWithOrientation    {'graphProperties': {}, 'nodes': {'__Entity__'...\n",
              "Name: 0, dtype: object"
            ]
          },
          "execution_count": 81,
          "metadata": {},
          "output_type": "execute_result"
        }
      ],
      "source": [
        "G.drop()"
      ]
    },
    {
      "cell_type": "markdown",
      "metadata": {
        "id": "7Nwk7OgPjVPK"
      },
      "source": [
        "This entity resolution is not perfect, but it gives us a starting point upon which we can improve. Additionally, we can improve the logic for determining which entities should be retained.\n",
        "\n",
        "### Element Summarization\n",
        "In the next step, the authors perform an element summarization step. Essentially, every node and relationship gets passed through an entity summarization prompt. The authors note the novelty and interest of their approach:\n",
        "\n",
        "“Overall, our use of rich descriptive text for homogeneous nodes in a potentially noisy graph structure is aligned with both the capabilities of LLMs and the needs of global, query-focused summarization. These qualities also differentiate our graph index from typical knowledge graphs, which rely on concise and consistent knowledge triples (subject, predicate, object) for downstream reasoning tasks.”\n",
        "\n",
        "The idea is exciting. We still extract subject and object IDs or names from text, which allows us to link relationships to correct entities, even when entities appear across multiple text chunks. However, the relationships aren’t reduced to a single type. Instead, the relationship type is actually a freeform text that allows us to retain richer and more nuanced information.\n",
        "\n",
        "Additionally, the entity information is summarized using an LLM, allowing us to embed and index this information and entities more efficiently for more accurate retrieval.\n",
        "\n",
        "One could argue that this richer and more nuanced information could also be retained by adding additional, possibly arbitrary, node and relationship properties. One issue with arbitrary node and relationship properties is that it could be hard to extract the information consistently because the LLM might use different property names or focus on various details on every execution.\n",
        "\n",
        "Some of these problems could be solved using predefined property names with additional type and description information. In that case, you would need a subject-matter expert to help define those properties, leaving little room for an LLM to extract any vital information outside the predefined descriptions.\n",
        "\n",
        "It’s an exciting approach to represent richer information in a knowledge graph.\n",
        "\n",
        "One potential issue with the element summarization step is that it does not scale well since it requires an LLM call for every entity and relationship in the graph. Our graph is relatively tiny with 13,000 nodes and 16,000 relationships. Even for such a small graph, we would require 29,000 LLM calls, and each call would use a couple hundred tokens, making it quite expensive and time-intensive. Therefore, we will avoid this step here. We can still use the description properties extracted during the initial text processing.\n",
        "\n",
        "### Constructing and Summarizing Communities\n",
        "The final step in the graph construction and indexing process involves identifying communities within the graph. In this context, a community is a group of nodes that are more densely connected to each other than to the rest of the graph, indicating a higher level of interaction or similarity. The following visualization shows an example of community detection results.\n",
        "\n",
        "![title](https://miro.medium.com/v2/resize:fit:1400/format:webp/0*l2i3ctl8s6xdR6ul.png)\n",
        "\n",
        "Once these entity communities are identified with a clustering algorithm, an LLM generates a summary for each community, providing insights into their individual characteristics and relationships.\n",
        "\n",
        "Again, we use the Graph Data Science library. We start by projecting an in-memory graph. To follow the original article precisely, we will project the graph of entities as an undirected weighted network, where the network represents the number of connections between two entities:"
      ]
    },
    {
      "cell_type": "code",
      "execution_count": 83,
      "metadata": {
        "id": "9VCZpBBMjGQq"
      },
      "outputs": [],
      "source": [
        "# Drop the graph if it already exists\n",
        "try:\n",
        "    gds.graph.drop(\"communities\")\n",
        "except Exception as e:\n",
        "    print(f\"Failed to drop graph: {e}\")\n",
        "\n",
        "G, result = gds.graph.project(\n",
        "    \"communities\",  #  Graph name\n",
        "    \"__Entity__\",  #  Node projection\n",
        "    {\n",
        "        \"_ALL_\": {\n",
        "            \"type\": \"*\",\n",
        "            \"orientation\": \"UNDIRECTED\",\n",
        "            \"properties\": {\"weight\": {\"property\": \"*\", \"aggregation\": \"COUNT\"}},\n",
        "        }\n",
        "    },\n",
        ")"
      ]
    },
    {
      "cell_type": "markdown",
      "metadata": {
        "id": "-tuPpCJ3iAZZ"
      },
      "source": [
        "The authors employed the Leiden algorithm, a hierarchical clustering method, to identify communities within the graph. One advantage of using a hierarchical community detection algorithm is the ability to examine communities at multiple levels of granularity. The authors suggest summarizing all communities at each level, providing a comprehensive understanding of the graph’s structure.\n",
        "\n",
        "First, we will use the Weakly Connected Components (WCC) algorithm to assess the connectivity of our graph. This algorithm identifies isolated sections within the graph, meaning it detects subsets of nodes or components that are connected to each other but not to the rest of the graph. These components help us understand the fragmentation within the network and identify groups of nodes that are independent from others. WCC is vital for analyzing the overall structure and connectivity of the graph."
      ]
    },
    {
      "cell_type": "code",
      "execution_count": 84,
      "metadata": {
        "colab": {
          "base_uri": "https://localhost:8080/"
        },
        "id": "Hs-nCOuWuW6M",
        "outputId": "2b89168c-e0de-4d43-9bae-0defb66a6177"
      },
      "outputs": [
        {
          "name": "stdout",
          "output_type": "stream",
          "text": [
            "Component count: 126\n",
            "Component distribution: {'min': 1, 'p5': 1, 'max': 1, 'p999': 1, 'p99': 1, 'p1': 1, 'p10': 1, 'p90': 1, 'p50': 1, 'p25': 1, 'p75': 1, 'p95': 1, 'mean': 1.0}\n"
          ]
        }
      ],
      "source": [
        "wcc = gds.wcc.stats(G)\n",
        "print(f\"Component count: {wcc['componentCount']}\")\n",
        "print(f\"Component distribution: {wcc['componentDistribution']}\")"
      ]
    },
    {
      "cell_type": "markdown",
      "metadata": {
        "id": "ZbQkCrH8iCPY"
      },
      "source": [
        "The WCC algorithm results identified 1,119 distinct components. Notably, the largest component comprises 9,109 nodes, common in real-world networks where a single super component coexists with numerous smaller isolated components. The smallest component has one node, and the average component size is about 11.3 nodes.\n",
        "\n",
        "Next, we will run the Leiden algorithm, which is also available in the GDS library, and enable the includeIntermediateCommunities parameter to return and store communities at all levels. We have also included a relationshipWeightProperty parameter to run the weighted variant of the Leiden algorithm. Using the write mode of the algorithm stores the results as a node property."
      ]
    },
    {
      "cell_type": "code",
      "execution_count": 85,
      "metadata": {
        "colab": {
          "base_uri": "https://localhost:8080/"
        },
        "id": "O9aLrUsykFa0",
        "outputId": "3163d266-eb0a-4280-c0fe-3541b085fe79"
      },
      "outputs": [
        {
          "data": {
            "text/plain": [
              "writeMillis                                                             57\n",
              "nodePropertiesWritten                                                  126\n",
              "ranLevels                                                                1\n",
              "didConverge                                                           True\n",
              "nodeCount                                                              126\n",
              "communityCount                                                         126\n",
              "communityDistribution    {'min': 1, 'p5': 1, 'max': 1, 'p999': 1, 'p99'...\n",
              "modularity                                                             NaN\n",
              "modularities                                                         [nan]\n",
              "postProcessingMillis                                                     2\n",
              "preProcessingMillis                                                      1\n",
              "computeMillis                                                           38\n",
              "configuration            {'writeProperty': 'communities', 'theta': 0.01...\n",
              "Name: 0, dtype: object"
            ]
          },
          "execution_count": 85,
          "metadata": {},
          "output_type": "execute_result"
        }
      ],
      "source": [
        "gds.leiden.write(\n",
        "    G,\n",
        "    writeProperty=\"communities\",\n",
        "    includeIntermediateCommunities=True,\n",
        "    relationshipWeightProperty=\"weight\",\n",
        ")\n"
      ]
    },
    {
      "cell_type": "markdown",
      "metadata": {
        "id": "0a5AxvzLiHHa"
      },
      "source": [
        "The algorithm identified five levels of communities, with the highest (least granular level where communities are largest) having 1,188 communities (as opposed to 1,119 components). Building on this, we will create a distinct node for each community and represent their hierarchical structure as an interconnected graph. Later, we will also store community summaries and other attributes as node properties."
      ]
    },
    {
      "cell_type": "code",
      "execution_count": 86,
      "metadata": {
        "colab": {
          "base_uri": "https://localhost:8080/"
        },
        "id": "-qIC9PZcGujw",
        "outputId": "ca868bb4-363d-43bc-a6cf-c782bf31b70e"
      },
      "outputs": [
        {
          "data": {
            "text/plain": [
              "[]"
            ]
          },
          "execution_count": 86,
          "metadata": {},
          "output_type": "execute_result"
        }
      ],
      "source": [
        "graph.query(\"CREATE CONSTRAINT IF NOT EXISTS FOR (c:__Community__) REQUIRE c.id IS UNIQUE;\")"
      ]
    },
    {
      "cell_type": "code",
      "execution_count": 87,
      "metadata": {
        "colab": {
          "base_uri": "https://localhost:8080/"
        },
        "id": "EKRaBUjpwNNs",
        "outputId": "411bac03-6a28-4f65-f775-18b185834e06"
      },
      "outputs": [
        {
          "data": {
            "text/plain": [
              "[{'count(*)': 126}]"
            ]
          },
          "execution_count": 87,
          "metadata": {},
          "output_type": "execute_result"
        }
      ],
      "source": [
        "graph.query(\"\"\"\n",
        "MATCH (e:`__Entity__`)\n",
        "UNWIND range(0, size(e.communities) - 1 , 1) AS index\n",
        "CALL {\n",
        "  WITH e, index\n",
        "  WITH e, index\n",
        "  WHERE index = 0\n",
        "  MERGE (c:`__Community__` {id: toString(index) + '-' + toString(e.communities[index])})\n",
        "  ON CREATE SET c.level = index\n",
        "  MERGE (e)-[:IN_COMMUNITY]->(c)\n",
        "  RETURN count(*) AS count_0\n",
        "}\n",
        "CALL {\n",
        "  WITH e, index\n",
        "  WITH e, index\n",
        "  WHERE index > 0\n",
        "  MERGE (current:`__Community__` {id: toString(index) + '-' + toString(e.communities[index])})\n",
        "  ON CREATE SET current.level = index\n",
        "  MERGE (previous:`__Community__` {id: toString(index - 1) + '-' + toString(e.communities[index - 1])})\n",
        "  ON CREATE SET previous.level = index - 1\n",
        "  MERGE (previous)-[:IN_COMMUNITY]->(current)\n",
        "  RETURN count(*) AS count_1\n",
        "}\n",
        "RETURN count(*)\n",
        "\"\"\")"
      ]
    },
    {
      "cell_type": "markdown",
      "metadata": {
        "id": "hoIno_V3iOOZ"
      },
      "source": [
        "The authors also introduce a community rank, indicating the number of distinct text chunks in which the entities within the community appear:"
      ]
    },
    {
      "cell_type": "code",
      "execution_count": 88,
      "metadata": {
        "colab": {
          "base_uri": "https://localhost:8080/"
        },
        "id": "QA4CZxcyIkd8",
        "outputId": "a61e223e-79ad-430d-9dbc-4a30b180facd"
      },
      "outputs": [
        {
          "data": {
            "text/plain": [
              "[]"
            ]
          },
          "execution_count": 88,
          "metadata": {},
          "output_type": "execute_result"
        }
      ],
      "source": [
        "graph.query(\"\"\"\n",
        "MATCH (c:__Community__)<-[:IN_COMMUNITY*]-(:__Entity__)<-[:MENTIONS]-(d:Document)\n",
        "WITH c, count(distinct d) AS rank\n",
        "SET c.community_rank = rank;\n",
        "\"\"\")"
      ]
    },
    {
      "cell_type": "markdown",
      "metadata": {
        "id": "u6V00ZDKiQ-w"
      },
      "source": [
        "Now let’s examine a sample hierarchical structure with many intermediate communities merging at higher levels. The communities are non-overlapping, meaning that each entity belongs to precisely a single community at each level.\n",
        "Let’s examine the number of communities and their sizes and different levels in more detail:"
      ]
    },
    {
      "cell_type": "code",
      "execution_count": 89,
      "metadata": {
        "colab": {
          "base_uri": "https://localhost:8080/",
          "height": 206
        },
        "id": "sU2Eg54TLjAV",
        "outputId": "1d6a6ffd-8256-4aa6-b2f1-c275f1218621"
      },
      "outputs": [
        {
          "data": {
            "text/html": [
              "<div>\n",
              "<style scoped>\n",
              "    .dataframe tbody tr th:only-of-type {\n",
              "        vertical-align: middle;\n",
              "    }\n",
              "\n",
              "    .dataframe tbody tr th {\n",
              "        vertical-align: top;\n",
              "    }\n",
              "\n",
              "    .dataframe thead th {\n",
              "        text-align: right;\n",
              "    }\n",
              "</style>\n",
              "<table border=\"1\" class=\"dataframe\">\n",
              "  <thead>\n",
              "    <tr style=\"text-align: right;\">\n",
              "      <th></th>\n",
              "      <th>Level</th>\n",
              "      <th>Number of communities</th>\n",
              "      <th>25th Percentile</th>\n",
              "      <th>50th Percentile</th>\n",
              "      <th>75th Percentile</th>\n",
              "      <th>90th Percentile</th>\n",
              "      <th>99th Percentile</th>\n",
              "      <th>Max</th>\n",
              "    </tr>\n",
              "  </thead>\n",
              "  <tbody>\n",
              "    <tr>\n",
              "      <th>0</th>\n",
              "      <td>0</td>\n",
              "      <td>126</td>\n",
              "      <td>1.0</td>\n",
              "      <td>1.0</td>\n",
              "      <td>1.0</td>\n",
              "      <td>1.0</td>\n",
              "      <td>1.0</td>\n",
              "      <td>1</td>\n",
              "    </tr>\n",
              "  </tbody>\n",
              "</table>\n",
              "</div>"
            ],
            "text/plain": [
              "  Level  Number of communities  25th Percentile  50th Percentile  \\\n",
              "0     0                    126              1.0              1.0   \n",
              "\n",
              "   75th Percentile  90th Percentile  99th Percentile  Max  \n",
              "0              1.0              1.0              1.0    1  "
            ]
          },
          "execution_count": 89,
          "metadata": {},
          "output_type": "execute_result"
        }
      ],
      "source": [
        "community_size = graph.query(\n",
        "    \"\"\"\n",
        "MATCH (c:__Community__)<-[:IN_COMMUNITY*]-(e:__Entity__)\n",
        "WITH c, count(distinct e) AS entities\n",
        "RETURN split(c.id, '-')[0] AS level, entities\n",
        "\"\"\"\n",
        ")\n",
        "community_size_df = pd.DataFrame.from_records(community_size)\n",
        "percentiles_data = []\n",
        "for level in community_size_df[\"level\"].unique():\n",
        "    subset = community_size_df[community_size_df[\"level\"] == level][\"entities\"]\n",
        "    num_communities = len(subset)\n",
        "    percentiles = np.percentile(subset, [25, 50, 75, 90, 99])\n",
        "    percentiles_data.append(\n",
        "        [\n",
        "            level,\n",
        "            num_communities,\n",
        "            percentiles[0],\n",
        "            percentiles[1],\n",
        "            percentiles[2],\n",
        "            percentiles[3],\n",
        "            percentiles[4],\n",
        "            max(subset)\n",
        "        ]\n",
        "    )\n",
        "\n",
        "# Create a DataFrame with the percentiles\n",
        "percentiles_df = pd.DataFrame(\n",
        "    percentiles_data,\n",
        "    columns=[\n",
        "        \"Level\",\n",
        "        \"Number of communities\",\n",
        "        \"25th Percentile\",\n",
        "        \"50th Percentile\",\n",
        "        \"75th Percentile\",\n",
        "        \"90th Percentile\",\n",
        "        \"99th Percentile\",\n",
        "        \"Max\"\n",
        "    ],\n",
        ")\n",
        "percentiles_df\n"
      ]
    },
    {
      "cell_type": "markdown",
      "metadata": {
        "id": "FLE47rf9iYIh"
      },
      "source": [
        "In the original implementation, communities on every level were summarized. In our case, that would be 8,590 communities and, consequently, 8,590 LLM calls. I would argue that depending on the hierarchical community structure, not every level needs to be summarized. For example, the difference between the last and the next-to-last level is only four communities (1,192 vs. 1,188). Therefore, we would be creating a lot of redundant summaries. One solution is to create an implementation that can make a single summary for communities on different levels that don’t change; another one would be to collapse community hierarchies that don’t change.\n",
        "\n",
        "Also, I am unsure if we want to summarize communities with only one member, as they might not provide much value or information. Here, we will summarize communities on levels 0, 1, and 4. First, we need to retrieve their information from the database:"
      ]
    },
    {
      "cell_type": "code",
      "execution_count": 90,
      "metadata": {
        "id": "A4NuLhY0mm3B"
      },
      "outputs": [],
      "source": [
        "community_info = graph.query(\"\"\"\n",
        "MATCH (c:`__Community__`)<-[:IN_COMMUNITY*]-(e:__Entity__)\n",
        "WHERE c.level IN [0,1,4]\n",
        "WITH c, collect(e ) AS nodes\n",
        "WHERE size(nodes) > 1\n",
        "CALL apoc.path.subgraphAll(nodes[0], {\n",
        "\twhitelistNodes:nodes\n",
        "})\n",
        "YIELD relationships\n",
        "RETURN c.id AS communityId,\n",
        "       [n in nodes | {id: n.id, description: n.description, type: [el in labels(n) WHERE el <> '__Entity__'][0]}] AS nodes,\n",
        "       [r in relationships | {start: startNode(r).id, type: type(r), end: endNode(r).id, description: r.description}] AS rels\n",
        "\"\"\")"
      ]
    },
    {
      "cell_type": "code",
      "execution_count": 91,
      "metadata": {
        "colab": {
          "base_uri": "https://localhost:8080/"
        },
        "id": "Ur4JkHkLe3_i",
        "outputId": "90445e3d-b3bc-4d54-d9b4-b96e8a568657"
      },
      "outputs": [
        {
          "ename": "IndexError",
          "evalue": "list index out of range",
          "output_type": "error",
          "traceback": [
            "\u001b[1;31m---------------------------------------------------------------------------\u001b[0m",
            "\u001b[1;31mIndexError\u001b[0m                                Traceback (most recent call last)",
            "Cell \u001b[1;32mIn[91], line 1\u001b[0m\n\u001b[1;32m----> 1\u001b[0m \u001b[43mcommunity_info\u001b[49m\u001b[43m[\u001b[49m\u001b[38;5;241;43m2\u001b[39;49m\u001b[43m]\u001b[49m\n",
            "\u001b[1;31mIndexError\u001b[0m: list index out of range"
          ]
        }
      ],
      "source": [
        "community_info[2]"
      ]
    },
    {
      "cell_type": "markdown",
      "metadata": {
        "id": "T_ybgPpwieQk"
      },
      "source": [
        "Now, we need to prepare an LLM prompt that generates a natural language summarization based on the information provided by the elements of our community. We can take some inspiration from the [prompt the researchers used](https://github.com/microsoft/graphrag/blob/main/graphrag/prompt_tune/template/community_report_summarization.py).\n",
        "\n",
        "The authors not only summarized communities but also generated findings for each of them. A finding can be defined as concise information regarding a specific event or piece of information. One such example:\n",
        "```\n",
        "\"summary\": \"Abila City Park as the central location\",\n",
        "\"explanation\": \"Abila City Park is the central entity in this community, serving as the location for the POK rally. This park is the common link between all other\n",
        "entities, suggesting its significance in the community. The park's association with the rally could potentially lead to issues such as public disorder or conflict, depending on the\n",
        "nature of the rally and the reactions it provokes. [records: Entities (5), Relationships (37, 38, 39, 40)]\"\n",
        "```\n",
        "My intuition suggests that extracting findings with just a single pass might not be as comprehensive as we need, much like extracting entities and relationships.\n",
        "\n",
        "Furthermore, I have not found any references or examples of their use in their code in either local or global search retrievers. As a result, we’ll refrain from extracting findings in this instance. Or, as academics often put it: This exercise is left to the reader. Additionally, we have also skipped the claims or covariate information extraction, which looks similar to findings at first glance.\n",
        "\n",
        "The prompt we’ll use to produce the community summaries is fairly straightforward:"
      ]
    },
    {
      "cell_type": "code",
      "execution_count": 92,
      "metadata": {
        "id": "Tnc8aqN_e5M7"
      },
      "outputs": [],
      "source": [
        "from langchain_core.prompts import ChatPromptTemplate\n",
        "from langchain_core.output_parsers import StrOutputParser\n",
        "\n",
        "community_template = \"\"\"Based on the provided nodes and relationships that belong to the same graph community,\n",
        "generate a natural language summary of the provided information:\n",
        "{community_info}\n",
        "\n",
        "Summary:\"\"\"  # noqa: E501\n",
        "\n",
        "community_prompt = ChatPromptTemplate.from_messages(\n",
        "    [\n",
        "        (\n",
        "            \"system\",\n",
        "            \"Given an input triples, generate the information summary. No pre-amble.\",\n",
        "        ),\n",
        "        (\"human\", community_template),\n",
        "    ]\n",
        ")\n",
        "\n",
        "community_chain = community_prompt | llm | StrOutputParser()"
      ]
    },
    {
      "cell_type": "markdown",
      "metadata": {
        "id": "S6PdeC7WisWp"
      },
      "source": [
        "The only thing left is to turn community representations into strings to reduce the number of tokens by avoiding JSON token overhead and wrap the chain as a function:"
      ]
    },
    {
      "cell_type": "code",
      "execution_count": 93,
      "metadata": {
        "id": "KdcKulkxVsXc"
      },
      "outputs": [],
      "source": [
        "def prepare_string(data):\n",
        "    nodes_str = \"Nodes are:\\n\"\n",
        "    for node in data['nodes']:\n",
        "        node_id = node['id']\n",
        "        node_type = node['type']\n",
        "        if 'description' in node and node['description']:\n",
        "            node_description = f\", description: {node['description']}\"\n",
        "        else:\n",
        "            node_description = \"\"\n",
        "        nodes_str += f\"id: {node_id}, type: {node_type}{node_description}\\n\"\n",
        "\n",
        "    rels_str = \"Relationships are:\\n\"\n",
        "    for rel in data['rels']:\n",
        "        start = rel['start']\n",
        "        end = rel['end']\n",
        "        rel_type = rel['type']\n",
        "        if 'description' in rel and rel['description']:\n",
        "            description = f\", description: {rel['description']}\"\n",
        "        else:\n",
        "            description = \"\"\n",
        "        rels_str += f\"({start})-[:{rel_type}]->({end}){description}\\n\"\n",
        "\n",
        "    return nodes_str + \"\\n\" + rels_str\n",
        "\n",
        "def process_community(community):\n",
        "    stringify_info = prepare_string(community)\n",
        "    summary = community_chain.invoke({'community_info': stringify_info})\n",
        "    return {\"community\": community['communityId'], \"summary\": summary}"
      ]
    },
    {
      "cell_type": "code",
      "execution_count": 94,
      "metadata": {
        "colab": {
          "base_uri": "https://localhost:8080/"
        },
        "id": "F4RC8ydEWB0N",
        "outputId": "aa698b81-98d6-4c63-af9f-dddde30a4e83"
      },
      "outputs": [
        {
          "ename": "IndexError",
          "evalue": "list index out of range",
          "output_type": "error",
          "traceback": [
            "\u001b[1;31m---------------------------------------------------------------------------\u001b[0m",
            "\u001b[1;31mIndexError\u001b[0m                                Traceback (most recent call last)",
            "Cell \u001b[1;32mIn[94], line 1\u001b[0m\n\u001b[1;32m----> 1\u001b[0m \u001b[38;5;28mprint\u001b[39m(prepare_string(\u001b[43mcommunity_info\u001b[49m\u001b[43m[\u001b[49m\u001b[38;5;241;43m3\u001b[39;49m\u001b[43m]\u001b[49m))\n",
            "\u001b[1;31mIndexError\u001b[0m: list index out of range"
          ]
        }
      ],
      "source": [
        "print(prepare_string(community_info[3]))"
      ]
    },
    {
      "cell_type": "markdown",
      "metadata": {
        "id": "uNnO_edyiwa0"
      },
      "source": [
        "Now we can generate community summaries for the selected levels. Again, we parallelize calls for faster execution:"
      ]
    },
    {
      "cell_type": "code",
      "execution_count": 95,
      "metadata": {
        "colab": {
          "base_uri": "https://localhost:8080/"
        },
        "id": "5IERhJ3jgWtk",
        "outputId": "ec085ca8-8e1a-4445-8e57-5018105941e2"
      },
      "outputs": [
        {
          "name": "stderr",
          "output_type": "stream",
          "text": [
            "Processing communities: 0it [00:00, ?it/s]\n"
          ]
        }
      ],
      "source": [
        "summaries = []\n",
        "with ThreadPoolExecutor() as executor:\n",
        "    futures = {executor.submit(process_community, community): community for community in community_info}\n",
        "\n",
        "    for future in tqdm(as_completed(futures), total=len(futures), desc=\"Processing communities\"):\n",
        "        summaries.append(future.result())"
      ]
    },
    {
      "cell_type": "markdown",
      "metadata": {
        "id": "sk2DEFEFi2ry"
      },
      "source": [
        "One aspect I didn’t mention is that the authors also address the potential issue of exceeding context size when inputting community information. As graphs expand, the communities can grow significantly as well. In our case, the largest community comprised 545 members. Given that GPT-4o has a context size exceeding 100,000 tokens, we decided to skip this step.\n",
        "\n",
        "As our final step, we will store the community summaries back to the database:"
      ]
    },
    {
      "cell_type": "code",
      "execution_count": 96,
      "metadata": {
        "colab": {
          "base_uri": "https://localhost:8080/"
        },
        "id": "mKymAMJehSkw",
        "outputId": "857a4cee-1222-499c-9842-6e01a0e592e0"
      },
      "outputs": [
        {
          "data": {
            "text/plain": [
              "[]"
            ]
          },
          "execution_count": 96,
          "metadata": {},
          "output_type": "execute_result"
        }
      ],
      "source": [
        "# Store summaries\n",
        "graph.query(\"\"\"\n",
        "UNWIND $data AS row\n",
        "MERGE (c:__Community__ {id:row.community})\n",
        "SET c.summary = row.summary\n",
        "\"\"\", params={\"data\": summaries})"
      ]
    },
    {
      "cell_type": "markdown",
      "metadata": {
        "id": "xLX6Wrqai-sD"
      },
      "source": [
        "The final graph structure:\n",
        "\n",
        "![title](https://miro.medium.com/v2/resize:fit:1400/format:webp/1*rkgiVH20AuG1X-rMzTipXQ.png)\n",
        "\n",
        "The graph now contains the original documents, extracted entities and relationships, as well as hierarchical community structure and summaries.\n",
        "\n",
        "Summary\n",
        "The authors of the “From Local to Global” paper have done a great job in demonstrating a new approach to GraphRAG. They show how we can combine and summarize information from various documents into a hierarchical knowledge graph structure.\n",
        "\n",
        "One thing that isn’t explicitly mentioned is that we can also integrate structured data sources in a graph; the input doesn’t have to be limited to unstructured text only.\n",
        "\n",
        "What I particularly appreciate about their extraction approach is that they capture descriptions for both nodes and relationships. Descriptions allow the LLM to retain more information than reducing everything to just node IDs and relationship types.\n",
        "\n",
        "Additionally, they demonstrate that a single extraction pass over the text might not capture all relevant information and introduce logic to perform multiple passes if necessary. The authors also present an interesting idea for performing summarizations over graph communities, allowing us to embed and index condensed topical information across multiple data sources.\n",
        "\n",
        "In the next blog post, we will go over the local and global search retriever implementations and talk about other approaches we could implement based on the given graph structure."
      ]
    },
    {
      "cell_type": "code",
      "execution_count": null,
      "metadata": {
        "id": "Y30zWS6FXya6"
      },
      "outputs": [],
      "source": []
    },
    {
      "cell_type": "code",
      "execution_count": null,
      "metadata": {
        "id": "PcPPm1tJi9c6"
      },
      "outputs": [],
      "source": []
    }
  ],
  "metadata": {
    "colab": {
      "authorship_tag": "ABX9TyOgOLIEBDxiSBtGn1xLBXHD",
      "include_colab_link": true,
      "provenance": []
    },
    "kernelspec": {
      "display_name": ".venv",
      "language": "python",
      "name": "python3"
    },
    "language_info": {
      "codemirror_mode": {
        "name": "ipython",
        "version": 3
      },
      "file_extension": ".py",
      "mimetype": "text/x-python",
      "name": "python",
      "nbconvert_exporter": "python",
      "pygments_lexer": "ipython3",
      "version": "3.11.9"
    },
    "widgets": {
      "application/vnd.jupyter.widget-state+json": {
        "06b5fd0836ec4f48ba62e44b2717279b": {
          "model_module": "@jupyter-widgets/base",
          "model_module_version": "1.2.0",
          "model_name": "LayoutModel",
          "state": {
            "_model_module": "@jupyter-widgets/base",
            "_model_module_version": "1.2.0",
            "_model_name": "LayoutModel",
            "_view_count": null,
            "_view_module": "@jupyter-widgets/base",
            "_view_module_version": "1.2.0",
            "_view_name": "LayoutView",
            "align_content": null,
            "align_items": null,
            "align_self": null,
            "border": null,
            "bottom": null,
            "display": null,
            "flex": null,
            "flex_flow": null,
            "grid_area": null,
            "grid_auto_columns": null,
            "grid_auto_flow": null,
            "grid_auto_rows": null,
            "grid_column": null,
            "grid_gap": null,
            "grid_row": null,
            "grid_template_areas": null,
            "grid_template_columns": null,
            "grid_template_rows": null,
            "height": null,
            "justify_content": null,
            "justify_items": null,
            "left": null,
            "margin": null,
            "max_height": null,
            "max_width": null,
            "min_height": null,
            "min_width": null,
            "object_fit": null,
            "object_position": null,
            "order": null,
            "overflow": null,
            "overflow_x": null,
            "overflow_y": null,
            "padding": null,
            "right": null,
            "top": null,
            "visibility": null,
            "width": null
          }
        },
        "290b8c08c2b648889c5ac98e59efbb70": {
          "model_module": "@jupyter-widgets/base",
          "model_module_version": "1.2.0",
          "model_name": "LayoutModel",
          "state": {
            "_model_module": "@jupyter-widgets/base",
            "_model_module_version": "1.2.0",
            "_model_name": "LayoutModel",
            "_view_count": null,
            "_view_module": "@jupyter-widgets/base",
            "_view_module_version": "1.2.0",
            "_view_name": "LayoutView",
            "align_content": null,
            "align_items": null,
            "align_self": null,
            "border": null,
            "bottom": null,
            "display": null,
            "flex": null,
            "flex_flow": null,
            "grid_area": null,
            "grid_auto_columns": null,
            "grid_auto_flow": null,
            "grid_auto_rows": null,
            "grid_column": null,
            "grid_gap": null,
            "grid_row": null,
            "grid_template_areas": null,
            "grid_template_columns": null,
            "grid_template_rows": null,
            "height": null,
            "justify_content": null,
            "justify_items": null,
            "left": null,
            "margin": null,
            "max_height": null,
            "max_width": null,
            "min_height": null,
            "min_width": null,
            "object_fit": null,
            "object_position": null,
            "order": null,
            "overflow": null,
            "overflow_x": null,
            "overflow_y": null,
            "padding": null,
            "right": null,
            "top": null,
            "visibility": null,
            "width": null
          }
        },
        "37adfa0460674f18b40c32e7d412ad98": {
          "model_module": "@jupyter-widgets/controls",
          "model_module_version": "1.5.0",
          "model_name": "DescriptionStyleModel",
          "state": {
            "_model_module": "@jupyter-widgets/controls",
            "_model_module_version": "1.5.0",
            "_model_name": "DescriptionStyleModel",
            "_view_count": null,
            "_view_module": "@jupyter-widgets/base",
            "_view_module_version": "1.2.0",
            "_view_name": "StyleView",
            "description_width": ""
          }
        },
        "3882f5d9054d48cda5b5e2009ad7a9b6": {
          "model_module": "@jupyter-widgets/controls",
          "model_module_version": "1.5.0",
          "model_name": "HBoxModel",
          "state": {
            "_dom_classes": [],
            "_model_module": "@jupyter-widgets/controls",
            "_model_module_version": "1.5.0",
            "_model_name": "HBoxModel",
            "_view_count": null,
            "_view_module": "@jupyter-widgets/controls",
            "_view_module_version": "1.5.0",
            "_view_name": "HBoxView",
            "box_style": "",
            "children": [
              "IPY_MODEL_eb7841f10d1948389920a24690ef421b",
              "IPY_MODEL_71885f8fda5246fc8e6c5e3797679158",
              "IPY_MODEL_c285ed227c16418ba6a0c48b353d72ee"
            ],
            "layout": "IPY_MODEL_8316bd062e1f45118452ee31be1dc195"
          }
        },
        "388614f2882a449fb87e9453b2a7f527": {
          "model_module": "@jupyter-widgets/controls",
          "model_module_version": "1.5.0",
          "model_name": "DescriptionStyleModel",
          "state": {
            "_model_module": "@jupyter-widgets/controls",
            "_model_module_version": "1.5.0",
            "_model_name": "DescriptionStyleModel",
            "_view_count": null,
            "_view_module": "@jupyter-widgets/base",
            "_view_module_version": "1.2.0",
            "_view_name": "StyleView",
            "description_width": ""
          }
        },
        "3d221ca56d12435abfc8f0468f143e7d": {
          "model_module": "@jupyter-widgets/base",
          "model_module_version": "1.2.0",
          "model_name": "LayoutModel",
          "state": {
            "_model_module": "@jupyter-widgets/base",
            "_model_module_version": "1.2.0",
            "_model_name": "LayoutModel",
            "_view_count": null,
            "_view_module": "@jupyter-widgets/base",
            "_view_module_version": "1.2.0",
            "_view_name": "LayoutView",
            "align_content": null,
            "align_items": null,
            "align_self": null,
            "border": null,
            "bottom": null,
            "display": null,
            "flex": null,
            "flex_flow": null,
            "grid_area": null,
            "grid_auto_columns": null,
            "grid_auto_flow": null,
            "grid_auto_rows": null,
            "grid_column": null,
            "grid_gap": null,
            "grid_row": null,
            "grid_template_areas": null,
            "grid_template_columns": null,
            "grid_template_rows": null,
            "height": null,
            "justify_content": null,
            "justify_items": null,
            "left": null,
            "margin": null,
            "max_height": null,
            "max_width": null,
            "min_height": null,
            "min_width": null,
            "object_fit": null,
            "object_position": null,
            "order": null,
            "overflow": null,
            "overflow_x": null,
            "overflow_y": null,
            "padding": null,
            "right": null,
            "top": null,
            "visibility": null,
            "width": null
          }
        },
        "47751790b8d94346bf786df2fcaf16b5": {
          "model_module": "@jupyter-widgets/controls",
          "model_module_version": "1.5.0",
          "model_name": "DescriptionStyleModel",
          "state": {
            "_model_module": "@jupyter-widgets/controls",
            "_model_module_version": "1.5.0",
            "_model_name": "DescriptionStyleModel",
            "_view_count": null,
            "_view_module": "@jupyter-widgets/base",
            "_view_module_version": "1.2.0",
            "_view_name": "StyleView",
            "description_width": ""
          }
        },
        "49dde26b14ac4aa2aa54651453009aeb": {
          "model_module": "@jupyter-widgets/controls",
          "model_module_version": "1.5.0",
          "model_name": "DescriptionStyleModel",
          "state": {
            "_model_module": "@jupyter-widgets/controls",
            "_model_module_version": "1.5.0",
            "_model_name": "DescriptionStyleModel",
            "_view_count": null,
            "_view_module": "@jupyter-widgets/base",
            "_view_module_version": "1.2.0",
            "_view_name": "StyleView",
            "description_width": ""
          }
        },
        "55ecc81af9c44546b8a8140a821003ac": {
          "model_module": "@jupyter-widgets/controls",
          "model_module_version": "1.5.0",
          "model_name": "FloatProgressModel",
          "state": {
            "_dom_classes": [],
            "_model_module": "@jupyter-widgets/controls",
            "_model_module_version": "1.5.0",
            "_model_name": "FloatProgressModel",
            "_view_count": null,
            "_view_module": "@jupyter-widgets/controls",
            "_view_module_version": "1.5.0",
            "_view_name": "ProgressView",
            "bar_style": "success",
            "description": "",
            "description_tooltip": null,
            "layout": "IPY_MODEL_aca4392d8f0640d19026ad011e047e42",
            "max": 100,
            "min": 0,
            "orientation": "horizontal",
            "style": "IPY_MODEL_76562367afe7484ab28e83d450e45785",
            "value": 100
          }
        },
        "60ed05fde48d44ac831cd72e5e249b28": {
          "model_module": "@jupyter-widgets/base",
          "model_module_version": "1.2.0",
          "model_name": "LayoutModel",
          "state": {
            "_model_module": "@jupyter-widgets/base",
            "_model_module_version": "1.2.0",
            "_model_name": "LayoutModel",
            "_view_count": null,
            "_view_module": "@jupyter-widgets/base",
            "_view_module_version": "1.2.0",
            "_view_name": "LayoutView",
            "align_content": null,
            "align_items": null,
            "align_self": null,
            "border": null,
            "bottom": null,
            "display": null,
            "flex": null,
            "flex_flow": null,
            "grid_area": null,
            "grid_auto_columns": null,
            "grid_auto_flow": null,
            "grid_auto_rows": null,
            "grid_column": null,
            "grid_gap": null,
            "grid_row": null,
            "grid_template_areas": null,
            "grid_template_columns": null,
            "grid_template_rows": null,
            "height": null,
            "justify_content": null,
            "justify_items": null,
            "left": null,
            "margin": null,
            "max_height": null,
            "max_width": null,
            "min_height": null,
            "min_width": null,
            "object_fit": null,
            "object_position": null,
            "order": null,
            "overflow": null,
            "overflow_x": null,
            "overflow_y": null,
            "padding": null,
            "right": null,
            "top": null,
            "visibility": null,
            "width": null
          }
        },
        "70e2c72d9d404f4aa8c2b764e7af7b93": {
          "model_module": "@jupyter-widgets/controls",
          "model_module_version": "1.5.0",
          "model_name": "HTMLModel",
          "state": {
            "_dom_classes": [],
            "_model_module": "@jupyter-widgets/controls",
            "_model_module_version": "1.5.0",
            "_model_name": "HTMLModel",
            "_view_count": null,
            "_view_module": "@jupyter-widgets/controls",
            "_view_module_version": "1.5.0",
            "_view_name": "HTMLView",
            "description": "",
            "description_tooltip": null,
            "layout": "IPY_MODEL_d289f0a2b44a4760ad3deb3e52bd529b",
            "placeholder": "​",
            "style": "IPY_MODEL_37adfa0460674f18b40c32e7d412ad98",
            "value": "Knn: 100%"
          }
        },
        "71885f8fda5246fc8e6c5e3797679158": {
          "model_module": "@jupyter-widgets/controls",
          "model_module_version": "1.5.0",
          "model_name": "FloatProgressModel",
          "state": {
            "_dom_classes": [],
            "_model_module": "@jupyter-widgets/controls",
            "_model_module_version": "1.5.0",
            "_model_name": "FloatProgressModel",
            "_view_count": null,
            "_view_module": "@jupyter-widgets/controls",
            "_view_module_version": "1.5.0",
            "_view_name": "ProgressView",
            "bar_style": "success",
            "description": "",
            "description_tooltip": null,
            "layout": "IPY_MODEL_06b5fd0836ec4f48ba62e44b2717279b",
            "max": 100,
            "min": 0,
            "orientation": "horizontal",
            "style": "IPY_MODEL_fc56e53314f34d18a38afd8cb29fafb4",
            "value": 100
          }
        },
        "76562367afe7484ab28e83d450e45785": {
          "model_module": "@jupyter-widgets/controls",
          "model_module_version": "1.5.0",
          "model_name": "ProgressStyleModel",
          "state": {
            "_model_module": "@jupyter-widgets/controls",
            "_model_module_version": "1.5.0",
            "_model_name": "ProgressStyleModel",
            "_view_count": null,
            "_view_module": "@jupyter-widgets/base",
            "_view_module_version": "1.2.0",
            "_view_name": "StyleView",
            "bar_color": null,
            "description_width": ""
          }
        },
        "8316bd062e1f45118452ee31be1dc195": {
          "model_module": "@jupyter-widgets/base",
          "model_module_version": "1.2.0",
          "model_name": "LayoutModel",
          "state": {
            "_model_module": "@jupyter-widgets/base",
            "_model_module_version": "1.2.0",
            "_model_name": "LayoutModel",
            "_view_count": null,
            "_view_module": "@jupyter-widgets/base",
            "_view_module_version": "1.2.0",
            "_view_name": "LayoutView",
            "align_content": null,
            "align_items": null,
            "align_self": null,
            "border": null,
            "bottom": null,
            "display": null,
            "flex": null,
            "flex_flow": null,
            "grid_area": null,
            "grid_auto_columns": null,
            "grid_auto_flow": null,
            "grid_auto_rows": null,
            "grid_column": null,
            "grid_gap": null,
            "grid_row": null,
            "grid_template_areas": null,
            "grid_template_columns": null,
            "grid_template_rows": null,
            "height": null,
            "justify_content": null,
            "justify_items": null,
            "left": null,
            "margin": null,
            "max_height": null,
            "max_width": null,
            "min_height": null,
            "min_width": null,
            "object_fit": null,
            "object_position": null,
            "order": null,
            "overflow": null,
            "overflow_x": null,
            "overflow_y": null,
            "padding": null,
            "right": null,
            "top": null,
            "visibility": null,
            "width": null
          }
        },
        "8502377116284921bc42589b482d38d9": {
          "model_module": "@jupyter-widgets/base",
          "model_module_version": "1.2.0",
          "model_name": "LayoutModel",
          "state": {
            "_model_module": "@jupyter-widgets/base",
            "_model_module_version": "1.2.0",
            "_model_name": "LayoutModel",
            "_view_count": null,
            "_view_module": "@jupyter-widgets/base",
            "_view_module_version": "1.2.0",
            "_view_name": "LayoutView",
            "align_content": null,
            "align_items": null,
            "align_self": null,
            "border": null,
            "bottom": null,
            "display": null,
            "flex": null,
            "flex_flow": null,
            "grid_area": null,
            "grid_auto_columns": null,
            "grid_auto_flow": null,
            "grid_auto_rows": null,
            "grid_column": null,
            "grid_gap": null,
            "grid_row": null,
            "grid_template_areas": null,
            "grid_template_columns": null,
            "grid_template_rows": null,
            "height": null,
            "justify_content": null,
            "justify_items": null,
            "left": null,
            "margin": null,
            "max_height": null,
            "max_width": null,
            "min_height": null,
            "min_width": null,
            "object_fit": null,
            "object_position": null,
            "order": null,
            "overflow": null,
            "overflow_x": null,
            "overflow_y": null,
            "padding": null,
            "right": null,
            "top": null,
            "visibility": null,
            "width": null
          }
        },
        "aca4392d8f0640d19026ad011e047e42": {
          "model_module": "@jupyter-widgets/base",
          "model_module_version": "1.2.0",
          "model_name": "LayoutModel",
          "state": {
            "_model_module": "@jupyter-widgets/base",
            "_model_module_version": "1.2.0",
            "_model_name": "LayoutModel",
            "_view_count": null,
            "_view_module": "@jupyter-widgets/base",
            "_view_module_version": "1.2.0",
            "_view_name": "LayoutView",
            "align_content": null,
            "align_items": null,
            "align_self": null,
            "border": null,
            "bottom": null,
            "display": null,
            "flex": null,
            "flex_flow": null,
            "grid_area": null,
            "grid_auto_columns": null,
            "grid_auto_flow": null,
            "grid_auto_rows": null,
            "grid_column": null,
            "grid_gap": null,
            "grid_row": null,
            "grid_template_areas": null,
            "grid_template_columns": null,
            "grid_template_rows": null,
            "height": null,
            "justify_content": null,
            "justify_items": null,
            "left": null,
            "margin": null,
            "max_height": null,
            "max_width": null,
            "min_height": null,
            "min_width": null,
            "object_fit": null,
            "object_position": null,
            "order": null,
            "overflow": null,
            "overflow_x": null,
            "overflow_y": null,
            "padding": null,
            "right": null,
            "top": null,
            "visibility": null,
            "width": null
          }
        },
        "c285ed227c16418ba6a0c48b353d72ee": {
          "model_module": "@jupyter-widgets/controls",
          "model_module_version": "1.5.0",
          "model_name": "HTMLModel",
          "state": {
            "_dom_classes": [],
            "_model_module": "@jupyter-widgets/controls",
            "_model_module_version": "1.5.0",
            "_model_name": "HTMLModel",
            "_view_count": null,
            "_view_module": "@jupyter-widgets/controls",
            "_view_module_version": "1.5.0",
            "_view_name": "HTMLView",
            "description": "",
            "description_tooltip": null,
            "layout": "IPY_MODEL_8502377116284921bc42589b482d38d9",
            "placeholder": "​",
            "style": "IPY_MODEL_49dde26b14ac4aa2aa54651453009aeb",
            "value": " 100.0/100 [00:23&lt;00:00, 486.60%/s]"
          }
        },
        "c3da34580c2342d597c65787cb15013e": {
          "model_module": "@jupyter-widgets/controls",
          "model_module_version": "1.5.0",
          "model_name": "HTMLModel",
          "state": {
            "_dom_classes": [],
            "_model_module": "@jupyter-widgets/controls",
            "_model_module_version": "1.5.0",
            "_model_name": "HTMLModel",
            "_view_count": null,
            "_view_module": "@jupyter-widgets/controls",
            "_view_module_version": "1.5.0",
            "_view_name": "HTMLView",
            "description": "",
            "description_tooltip": null,
            "layout": "IPY_MODEL_60ed05fde48d44ac831cd72e5e249b28",
            "placeholder": "​",
            "style": "IPY_MODEL_47751790b8d94346bf786df2fcaf16b5",
            "value": " 100.0/100 [44:30&lt;00:00,  1.49%/s]"
          }
        },
        "d289f0a2b44a4760ad3deb3e52bd529b": {
          "model_module": "@jupyter-widgets/base",
          "model_module_version": "1.2.0",
          "model_name": "LayoutModel",
          "state": {
            "_model_module": "@jupyter-widgets/base",
            "_model_module_version": "1.2.0",
            "_model_name": "LayoutModel",
            "_view_count": null,
            "_view_module": "@jupyter-widgets/base",
            "_view_module_version": "1.2.0",
            "_view_name": "LayoutView",
            "align_content": null,
            "align_items": null,
            "align_self": null,
            "border": null,
            "bottom": null,
            "display": null,
            "flex": null,
            "flex_flow": null,
            "grid_area": null,
            "grid_auto_columns": null,
            "grid_auto_flow": null,
            "grid_auto_rows": null,
            "grid_column": null,
            "grid_gap": null,
            "grid_row": null,
            "grid_template_areas": null,
            "grid_template_columns": null,
            "grid_template_rows": null,
            "height": null,
            "justify_content": null,
            "justify_items": null,
            "left": null,
            "margin": null,
            "max_height": null,
            "max_width": null,
            "min_height": null,
            "min_width": null,
            "object_fit": null,
            "object_position": null,
            "order": null,
            "overflow": null,
            "overflow_x": null,
            "overflow_y": null,
            "padding": null,
            "right": null,
            "top": null,
            "visibility": null,
            "width": null
          }
        },
        "df4cec7aa8f144e4bfcbb0dcbf1b1746": {
          "model_module": "@jupyter-widgets/controls",
          "model_module_version": "1.5.0",
          "model_name": "HBoxModel",
          "state": {
            "_dom_classes": [],
            "_model_module": "@jupyter-widgets/controls",
            "_model_module_version": "1.5.0",
            "_model_name": "HBoxModel",
            "_view_count": null,
            "_view_module": "@jupyter-widgets/controls",
            "_view_module_version": "1.5.0",
            "_view_name": "HBoxView",
            "box_style": "",
            "children": [
              "IPY_MODEL_70e2c72d9d404f4aa8c2b764e7af7b93",
              "IPY_MODEL_55ecc81af9c44546b8a8140a821003ac",
              "IPY_MODEL_c3da34580c2342d597c65787cb15013e"
            ],
            "layout": "IPY_MODEL_290b8c08c2b648889c5ac98e59efbb70"
          }
        },
        "eb7841f10d1948389920a24690ef421b": {
          "model_module": "@jupyter-widgets/controls",
          "model_module_version": "1.5.0",
          "model_name": "HTMLModel",
          "state": {
            "_dom_classes": [],
            "_model_module": "@jupyter-widgets/controls",
            "_model_module_version": "1.5.0",
            "_model_name": "HTMLModel",
            "_view_count": null,
            "_view_module": "@jupyter-widgets/controls",
            "_view_module_version": "1.5.0",
            "_view_name": "HTMLView",
            "description": "",
            "description_tooltip": null,
            "layout": "IPY_MODEL_3d221ca56d12435abfc8f0468f143e7d",
            "placeholder": "​",
            "style": "IPY_MODEL_388614f2882a449fb87e9453b2a7f527",
            "value": "Loading: 100%"
          }
        },
        "fc56e53314f34d18a38afd8cb29fafb4": {
          "model_module": "@jupyter-widgets/controls",
          "model_module_version": "1.5.0",
          "model_name": "ProgressStyleModel",
          "state": {
            "_model_module": "@jupyter-widgets/controls",
            "_model_module_version": "1.5.0",
            "_model_name": "ProgressStyleModel",
            "_view_count": null,
            "_view_module": "@jupyter-widgets/base",
            "_view_module_version": "1.2.0",
            "_view_name": "StyleView",
            "bar_color": null,
            "description_width": ""
          }
        }
      }
    }
  },
  "nbformat": 4,
  "nbformat_minor": 0
}
